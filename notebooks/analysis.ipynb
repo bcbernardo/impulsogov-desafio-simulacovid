{
 "cells": [
  {
   "cell_type": "markdown",
   "id": "impressed-sheriff",
   "metadata": {},
   "source": [
    "# Comparação entre modelos"
   ]
  },
  {
   "cell_type": "markdown",
   "id": "israeli-marine",
   "metadata": {},
   "source": [
    "## Preparar o ambiente"
   ]
  },
  {
   "cell_type": "code",
   "execution_count": 3,
   "id": "silver-retreat",
   "metadata": {},
   "outputs": [],
   "source": [
    "import numpy as np\n",
    "import pandas as pd\n",
    "import plotly.express as px\n",
    "from sklearn.metrics import mean_squared_error"
   ]
  },
  {
   "cell_type": "markdown",
   "id": "complimentary-county",
   "metadata": {},
   "source": [
    "## Carregar os dados da retroprevisão"
   ]
  },
  {
   "cell_type": "markdown",
   "id": "amino-avenue",
   "metadata": {},
   "source": [
    "Para esta análise, utilizaremos os dados da simulação gerados com o notebook `simulation.ipynb`, bem como dados de casos retirados do [Brasil.IO](https://brasil.io/dataset/covid19/caso_full/) e tratados pelo [CoronaCidades](https://github.com/ImpulsoGov/coronacidades-datasource/)."
   ]
  },
  {
   "cell_type": "code",
   "execution_count": 4,
   "id": "destroyed-dutch",
   "metadata": {},
   "outputs": [
    {
     "data": {
      "text/html": [
       "<div>\n",
       "<style scoped>\n",
       "    .dataframe tbody tr th:only-of-type {\n",
       "        vertical-align: middle;\n",
       "    }\n",
       "\n",
       "    .dataframe tbody tr th {\n",
       "        vertical-align: top;\n",
       "    }\n",
       "\n",
       "    .dataframe thead th {\n",
       "        text-align: right;\n",
       "    }\n",
       "</style>\n",
       "<table border=\"1\" class=\"dataframe\">\n",
       "  <thead>\n",
       "    <tr style=\"text-align: right;\">\n",
       "      <th></th>\n",
       "      <th>days</th>\n",
       "      <th>S</th>\n",
       "      <th>E0</th>\n",
       "      <th>E1</th>\n",
       "      <th>I0</th>\n",
       "      <th>I1</th>\n",
       "      <th>I2</th>\n",
       "      <th>I3</th>\n",
       "      <th>R</th>\n",
       "      <th>D</th>\n",
       "      <th>N</th>\n",
       "      <th>E</th>\n",
       "      <th>scenario</th>\n",
       "      <th>model</th>\n",
       "      <th>date_prediction</th>\n",
       "      <th>state_num_id</th>\n",
       "    </tr>\n",
       "  </thead>\n",
       "  <tbody>\n",
       "    <tr>\n",
       "      <th>0</th>\n",
       "      <td>1</td>\n",
       "      <td>4.565597e+07</td>\n",
       "      <td>1.000644e+05</td>\n",
       "      <td>6.670963e+04</td>\n",
       "      <td>2.755470e+04</td>\n",
       "      <td>6.140671e+04</td>\n",
       "      <td>2389.728066</td>\n",
       "      <td>497.860014</td>\n",
       "      <td>4.367000e+03</td>\n",
       "      <td>84.000000</td>\n",
       "      <td>4.591905e+07</td>\n",
       "      <td>1.667741e+05</td>\n",
       "      <td>worst</td>\n",
       "      <td>SEAPMDR</td>\n",
       "      <td>2020-03-28</td>\n",
       "      <td>35</td>\n",
       "    </tr>\n",
       "    <tr>\n",
       "      <th>1</th>\n",
       "      <td>2</td>\n",
       "      <td>1.396044e-09</td>\n",
       "      <td>3.278580e+07</td>\n",
       "      <td>1.010676e+07</td>\n",
       "      <td>8.520469e+05</td>\n",
       "      <td>1.985665e+06</td>\n",
       "      <td>6559.756994</td>\n",
       "      <td>534.861761</td>\n",
       "      <td>1.815116e+05</td>\n",
       "      <td>170.119344</td>\n",
       "      <td>4.591905e+07</td>\n",
       "      <td>4.289256e+07</td>\n",
       "      <td>worst</td>\n",
       "      <td>SEAPMDR</td>\n",
       "      <td>2020-03-28</td>\n",
       "      <td>35</td>\n",
       "    </tr>\n",
       "    <tr>\n",
       "      <th>2</th>\n",
       "      <td>3</td>\n",
       "      <td>-1.502009e-10</td>\n",
       "      <td>2.349205e+07</td>\n",
       "      <td>1.334298e+07</td>\n",
       "      <td>2.401212e+06</td>\n",
       "      <td>5.600759e+06</td>\n",
       "      <td>27414.526944</td>\n",
       "      <td>893.371300</td>\n",
       "      <td>1.053456e+06</td>\n",
       "      <td>283.465823</td>\n",
       "      <td>4.591905e+07</td>\n",
       "      <td>3.683503e+07</td>\n",
       "      <td>worst</td>\n",
       "      <td>SEAPMDR</td>\n",
       "      <td>2020-03-28</td>\n",
       "      <td>35</td>\n",
       "    </tr>\n",
       "    <tr>\n",
       "      <th>3</th>\n",
       "      <td>4</td>\n",
       "      <td>-6.815688e-14</td>\n",
       "      <td>1.683279e+07</td>\n",
       "      <td>1.326121e+07</td>\n",
       "      <td>3.895125e+06</td>\n",
       "      <td>9.086873e+06</td>\n",
       "      <td>66014.250543</td>\n",
       "      <td>2026.532316</td>\n",
       "      <td>2.774495e+06</td>\n",
       "      <td>517.519017</td>\n",
       "      <td>4.591905e+07</td>\n",
       "      <td>3.009400e+07</td>\n",
       "      <td>worst</td>\n",
       "      <td>SEAPMDR</td>\n",
       "      <td>2020-03-28</td>\n",
       "      <td>35</td>\n",
       "    </tr>\n",
       "    <tr>\n",
       "      <th>4</th>\n",
       "      <td>5</td>\n",
       "      <td>3.954639e-16</td>\n",
       "      <td>1.206122e+07</td>\n",
       "      <td>1.174656e+07</td>\n",
       "      <td>5.031299e+06</td>\n",
       "      <td>1.173822e+07</td>\n",
       "      <td>116438.288104</td>\n",
       "      <td>4248.530970</td>\n",
       "      <td>5.220026e+06</td>\n",
       "      <td>1033.420015</td>\n",
       "      <td>4.591905e+07</td>\n",
       "      <td>2.380779e+07</td>\n",
       "      <td>worst</td>\n",
       "      <td>SEAPMDR</td>\n",
       "      <td>2020-03-28</td>\n",
       "      <td>35</td>\n",
       "    </tr>\n",
       "    <tr>\n",
       "      <th>...</th>\n",
       "      <td>...</td>\n",
       "      <td>...</td>\n",
       "      <td>...</td>\n",
       "      <td>...</td>\n",
       "      <td>...</td>\n",
       "      <td>...</td>\n",
       "      <td>...</td>\n",
       "      <td>...</td>\n",
       "      <td>...</td>\n",
       "      <td>...</td>\n",
       "      <td>...</td>\n",
       "      <td>...</td>\n",
       "      <td>...</td>\n",
       "      <td>...</td>\n",
       "      <td>...</td>\n",
       "      <td>...</td>\n",
       "    </tr>\n",
       "    <tr>\n",
       "      <th>2774039</th>\n",
       "      <td>87</td>\n",
       "      <td>2.211629e+06</td>\n",
       "      <td>NaN</td>\n",
       "      <td>NaN</td>\n",
       "      <td>NaN</td>\n",
       "      <td>2.270479e+03</td>\n",
       "      <td>864.849935</td>\n",
       "      <td>244.496192</td>\n",
       "      <td>7.801478e+05</td>\n",
       "      <td>10929.996403</td>\n",
       "      <td>3.007711e+06</td>\n",
       "      <td>1.624007e+03</td>\n",
       "      <td>best</td>\n",
       "      <td>SEIR</td>\n",
       "      <td>2021-01-19</td>\n",
       "      <td>53</td>\n",
       "    </tr>\n",
       "    <tr>\n",
       "      <th>2774040</th>\n",
       "      <td>88</td>\n",
       "      <td>2.211346e+06</td>\n",
       "      <td>NaN</td>\n",
       "      <td>NaN</td>\n",
       "      <td>NaN</td>\n",
       "      <td>2.217484e+03</td>\n",
       "      <td>844.731456</td>\n",
       "      <td>238.850212</td>\n",
       "      <td>7.805132e+05</td>\n",
       "      <td>10964.387711</td>\n",
       "      <td>3.007711e+06</td>\n",
       "      <td>1.585995e+03</td>\n",
       "      <td>best</td>\n",
       "      <td>SEIR</td>\n",
       "      <td>2021-01-19</td>\n",
       "      <td>53</td>\n",
       "    </tr>\n",
       "    <tr>\n",
       "      <th>2774041</th>\n",
       "      <td>89</td>\n",
       "      <td>2.211070e+06</td>\n",
       "      <td>NaN</td>\n",
       "      <td>NaN</td>\n",
       "      <td>NaN</td>\n",
       "      <td>2.165706e+03</td>\n",
       "      <td>825.071624</td>\n",
       "      <td>233.330554</td>\n",
       "      <td>7.808700e+05</td>\n",
       "      <td>10997.984553</td>\n",
       "      <td>3.007711e+06</td>\n",
       "      <td>1.548859e+03</td>\n",
       "      <td>best</td>\n",
       "      <td>SEIR</td>\n",
       "      <td>2021-01-19</td>\n",
       "      <td>53</td>\n",
       "    </tr>\n",
       "    <tr>\n",
       "      <th>2774042</th>\n",
       "      <td>90</td>\n",
       "      <td>2.210800e+06</td>\n",
       "      <td>NaN</td>\n",
       "      <td>NaN</td>\n",
       "      <td>NaN</td>\n",
       "      <td>2.115117e+03</td>\n",
       "      <td>805.860408</td>\n",
       "      <td>227.934625</td>\n",
       "      <td>7.812185e+05</td>\n",
       "      <td>11030.804718</td>\n",
       "      <td>3.007711e+06</td>\n",
       "      <td>1.512581e+03</td>\n",
       "      <td>best</td>\n",
       "      <td>SEIR</td>\n",
       "      <td>2021-01-19</td>\n",
       "      <td>53</td>\n",
       "    </tr>\n",
       "    <tr>\n",
       "      <th>2774043</th>\n",
       "      <td>91</td>\n",
       "      <td>2.210536e+06</td>\n",
       "      <td>NaN</td>\n",
       "      <td>NaN</td>\n",
       "      <td>NaN</td>\n",
       "      <td>2.065691e+03</td>\n",
       "      <td>787.087976</td>\n",
       "      <td>222.659868</td>\n",
       "      <td>7.815589e+05</td>\n",
       "      <td>11062.865635</td>\n",
       "      <td>3.007711e+06</td>\n",
       "      <td>1.477142e+03</td>\n",
       "      <td>best</td>\n",
       "      <td>SEIR</td>\n",
       "      <td>2021-01-19</td>\n",
       "      <td>53</td>\n",
       "    </tr>\n",
       "  </tbody>\n",
       "</table>\n",
       "<p>2774044 rows × 16 columns</p>\n",
       "</div>"
      ],
      "text/plain": [
       "         days             S            E0            E1            I0  \\\n",
       "0           1  4.565597e+07  1.000644e+05  6.670963e+04  2.755470e+04   \n",
       "1           2  1.396044e-09  3.278580e+07  1.010676e+07  8.520469e+05   \n",
       "2           3 -1.502009e-10  2.349205e+07  1.334298e+07  2.401212e+06   \n",
       "3           4 -6.815688e-14  1.683279e+07  1.326121e+07  3.895125e+06   \n",
       "4           5  3.954639e-16  1.206122e+07  1.174656e+07  5.031299e+06   \n",
       "...       ...           ...           ...           ...           ...   \n",
       "2774039    87  2.211629e+06           NaN           NaN           NaN   \n",
       "2774040    88  2.211346e+06           NaN           NaN           NaN   \n",
       "2774041    89  2.211070e+06           NaN           NaN           NaN   \n",
       "2774042    90  2.210800e+06           NaN           NaN           NaN   \n",
       "2774043    91  2.210536e+06           NaN           NaN           NaN   \n",
       "\n",
       "                   I1             I2           I3             R             D  \\\n",
       "0        6.140671e+04    2389.728066   497.860014  4.367000e+03     84.000000   \n",
       "1        1.985665e+06    6559.756994   534.861761  1.815116e+05    170.119344   \n",
       "2        5.600759e+06   27414.526944   893.371300  1.053456e+06    283.465823   \n",
       "3        9.086873e+06   66014.250543  2026.532316  2.774495e+06    517.519017   \n",
       "4        1.173822e+07  116438.288104  4248.530970  5.220026e+06   1033.420015   \n",
       "...               ...            ...          ...           ...           ...   \n",
       "2774039  2.270479e+03     864.849935   244.496192  7.801478e+05  10929.996403   \n",
       "2774040  2.217484e+03     844.731456   238.850212  7.805132e+05  10964.387711   \n",
       "2774041  2.165706e+03     825.071624   233.330554  7.808700e+05  10997.984553   \n",
       "2774042  2.115117e+03     805.860408   227.934625  7.812185e+05  11030.804718   \n",
       "2774043  2.065691e+03     787.087976   222.659868  7.815589e+05  11062.865635   \n",
       "\n",
       "                    N             E scenario    model date_prediction  \\\n",
       "0        4.591905e+07  1.667741e+05    worst  SEAPMDR      2020-03-28   \n",
       "1        4.591905e+07  4.289256e+07    worst  SEAPMDR      2020-03-28   \n",
       "2        4.591905e+07  3.683503e+07    worst  SEAPMDR      2020-03-28   \n",
       "3        4.591905e+07  3.009400e+07    worst  SEAPMDR      2020-03-28   \n",
       "4        4.591905e+07  2.380779e+07    worst  SEAPMDR      2020-03-28   \n",
       "...               ...           ...      ...      ...             ...   \n",
       "2774039  3.007711e+06  1.624007e+03     best     SEIR      2021-01-19   \n",
       "2774040  3.007711e+06  1.585995e+03     best     SEIR      2021-01-19   \n",
       "2774041  3.007711e+06  1.548859e+03     best     SEIR      2021-01-19   \n",
       "2774042  3.007711e+06  1.512581e+03     best     SEIR      2021-01-19   \n",
       "2774043  3.007711e+06  1.477142e+03     best     SEIR      2021-01-19   \n",
       "\n",
       "         state_num_id  \n",
       "0                  35  \n",
       "1                  35  \n",
       "2                  35  \n",
       "3                  35  \n",
       "4                  35  \n",
       "...               ...  \n",
       "2774039            53  \n",
       "2774040            53  \n",
       "2774041            53  \n",
       "2774042            53  \n",
       "2774043            53  \n",
       "\n",
       "[2774044 rows x 16 columns]"
      ]
     },
     "execution_count": 4,
     "metadata": {},
     "output_type": "execute_result"
    }
   ],
   "source": [
    "# load historical predictions\n",
    "df_predictions = pd.read_csv(\"../data/br-states-simulacovid-predictions.csv\")\n",
    "df_predictions[\"date_prediction\"] = pd.to_datetime(df_predictions[\"date_prediction\"])\n",
    "\n",
    "df_predictions"
   ]
  },
  {
   "cell_type": "code",
   "execution_count": 13,
   "id": "afraid-testimony",
   "metadata": {
    "scrolled": true
   },
   "outputs": [
    {
     "data": {
      "text/html": [
       "<div>\n",
       "<style scoped>\n",
       "    .dataframe tbody tr th:only-of-type {\n",
       "        vertical-align: middle;\n",
       "    }\n",
       "\n",
       "    .dataframe tbody tr th {\n",
       "        vertical-align: top;\n",
       "    }\n",
       "\n",
       "    .dataframe thead th {\n",
       "        text-align: right;\n",
       "    }\n",
       "</style>\n",
       "<table border=\"1\" class=\"dataframe\">\n",
       "  <thead>\n",
       "    <tr style=\"text-align: right;\">\n",
       "      <th></th>\n",
       "      <th>active_cases</th>\n",
       "      <th>confirmed_cases</th>\n",
       "      <th>daily_cases</th>\n",
       "      <th>daily_cases_diff_14_days</th>\n",
       "      <th>daily_cases_growth</th>\n",
       "      <th>daily_cases_mavg</th>\n",
       "      <th>daily_cases_mavg_100k</th>\n",
       "      <th>deaths</th>\n",
       "      <th>epidemiological_week</th>\n",
       "      <th>estimated_cases</th>\n",
       "      <th>...</th>\n",
       "      <th>new_deaths_growth</th>\n",
       "      <th>new_deaths_mavg</th>\n",
       "      <th>new_deaths_mavg_100k</th>\n",
       "      <th>notification_rate</th>\n",
       "      <th>population</th>\n",
       "      <th>state_id</th>\n",
       "      <th>state_name</th>\n",
       "      <th>state_num_id</th>\n",
       "      <th>total_estimated_cases</th>\n",
       "      <th>data_last_refreshed</th>\n",
       "    </tr>\n",
       "  </thead>\n",
       "  <tbody>\n",
       "    <tr>\n",
       "      <th>0</th>\n",
       "      <td>NaN</td>\n",
       "      <td>1</td>\n",
       "      <td>1</td>\n",
       "      <td>NaN</td>\n",
       "      <td>estabilizando</td>\n",
       "      <td>NaN</td>\n",
       "      <td>NaN</td>\n",
       "      <td>0</td>\n",
       "      <td>12</td>\n",
       "      <td>NaN</td>\n",
       "      <td>...</td>\n",
       "      <td>estabilizando</td>\n",
       "      <td>NaN</td>\n",
       "      <td>NaN</td>\n",
       "      <td>NaN</td>\n",
       "      <td>1777225</td>\n",
       "      <td>RO</td>\n",
       "      <td>Rondônia</td>\n",
       "      <td>11</td>\n",
       "      <td>NaN</td>\n",
       "      <td>2021-01-30 01:27:57</td>\n",
       "    </tr>\n",
       "    <tr>\n",
       "      <th>1</th>\n",
       "      <td>NaN</td>\n",
       "      <td>3</td>\n",
       "      <td>2</td>\n",
       "      <td>NaN</td>\n",
       "      <td>estabilizando</td>\n",
       "      <td>NaN</td>\n",
       "      <td>NaN</td>\n",
       "      <td>0</td>\n",
       "      <td>12</td>\n",
       "      <td>NaN</td>\n",
       "      <td>...</td>\n",
       "      <td>estabilizando</td>\n",
       "      <td>NaN</td>\n",
       "      <td>NaN</td>\n",
       "      <td>NaN</td>\n",
       "      <td>1777225</td>\n",
       "      <td>RO</td>\n",
       "      <td>Rondônia</td>\n",
       "      <td>11</td>\n",
       "      <td>NaN</td>\n",
       "      <td>2021-01-30 01:27:57</td>\n",
       "    </tr>\n",
       "    <tr>\n",
       "      <th>2</th>\n",
       "      <td>NaN</td>\n",
       "      <td>3</td>\n",
       "      <td>0</td>\n",
       "      <td>NaN</td>\n",
       "      <td>estabilizando</td>\n",
       "      <td>NaN</td>\n",
       "      <td>NaN</td>\n",
       "      <td>0</td>\n",
       "      <td>13</td>\n",
       "      <td>NaN</td>\n",
       "      <td>...</td>\n",
       "      <td>estabilizando</td>\n",
       "      <td>NaN</td>\n",
       "      <td>NaN</td>\n",
       "      <td>NaN</td>\n",
       "      <td>1777225</td>\n",
       "      <td>RO</td>\n",
       "      <td>Rondônia</td>\n",
       "      <td>11</td>\n",
       "      <td>NaN</td>\n",
       "      <td>2021-01-30 01:27:57</td>\n",
       "    </tr>\n",
       "    <tr>\n",
       "      <th>3</th>\n",
       "      <td>NaN</td>\n",
       "      <td>3</td>\n",
       "      <td>0</td>\n",
       "      <td>NaN</td>\n",
       "      <td>estabilizando</td>\n",
       "      <td>NaN</td>\n",
       "      <td>NaN</td>\n",
       "      <td>0</td>\n",
       "      <td>13</td>\n",
       "      <td>NaN</td>\n",
       "      <td>...</td>\n",
       "      <td>estabilizando</td>\n",
       "      <td>NaN</td>\n",
       "      <td>NaN</td>\n",
       "      <td>NaN</td>\n",
       "      <td>1777225</td>\n",
       "      <td>RO</td>\n",
       "      <td>Rondônia</td>\n",
       "      <td>11</td>\n",
       "      <td>NaN</td>\n",
       "      <td>2021-01-30 01:27:57</td>\n",
       "    </tr>\n",
       "    <tr>\n",
       "      <th>4</th>\n",
       "      <td>NaN</td>\n",
       "      <td>5</td>\n",
       "      <td>2</td>\n",
       "      <td>NaN</td>\n",
       "      <td>estabilizando</td>\n",
       "      <td>NaN</td>\n",
       "      <td>NaN</td>\n",
       "      <td>0</td>\n",
       "      <td>13</td>\n",
       "      <td>NaN</td>\n",
       "      <td>...</td>\n",
       "      <td>estabilizando</td>\n",
       "      <td>NaN</td>\n",
       "      <td>NaN</td>\n",
       "      <td>NaN</td>\n",
       "      <td>1777225</td>\n",
       "      <td>RO</td>\n",
       "      <td>Rondônia</td>\n",
       "      <td>11</td>\n",
       "      <td>NaN</td>\n",
       "      <td>2021-01-30 01:27:57</td>\n",
       "    </tr>\n",
       "    <tr>\n",
       "      <th>...</th>\n",
       "      <td>...</td>\n",
       "      <td>...</td>\n",
       "      <td>...</td>\n",
       "      <td>...</td>\n",
       "      <td>...</td>\n",
       "      <td>...</td>\n",
       "      <td>...</td>\n",
       "      <td>...</td>\n",
       "      <td>...</td>\n",
       "      <td>...</td>\n",
       "      <td>...</td>\n",
       "      <td>...</td>\n",
       "      <td>...</td>\n",
       "      <td>...</td>\n",
       "      <td>...</td>\n",
       "      <td>...</td>\n",
       "      <td>...</td>\n",
       "      <td>...</td>\n",
       "      <td>...</td>\n",
       "      <td>...</td>\n",
       "      <td>...</td>\n",
       "    </tr>\n",
       "    <tr>\n",
       "      <th>8717</th>\n",
       "      <td>NaN</td>\n",
       "      <td>271319</td>\n",
       "      <td>1148</td>\n",
       "      <td>4.0</td>\n",
       "      <td>estabilizando</td>\n",
       "      <td>863.6</td>\n",
       "      <td>28.640904</td>\n",
       "      <td>4490</td>\n",
       "      <td>4</td>\n",
       "      <td>NaN</td>\n",
       "      <td>...</td>\n",
       "      <td>estabilizando</td>\n",
       "      <td>9.0</td>\n",
       "      <td>0.298481</td>\n",
       "      <td>NaN</td>\n",
       "      <td>3015268</td>\n",
       "      <td>DF</td>\n",
       "      <td>Distrito Federal</td>\n",
       "      <td>53</td>\n",
       "      <td>NaN</td>\n",
       "      <td>2021-01-30 01:27:57</td>\n",
       "    </tr>\n",
       "    <tr>\n",
       "      <th>8718</th>\n",
       "      <td>NaN</td>\n",
       "      <td>272375</td>\n",
       "      <td>1056</td>\n",
       "      <td>6.0</td>\n",
       "      <td>crescendo</td>\n",
       "      <td>927.0</td>\n",
       "      <td>30.743536</td>\n",
       "      <td>4505</td>\n",
       "      <td>4</td>\n",
       "      <td>NaN</td>\n",
       "      <td>...</td>\n",
       "      <td>estabilizando</td>\n",
       "      <td>9.9</td>\n",
       "      <td>0.328329</td>\n",
       "      <td>NaN</td>\n",
       "      <td>3015268</td>\n",
       "      <td>DF</td>\n",
       "      <td>Distrito Federal</td>\n",
       "      <td>53</td>\n",
       "      <td>NaN</td>\n",
       "      <td>2021-01-30 01:27:57</td>\n",
       "    </tr>\n",
       "    <tr>\n",
       "      <th>8719</th>\n",
       "      <td>NaN</td>\n",
       "      <td>273427</td>\n",
       "      <td>1052</td>\n",
       "      <td>6.0</td>\n",
       "      <td>crescendo</td>\n",
       "      <td>988.7</td>\n",
       "      <td>32.789789</td>\n",
       "      <td>4508</td>\n",
       "      <td>4</td>\n",
       "      <td>NaN</td>\n",
       "      <td>...</td>\n",
       "      <td>estabilizando</td>\n",
       "      <td>9.4</td>\n",
       "      <td>0.311747</td>\n",
       "      <td>NaN</td>\n",
       "      <td>3015268</td>\n",
       "      <td>DF</td>\n",
       "      <td>Distrito Federal</td>\n",
       "      <td>53</td>\n",
       "      <td>NaN</td>\n",
       "      <td>2021-01-30 01:27:57</td>\n",
       "    </tr>\n",
       "    <tr>\n",
       "      <th>8720</th>\n",
       "      <td>NaN</td>\n",
       "      <td>274601</td>\n",
       "      <td>1174</td>\n",
       "      <td>8.0</td>\n",
       "      <td>crescendo</td>\n",
       "      <td>1037.3</td>\n",
       "      <td>34.401586</td>\n",
       "      <td>4519</td>\n",
       "      <td>4</td>\n",
       "      <td>NaN</td>\n",
       "      <td>...</td>\n",
       "      <td>estabilizando</td>\n",
       "      <td>9.6</td>\n",
       "      <td>0.318380</td>\n",
       "      <td>NaN</td>\n",
       "      <td>3015268</td>\n",
       "      <td>DF</td>\n",
       "      <td>Distrito Federal</td>\n",
       "      <td>53</td>\n",
       "      <td>NaN</td>\n",
       "      <td>2021-01-30 01:27:57</td>\n",
       "    </tr>\n",
       "    <tr>\n",
       "      <th>8721</th>\n",
       "      <td>NaN</td>\n",
       "      <td>275688</td>\n",
       "      <td>1087</td>\n",
       "      <td>8.0</td>\n",
       "      <td>crescendo</td>\n",
       "      <td>1042.0</td>\n",
       "      <td>34.557459</td>\n",
       "      <td>4533</td>\n",
       "      <td>4</td>\n",
       "      <td>NaN</td>\n",
       "      <td>...</td>\n",
       "      <td>estabilizando</td>\n",
       "      <td>10.4</td>\n",
       "      <td>0.344911</td>\n",
       "      <td>NaN</td>\n",
       "      <td>3015268</td>\n",
       "      <td>DF</td>\n",
       "      <td>Distrito Federal</td>\n",
       "      <td>53</td>\n",
       "      <td>NaN</td>\n",
       "      <td>2021-01-30 01:27:57</td>\n",
       "    </tr>\n",
       "  </tbody>\n",
       "</table>\n",
       "<p>8722 rows × 27 columns</p>\n",
       "</div>"
      ],
      "text/plain": [
       "      active_cases  confirmed_cases  daily_cases  daily_cases_diff_14_days  \\\n",
       "0              NaN                1            1                       NaN   \n",
       "1              NaN                3            2                       NaN   \n",
       "2              NaN                3            0                       NaN   \n",
       "3              NaN                3            0                       NaN   \n",
       "4              NaN                5            2                       NaN   \n",
       "...            ...              ...          ...                       ...   \n",
       "8717           NaN           271319         1148                       4.0   \n",
       "8718           NaN           272375         1056                       6.0   \n",
       "8719           NaN           273427         1052                       6.0   \n",
       "8720           NaN           274601         1174                       8.0   \n",
       "8721           NaN           275688         1087                       8.0   \n",
       "\n",
       "     daily_cases_growth  daily_cases_mavg  daily_cases_mavg_100k  deaths  \\\n",
       "0         estabilizando               NaN                    NaN       0   \n",
       "1         estabilizando               NaN                    NaN       0   \n",
       "2         estabilizando               NaN                    NaN       0   \n",
       "3         estabilizando               NaN                    NaN       0   \n",
       "4         estabilizando               NaN                    NaN       0   \n",
       "...                 ...               ...                    ...     ...   \n",
       "8717      estabilizando             863.6              28.640904    4490   \n",
       "8718          crescendo             927.0              30.743536    4505   \n",
       "8719          crescendo             988.7              32.789789    4508   \n",
       "8720          crescendo            1037.3              34.401586    4519   \n",
       "8721          crescendo            1042.0              34.557459    4533   \n",
       "\n",
       "      epidemiological_week  estimated_cases  ...  new_deaths_growth  \\\n",
       "0                       12              NaN  ...      estabilizando   \n",
       "1                       12              NaN  ...      estabilizando   \n",
       "2                       13              NaN  ...      estabilizando   \n",
       "3                       13              NaN  ...      estabilizando   \n",
       "4                       13              NaN  ...      estabilizando   \n",
       "...                    ...              ...  ...                ...   \n",
       "8717                     4              NaN  ...      estabilizando   \n",
       "8718                     4              NaN  ...      estabilizando   \n",
       "8719                     4              NaN  ...      estabilizando   \n",
       "8720                     4              NaN  ...      estabilizando   \n",
       "8721                     4              NaN  ...      estabilizando   \n",
       "\n",
       "      new_deaths_mavg  new_deaths_mavg_100k  notification_rate population  \\\n",
       "0                 NaN                   NaN                NaN    1777225   \n",
       "1                 NaN                   NaN                NaN    1777225   \n",
       "2                 NaN                   NaN                NaN    1777225   \n",
       "3                 NaN                   NaN                NaN    1777225   \n",
       "4                 NaN                   NaN                NaN    1777225   \n",
       "...               ...                   ...                ...        ...   \n",
       "8717              9.0              0.298481                NaN    3015268   \n",
       "8718              9.9              0.328329                NaN    3015268   \n",
       "8719              9.4              0.311747                NaN    3015268   \n",
       "8720              9.6              0.318380                NaN    3015268   \n",
       "8721             10.4              0.344911                NaN    3015268   \n",
       "\n",
       "      state_id        state_name state_num_id  total_estimated_cases  \\\n",
       "0           RO          Rondônia           11                    NaN   \n",
       "1           RO          Rondônia           11                    NaN   \n",
       "2           RO          Rondônia           11                    NaN   \n",
       "3           RO          Rondônia           11                    NaN   \n",
       "4           RO          Rondônia           11                    NaN   \n",
       "...        ...               ...          ...                    ...   \n",
       "8717        DF  Distrito Federal           53                    NaN   \n",
       "8718        DF  Distrito Federal           53                    NaN   \n",
       "8719        DF  Distrito Federal           53                    NaN   \n",
       "8720        DF  Distrito Federal           53                    NaN   \n",
       "8721        DF  Distrito Federal           53                    NaN   \n",
       "\n",
       "      data_last_refreshed  \n",
       "0     2021-01-30 01:27:57  \n",
       "1     2021-01-30 01:27:57  \n",
       "2     2021-01-30 01:27:57  \n",
       "3     2021-01-30 01:27:57  \n",
       "4     2021-01-30 01:27:57  \n",
       "...                   ...  \n",
       "8717  2021-01-30 01:27:57  \n",
       "8718  2021-01-30 01:27:57  \n",
       "8719  2021-01-30 01:27:57  \n",
       "8720  2021-01-30 01:27:57  \n",
       "8721  2021-01-30 01:27:57  \n",
       "\n",
       "[8722 rows x 27 columns]"
      ]
     },
     "execution_count": 13,
     "metadata": {},
     "output_type": "execute_result"
    }
   ],
   "source": [
    "# load cases\n",
    "cases_url = \"http://datasource.coronacidades.org/br/states/cases/full\"\n",
    "df_cases = pd.read_csv(cases_url)\n",
    "df_cases[\"last_updated\"] = pd.to_datetime(df_cases[\"last_updated\"])\n",
    "\n",
    "df_cases"
   ]
  },
  {
   "cell_type": "code",
   "execution_count": 23,
   "id": "natural-conviction",
   "metadata": {},
   "outputs": [
    {
     "data": {
      "text/plain": [
       "active_cases                       float64\n",
       "confirmed_cases                      int64\n",
       "daily_cases                          int64\n",
       "daily_cases_diff_14_days           float64\n",
       "daily_cases_growth                  object\n",
       "daily_cases_mavg                   float64\n",
       "daily_cases_mavg_100k              float64\n",
       "deaths                               int64\n",
       "epidemiological_week                 int64\n",
       "estimated_cases                    float64\n",
       "expected_mortality                 float64\n",
       "infectious_period_cases            float64\n",
       "is_last                               bool\n",
       "is_repeated                           bool\n",
       "last_updated                datetime64[ns]\n",
       "new_deaths                           int64\n",
       "new_deaths_diff_14_days            float64\n",
       "new_deaths_growth                   object\n",
       "new_deaths_mavg                    float64\n",
       "new_deaths_mavg_100k               float64\n",
       "notification_rate                  float64\n",
       "population                           int64\n",
       "state_id                            object\n",
       "state_name                          object\n",
       "state_num_id                         int64\n",
       "total_estimated_cases              float64\n",
       "data_last_refreshed                 object\n",
       "dtype: object"
      ]
     },
     "execution_count": 23,
     "metadata": {},
     "output_type": "execute_result"
    }
   ],
   "source": [
    "df_cases.dtypes"
   ]
  },
  {
   "cell_type": "code",
   "execution_count": 24,
   "id": "immune-sigma",
   "metadata": {},
   "outputs": [
    {
     "data": {
      "text/html": [
       "<div>\n",
       "<style scoped>\n",
       "    .dataframe tbody tr th:only-of-type {\n",
       "        vertical-align: middle;\n",
       "    }\n",
       "\n",
       "    .dataframe tbody tr th {\n",
       "        vertical-align: top;\n",
       "    }\n",
       "\n",
       "    .dataframe thead th {\n",
       "        text-align: right;\n",
       "    }\n",
       "</style>\n",
       "<table border=\"1\" class=\"dataframe\">\n",
       "  <thead>\n",
       "    <tr style=\"text-align: right;\">\n",
       "      <th></th>\n",
       "      <th>days</th>\n",
       "      <th>S</th>\n",
       "      <th>E0</th>\n",
       "      <th>E1</th>\n",
       "      <th>I0</th>\n",
       "      <th>I1</th>\n",
       "      <th>I2</th>\n",
       "      <th>I3</th>\n",
       "      <th>R</th>\n",
       "      <th>D</th>\n",
       "      <th>...</th>\n",
       "      <th>new_deaths_diff_14_days</th>\n",
       "      <th>new_deaths_growth</th>\n",
       "      <th>new_deaths_mavg</th>\n",
       "      <th>new_deaths_mavg_100k</th>\n",
       "      <th>notification_rate</th>\n",
       "      <th>population</th>\n",
       "      <th>state_id</th>\n",
       "      <th>state_name</th>\n",
       "      <th>total_estimated_cases</th>\n",
       "      <th>data_last_refreshed</th>\n",
       "    </tr>\n",
       "  </thead>\n",
       "  <tbody>\n",
       "    <tr>\n",
       "      <th>0</th>\n",
       "      <td>1</td>\n",
       "      <td>4.565597e+07</td>\n",
       "      <td>1.000644e+05</td>\n",
       "      <td>6.670963e+04</td>\n",
       "      <td>2.755470e+04</td>\n",
       "      <td>6.140671e+04</td>\n",
       "      <td>2389.728066</td>\n",
       "      <td>497.860014</td>\n",
       "      <td>4.367000e+03</td>\n",
       "      <td>84.000000</td>\n",
       "      <td>...</td>\n",
       "      <td>13.0</td>\n",
       "      <td>crescendo</td>\n",
       "      <td>10.9</td>\n",
       "      <td>0.023737</td>\n",
       "      <td>0.013834</td>\n",
       "      <td>45919049.0</td>\n",
       "      <td>SP</td>\n",
       "      <td>São Paulo</td>\n",
       "      <td>67933.0</td>\n",
       "      <td>2021-01-30 01:27:57</td>\n",
       "    </tr>\n",
       "    <tr>\n",
       "      <th>1</th>\n",
       "      <td>2</td>\n",
       "      <td>1.396044e-09</td>\n",
       "      <td>3.278580e+07</td>\n",
       "      <td>1.010676e+07</td>\n",
       "      <td>8.520469e+05</td>\n",
       "      <td>1.985665e+06</td>\n",
       "      <td>6559.756994</td>\n",
       "      <td>534.861761</td>\n",
       "      <td>1.815116e+05</td>\n",
       "      <td>170.119344</td>\n",
       "      <td>...</td>\n",
       "      <td>14.0</td>\n",
       "      <td>crescendo</td>\n",
       "      <td>11.9</td>\n",
       "      <td>0.025915</td>\n",
       "      <td>0.013878</td>\n",
       "      <td>45919049.0</td>\n",
       "      <td>SP</td>\n",
       "      <td>São Paulo</td>\n",
       "      <td>74908.0</td>\n",
       "      <td>2021-01-30 01:27:57</td>\n",
       "    </tr>\n",
       "    <tr>\n",
       "      <th>2</th>\n",
       "      <td>3</td>\n",
       "      <td>-1.502009e-10</td>\n",
       "      <td>2.349205e+07</td>\n",
       "      <td>1.334298e+07</td>\n",
       "      <td>2.401212e+06</td>\n",
       "      <td>5.600759e+06</td>\n",
       "      <td>27414.526944</td>\n",
       "      <td>893.371300</td>\n",
       "      <td>1.053456e+06</td>\n",
       "      <td>283.465823</td>\n",
       "      <td>...</td>\n",
       "      <td>14.0</td>\n",
       "      <td>crescendo</td>\n",
       "      <td>13.7</td>\n",
       "      <td>0.029835</td>\n",
       "      <td>0.021454</td>\n",
       "      <td>45919049.0</td>\n",
       "      <td>SP</td>\n",
       "      <td>São Paulo</td>\n",
       "      <td>81704.0</td>\n",
       "      <td>2021-01-30 01:27:57</td>\n",
       "    </tr>\n",
       "    <tr>\n",
       "      <th>3</th>\n",
       "      <td>4</td>\n",
       "      <td>-6.815688e-14</td>\n",
       "      <td>1.683279e+07</td>\n",
       "      <td>1.326121e+07</td>\n",
       "      <td>3.895125e+06</td>\n",
       "      <td>9.086873e+06</td>\n",
       "      <td>66014.250543</td>\n",
       "      <td>2026.532316</td>\n",
       "      <td>2.774495e+06</td>\n",
       "      <td>517.519017</td>\n",
       "      <td>...</td>\n",
       "      <td>14.0</td>\n",
       "      <td>crescendo</td>\n",
       "      <td>16.6</td>\n",
       "      <td>0.036151</td>\n",
       "      <td>0.027281</td>\n",
       "      <td>45919049.0</td>\n",
       "      <td>SP</td>\n",
       "      <td>São Paulo</td>\n",
       "      <td>88588.0</td>\n",
       "      <td>2021-01-30 01:27:57</td>\n",
       "    </tr>\n",
       "    <tr>\n",
       "      <th>4</th>\n",
       "      <td>5</td>\n",
       "      <td>3.954639e-16</td>\n",
       "      <td>1.206122e+07</td>\n",
       "      <td>1.174656e+07</td>\n",
       "      <td>5.031299e+06</td>\n",
       "      <td>1.173822e+07</td>\n",
       "      <td>116438.288104</td>\n",
       "      <td>4248.530970</td>\n",
       "      <td>5.220026e+06</td>\n",
       "      <td>1033.420015</td>\n",
       "      <td>...</td>\n",
       "      <td>14.0</td>\n",
       "      <td>crescendo</td>\n",
       "      <td>18.6</td>\n",
       "      <td>0.040506</td>\n",
       "      <td>0.030533</td>\n",
       "      <td>45919049.0</td>\n",
       "      <td>SP</td>\n",
       "      <td>São Paulo</td>\n",
       "      <td>95719.0</td>\n",
       "      <td>2021-01-30 01:27:57</td>\n",
       "    </tr>\n",
       "    <tr>\n",
       "      <th>...</th>\n",
       "      <td>...</td>\n",
       "      <td>...</td>\n",
       "      <td>...</td>\n",
       "      <td>...</td>\n",
       "      <td>...</td>\n",
       "      <td>...</td>\n",
       "      <td>...</td>\n",
       "      <td>...</td>\n",
       "      <td>...</td>\n",
       "      <td>...</td>\n",
       "      <td>...</td>\n",
       "      <td>...</td>\n",
       "      <td>...</td>\n",
       "      <td>...</td>\n",
       "      <td>...</td>\n",
       "      <td>...</td>\n",
       "      <td>...</td>\n",
       "      <td>...</td>\n",
       "      <td>...</td>\n",
       "      <td>...</td>\n",
       "      <td>...</td>\n",
       "    </tr>\n",
       "    <tr>\n",
       "      <th>2774039</th>\n",
       "      <td>87</td>\n",
       "      <td>2.211629e+06</td>\n",
       "      <td>NaN</td>\n",
       "      <td>NaN</td>\n",
       "      <td>NaN</td>\n",
       "      <td>2.270479e+03</td>\n",
       "      <td>864.849935</td>\n",
       "      <td>244.496192</td>\n",
       "      <td>7.801478e+05</td>\n",
       "      <td>10929.996403</td>\n",
       "      <td>...</td>\n",
       "      <td>NaN</td>\n",
       "      <td>NaN</td>\n",
       "      <td>NaN</td>\n",
       "      <td>NaN</td>\n",
       "      <td>NaN</td>\n",
       "      <td>NaN</td>\n",
       "      <td>NaN</td>\n",
       "      <td>NaN</td>\n",
       "      <td>NaN</td>\n",
       "      <td>NaN</td>\n",
       "    </tr>\n",
       "    <tr>\n",
       "      <th>2774040</th>\n",
       "      <td>88</td>\n",
       "      <td>2.211346e+06</td>\n",
       "      <td>NaN</td>\n",
       "      <td>NaN</td>\n",
       "      <td>NaN</td>\n",
       "      <td>2.217484e+03</td>\n",
       "      <td>844.731456</td>\n",
       "      <td>238.850212</td>\n",
       "      <td>7.805132e+05</td>\n",
       "      <td>10964.387711</td>\n",
       "      <td>...</td>\n",
       "      <td>NaN</td>\n",
       "      <td>NaN</td>\n",
       "      <td>NaN</td>\n",
       "      <td>NaN</td>\n",
       "      <td>NaN</td>\n",
       "      <td>NaN</td>\n",
       "      <td>NaN</td>\n",
       "      <td>NaN</td>\n",
       "      <td>NaN</td>\n",
       "      <td>NaN</td>\n",
       "    </tr>\n",
       "    <tr>\n",
       "      <th>2774041</th>\n",
       "      <td>89</td>\n",
       "      <td>2.211070e+06</td>\n",
       "      <td>NaN</td>\n",
       "      <td>NaN</td>\n",
       "      <td>NaN</td>\n",
       "      <td>2.165706e+03</td>\n",
       "      <td>825.071624</td>\n",
       "      <td>233.330554</td>\n",
       "      <td>7.808700e+05</td>\n",
       "      <td>10997.984553</td>\n",
       "      <td>...</td>\n",
       "      <td>NaN</td>\n",
       "      <td>NaN</td>\n",
       "      <td>NaN</td>\n",
       "      <td>NaN</td>\n",
       "      <td>NaN</td>\n",
       "      <td>NaN</td>\n",
       "      <td>NaN</td>\n",
       "      <td>NaN</td>\n",
       "      <td>NaN</td>\n",
       "      <td>NaN</td>\n",
       "    </tr>\n",
       "    <tr>\n",
       "      <th>2774042</th>\n",
       "      <td>90</td>\n",
       "      <td>2.210800e+06</td>\n",
       "      <td>NaN</td>\n",
       "      <td>NaN</td>\n",
       "      <td>NaN</td>\n",
       "      <td>2.115117e+03</td>\n",
       "      <td>805.860408</td>\n",
       "      <td>227.934625</td>\n",
       "      <td>7.812185e+05</td>\n",
       "      <td>11030.804718</td>\n",
       "      <td>...</td>\n",
       "      <td>NaN</td>\n",
       "      <td>NaN</td>\n",
       "      <td>NaN</td>\n",
       "      <td>NaN</td>\n",
       "      <td>NaN</td>\n",
       "      <td>NaN</td>\n",
       "      <td>NaN</td>\n",
       "      <td>NaN</td>\n",
       "      <td>NaN</td>\n",
       "      <td>NaN</td>\n",
       "    </tr>\n",
       "    <tr>\n",
       "      <th>2774043</th>\n",
       "      <td>91</td>\n",
       "      <td>2.210536e+06</td>\n",
       "      <td>NaN</td>\n",
       "      <td>NaN</td>\n",
       "      <td>NaN</td>\n",
       "      <td>2.065691e+03</td>\n",
       "      <td>787.087976</td>\n",
       "      <td>222.659868</td>\n",
       "      <td>7.815589e+05</td>\n",
       "      <td>11062.865635</td>\n",
       "      <td>...</td>\n",
       "      <td>NaN</td>\n",
       "      <td>NaN</td>\n",
       "      <td>NaN</td>\n",
       "      <td>NaN</td>\n",
       "      <td>NaN</td>\n",
       "      <td>NaN</td>\n",
       "      <td>NaN</td>\n",
       "      <td>NaN</td>\n",
       "      <td>NaN</td>\n",
       "      <td>NaN</td>\n",
       "    </tr>\n",
       "  </tbody>\n",
       "</table>\n",
       "<p>2774044 rows × 43 columns</p>\n",
       "</div>"
      ],
      "text/plain": [
       "         days             S            E0            E1            I0  \\\n",
       "0           1  4.565597e+07  1.000644e+05  6.670963e+04  2.755470e+04   \n",
       "1           2  1.396044e-09  3.278580e+07  1.010676e+07  8.520469e+05   \n",
       "2           3 -1.502009e-10  2.349205e+07  1.334298e+07  2.401212e+06   \n",
       "3           4 -6.815688e-14  1.683279e+07  1.326121e+07  3.895125e+06   \n",
       "4           5  3.954639e-16  1.206122e+07  1.174656e+07  5.031299e+06   \n",
       "...       ...           ...           ...           ...           ...   \n",
       "2774039    87  2.211629e+06           NaN           NaN           NaN   \n",
       "2774040    88  2.211346e+06           NaN           NaN           NaN   \n",
       "2774041    89  2.211070e+06           NaN           NaN           NaN   \n",
       "2774042    90  2.210800e+06           NaN           NaN           NaN   \n",
       "2774043    91  2.210536e+06           NaN           NaN           NaN   \n",
       "\n",
       "                   I1             I2           I3             R             D  \\\n",
       "0        6.140671e+04    2389.728066   497.860014  4.367000e+03     84.000000   \n",
       "1        1.985665e+06    6559.756994   534.861761  1.815116e+05    170.119344   \n",
       "2        5.600759e+06   27414.526944   893.371300  1.053456e+06    283.465823   \n",
       "3        9.086873e+06   66014.250543  2026.532316  2.774495e+06    517.519017   \n",
       "4        1.173822e+07  116438.288104  4248.530970  5.220026e+06   1033.420015   \n",
       "...               ...            ...          ...           ...           ...   \n",
       "2774039  2.270479e+03     864.849935   244.496192  7.801478e+05  10929.996403   \n",
       "2774040  2.217484e+03     844.731456   238.850212  7.805132e+05  10964.387711   \n",
       "2774041  2.165706e+03     825.071624   233.330554  7.808700e+05  10997.984553   \n",
       "2774042  2.115117e+03     805.860408   227.934625  7.812185e+05  11030.804718   \n",
       "2774043  2.065691e+03     787.087976   222.659868  7.815589e+05  11062.865635   \n",
       "\n",
       "         ...  new_deaths_diff_14_days  new_deaths_growth new_deaths_mavg  \\\n",
       "0        ...                     13.0          crescendo            10.9   \n",
       "1        ...                     14.0          crescendo            11.9   \n",
       "2        ...                     14.0          crescendo            13.7   \n",
       "3        ...                     14.0          crescendo            16.6   \n",
       "4        ...                     14.0          crescendo            18.6   \n",
       "...      ...                      ...                ...             ...   \n",
       "2774039  ...                      NaN                NaN             NaN   \n",
       "2774040  ...                      NaN                NaN             NaN   \n",
       "2774041  ...                      NaN                NaN             NaN   \n",
       "2774042  ...                      NaN                NaN             NaN   \n",
       "2774043  ...                      NaN                NaN             NaN   \n",
       "\n",
       "        new_deaths_mavg_100k notification_rate  population state_id  \\\n",
       "0                   0.023737          0.013834  45919049.0       SP   \n",
       "1                   0.025915          0.013878  45919049.0       SP   \n",
       "2                   0.029835          0.021454  45919049.0       SP   \n",
       "3                   0.036151          0.027281  45919049.0       SP   \n",
       "4                   0.040506          0.030533  45919049.0       SP   \n",
       "...                      ...               ...         ...      ...   \n",
       "2774039                  NaN               NaN         NaN      NaN   \n",
       "2774040                  NaN               NaN         NaN      NaN   \n",
       "2774041                  NaN               NaN         NaN      NaN   \n",
       "2774042                  NaN               NaN         NaN      NaN   \n",
       "2774043                  NaN               NaN         NaN      NaN   \n",
       "\n",
       "         state_name  total_estimated_cases  data_last_refreshed  \n",
       "0         São Paulo                67933.0  2021-01-30 01:27:57  \n",
       "1         São Paulo                74908.0  2021-01-30 01:27:57  \n",
       "2         São Paulo                81704.0  2021-01-30 01:27:57  \n",
       "3         São Paulo                88588.0  2021-01-30 01:27:57  \n",
       "4         São Paulo                95719.0  2021-01-30 01:27:57  \n",
       "...             ...                    ...                  ...  \n",
       "2774039         NaN                    NaN                  NaN  \n",
       "2774040         NaN                    NaN                  NaN  \n",
       "2774041         NaN                    NaN                  NaN  \n",
       "2774042         NaN                    NaN                  NaN  \n",
       "2774043         NaN                    NaN                  NaN  \n",
       "\n",
       "[2774044 rows x 43 columns]"
      ]
     },
     "execution_count": 24,
     "metadata": {},
     "output_type": "execute_result"
    }
   ],
   "source": [
    "# merge DataFrame with predictions with DataFrame with cases in the correspondent date\n",
    "\n",
    "df_predictions[\"reference_date\"]=(\n",
    "    df_predictions.apply(lambda row: row[\"date_prediction\"] + pd.Timedelta(days=row[\"days\"]), axis=1)\n",
    ")\n",
    "\n",
    "df_predictions = df_predictions.merge(\n",
    "    df_cases, how=\"left\", left_on=[\"state_num_id\", \"reference_date\"], right_on=[\"state_num_id\", \"last_updated\"]\n",
    ")\n",
    "\n",
    "df_predictions"
   ]
  },
  {
   "cell_type": "markdown",
   "id": "expressed-injury",
   "metadata": {},
   "source": [
    "## Comparar previsto com efetivo"
   ]
  },
  {
   "cell_type": "markdown",
   "id": "democratic-camping",
   "metadata": {},
   "source": [
    "Utilizaremos as retroprojeções para estimar a qualidade de ambos os modelos em análise."
   ]
  },
  {
   "cell_type": "code",
   "execution_count": 25,
   "id": "essential-tonight",
   "metadata": {},
   "outputs": [
    {
     "data": {
      "text/html": [
       "<div>\n",
       "<style scoped>\n",
       "    .dataframe tbody tr th:only-of-type {\n",
       "        vertical-align: middle;\n",
       "    }\n",
       "\n",
       "    .dataframe tbody tr th {\n",
       "        vertical-align: top;\n",
       "    }\n",
       "\n",
       "    .dataframe thead th {\n",
       "        text-align: right;\n",
       "    }\n",
       "</style>\n",
       "<table border=\"1\" class=\"dataframe\">\n",
       "  <thead>\n",
       "    <tr style=\"text-align: right;\">\n",
       "      <th></th>\n",
       "      <th>model</th>\n",
       "      <th>days</th>\n",
       "      <th>scenario</th>\n",
       "      <th>reference_date</th>\n",
       "      <th>state_num_id</th>\n",
       "      <th>I</th>\n",
       "      <th>estimated_cases</th>\n",
       "      <th>population</th>\n",
       "      <th>predicted_ppc</th>\n",
       "      <th>infected_ppc</th>\n",
       "    </tr>\n",
       "  </thead>\n",
       "  <tbody>\n",
       "    <tr>\n",
       "      <th>0</th>\n",
       "      <td>SEAPMDR</td>\n",
       "      <td>1</td>\n",
       "      <td>worst</td>\n",
       "      <td>2020-03-29</td>\n",
       "      <td>35</td>\n",
       "      <td>9.184900e+04</td>\n",
       "      <td>6679.0</td>\n",
       "      <td>45919049.0</td>\n",
       "      <td>0.002000</td>\n",
       "      <td>0.000145</td>\n",
       "    </tr>\n",
       "    <tr>\n",
       "      <th>1</th>\n",
       "      <td>SEAPMDR</td>\n",
       "      <td>2</td>\n",
       "      <td>worst</td>\n",
       "      <td>2020-03-30</td>\n",
       "      <td>35</td>\n",
       "      <td>2.844807e+06</td>\n",
       "      <td>6975.0</td>\n",
       "      <td>45919049.0</td>\n",
       "      <td>0.061953</td>\n",
       "      <td>0.000152</td>\n",
       "    </tr>\n",
       "    <tr>\n",
       "      <th>2</th>\n",
       "      <td>SEAPMDR</td>\n",
       "      <td>3</td>\n",
       "      <td>worst</td>\n",
       "      <td>2020-03-31</td>\n",
       "      <td>35</td>\n",
       "      <td>8.030278e+06</td>\n",
       "      <td>6796.0</td>\n",
       "      <td>45919049.0</td>\n",
       "      <td>0.174879</td>\n",
       "      <td>0.000148</td>\n",
       "    </tr>\n",
       "    <tr>\n",
       "      <th>3</th>\n",
       "      <td>SEAPMDR</td>\n",
       "      <td>4</td>\n",
       "      <td>worst</td>\n",
       "      <td>2020-04-01</td>\n",
       "      <td>35</td>\n",
       "      <td>1.305004e+07</td>\n",
       "      <td>6884.0</td>\n",
       "      <td>45919049.0</td>\n",
       "      <td>0.284197</td>\n",
       "      <td>0.000150</td>\n",
       "    </tr>\n",
       "    <tr>\n",
       "      <th>4</th>\n",
       "      <td>SEAPMDR</td>\n",
       "      <td>5</td>\n",
       "      <td>worst</td>\n",
       "      <td>2020-04-02</td>\n",
       "      <td>35</td>\n",
       "      <td>1.689020e+07</td>\n",
       "      <td>7131.0</td>\n",
       "      <td>45919049.0</td>\n",
       "      <td>0.367826</td>\n",
       "      <td>0.000155</td>\n",
       "    </tr>\n",
       "    <tr>\n",
       "      <th>...</th>\n",
       "      <td>...</td>\n",
       "      <td>...</td>\n",
       "      <td>...</td>\n",
       "      <td>...</td>\n",
       "      <td>...</td>\n",
       "      <td>...</td>\n",
       "      <td>...</td>\n",
       "      <td>...</td>\n",
       "      <td>...</td>\n",
       "      <td>...</td>\n",
       "    </tr>\n",
       "    <tr>\n",
       "      <th>2675309</th>\n",
       "      <td>SEIR</td>\n",
       "      <td>1</td>\n",
       "      <td>best</td>\n",
       "      <td>2021-01-10</td>\n",
       "      <td>52</td>\n",
       "      <td>2.685690e+04</td>\n",
       "      <td>4789.0</td>\n",
       "      <td>7018354.0</td>\n",
       "      <td>0.003827</td>\n",
       "      <td>0.000682</td>\n",
       "    </tr>\n",
       "    <tr>\n",
       "      <th>2675400</th>\n",
       "      <td>SEAPMDR</td>\n",
       "      <td>1</td>\n",
       "      <td>worst</td>\n",
       "      <td>2021-01-10</td>\n",
       "      <td>53</td>\n",
       "      <td>2.519100e+04</td>\n",
       "      <td>1679.0</td>\n",
       "      <td>3015268.0</td>\n",
       "      <td>0.008354</td>\n",
       "      <td>0.000557</td>\n",
       "    </tr>\n",
       "    <tr>\n",
       "      <th>2675491</th>\n",
       "      <td>SEAPMDR</td>\n",
       "      <td>1</td>\n",
       "      <td>best</td>\n",
       "      <td>2021-01-10</td>\n",
       "      <td>53</td>\n",
       "      <td>2.519100e+04</td>\n",
       "      <td>1679.0</td>\n",
       "      <td>3015268.0</td>\n",
       "      <td>0.008354</td>\n",
       "      <td>0.000557</td>\n",
       "    </tr>\n",
       "    <tr>\n",
       "      <th>2675582</th>\n",
       "      <td>SEIR</td>\n",
       "      <td>1</td>\n",
       "      <td>worst</td>\n",
       "      <td>2021-01-10</td>\n",
       "      <td>53</td>\n",
       "      <td>1.763370e+04</td>\n",
       "      <td>1679.0</td>\n",
       "      <td>3015268.0</td>\n",
       "      <td>0.005848</td>\n",
       "      <td>0.000557</td>\n",
       "    </tr>\n",
       "    <tr>\n",
       "      <th>2675673</th>\n",
       "      <td>SEIR</td>\n",
       "      <td>1</td>\n",
       "      <td>best</td>\n",
       "      <td>2021-01-10</td>\n",
       "      <td>53</td>\n",
       "      <td>1.763370e+04</td>\n",
       "      <td>1679.0</td>\n",
       "      <td>3015268.0</td>\n",
       "      <td>0.005848</td>\n",
       "      <td>0.000557</td>\n",
       "    </tr>\n",
       "  </tbody>\n",
       "</table>\n",
       "<p>2232412 rows × 10 columns</p>\n",
       "</div>"
      ],
      "text/plain": [
       "           model  days scenario reference_date  state_num_id             I  \\\n",
       "0        SEAPMDR     1    worst     2020-03-29            35  9.184900e+04   \n",
       "1        SEAPMDR     2    worst     2020-03-30            35  2.844807e+06   \n",
       "2        SEAPMDR     3    worst     2020-03-31            35  8.030278e+06   \n",
       "3        SEAPMDR     4    worst     2020-04-01            35  1.305004e+07   \n",
       "4        SEAPMDR     5    worst     2020-04-02            35  1.689020e+07   \n",
       "...          ...   ...      ...            ...           ...           ...   \n",
       "2675309     SEIR     1     best     2021-01-10            52  2.685690e+04   \n",
       "2675400  SEAPMDR     1    worst     2021-01-10            53  2.519100e+04   \n",
       "2675491  SEAPMDR     1     best     2021-01-10            53  2.519100e+04   \n",
       "2675582     SEIR     1    worst     2021-01-10            53  1.763370e+04   \n",
       "2675673     SEIR     1     best     2021-01-10            53  1.763370e+04   \n",
       "\n",
       "         estimated_cases  population  predicted_ppc  infected_ppc  \n",
       "0                 6679.0  45919049.0       0.002000      0.000145  \n",
       "1                 6975.0  45919049.0       0.061953      0.000152  \n",
       "2                 6796.0  45919049.0       0.174879      0.000148  \n",
       "3                 6884.0  45919049.0       0.284197      0.000150  \n",
       "4                 7131.0  45919049.0       0.367826      0.000155  \n",
       "...                  ...         ...            ...           ...  \n",
       "2675309           4789.0   7018354.0       0.003827      0.000682  \n",
       "2675400           1679.0   3015268.0       0.008354      0.000557  \n",
       "2675491           1679.0   3015268.0       0.008354      0.000557  \n",
       "2675582           1679.0   3015268.0       0.005848      0.000557  \n",
       "2675673           1679.0   3015268.0       0.005848      0.000557  \n",
       "\n",
       "[2232412 rows x 10 columns]"
      ]
     },
     "execution_count": 25,
     "metadata": {},
     "output_type": "execute_result"
    }
   ],
   "source": [
    "# filter dataset\n",
    "df_predictions[\"I\"] = df_predictions[\"I0\"].fillna(0) + df_predictions[\"I1\"] + df_predictions[\"I2\"] + df_predictions[\"I3\"]\n",
    "predicted_vs_seen = df_predictions[[\"model\", \"days\", \"scenario\", \"reference_date\", \"state_num_id\", \"I\", \"estimated_cases\", \"population\"]].dropna()\n",
    "predicted_vs_seen[\"predicted_ppc\"] = predicted_vs_seen[\"I\"] / predicted_vs_seen[\"population\"]\n",
    "predicted_vs_seen[\"infected_ppc\"] = predicted_vs_seen[\"estimated_cases\"] / predicted_vs_seen[\"population\"]\n",
    "predicted_vs_seen.drop(columns=[\"I\", \"estimated_cases\", \"population\"])\n",
    "\n",
    "predicted_vs_seen"
   ]
  },
  {
   "cell_type": "markdown",
   "id": "rental-vessel",
   "metadata": {},
   "source": [
    "Para avaliar a qualidade dos modelos, utilizamos a [raíz do erro quadrático médio (RMSE)](https://en.wikipedia.org/wiki/Root-mean-square_deviation), que expressa os resíduos não explicados pelo modelo, na mesma escala original (número de infectados per capita) - ou seja, quanto menor, melhor."
   ]
  },
  {
   "cell_type": "code",
   "execution_count": 26,
   "id": "plastic-macro",
   "metadata": {},
   "outputs": [
    {
     "data": {
      "text/html": [
       "<div>\n",
       "<style scoped>\n",
       "    .dataframe tbody tr th:only-of-type {\n",
       "        vertical-align: middle;\n",
       "    }\n",
       "\n",
       "    .dataframe tbody tr th {\n",
       "        vertical-align: top;\n",
       "    }\n",
       "\n",
       "    .dataframe thead th {\n",
       "        text-align: right;\n",
       "    }\n",
       "</style>\n",
       "<table border=\"1\" class=\"dataframe\">\n",
       "  <thead>\n",
       "    <tr style=\"text-align: right;\">\n",
       "      <th></th>\n",
       "      <th>model</th>\n",
       "      <th>days</th>\n",
       "      <th>scenario</th>\n",
       "      <th>rmse</th>\n",
       "    </tr>\n",
       "  </thead>\n",
       "  <tbody>\n",
       "    <tr>\n",
       "      <th>0</th>\n",
       "      <td>SEAPMDR</td>\n",
       "      <td>1</td>\n",
       "      <td>best</td>\n",
       "      <td>0.012188</td>\n",
       "    </tr>\n",
       "    <tr>\n",
       "      <th>1</th>\n",
       "      <td>SEAPMDR</td>\n",
       "      <td>1</td>\n",
       "      <td>worst</td>\n",
       "      <td>0.012188</td>\n",
       "    </tr>\n",
       "    <tr>\n",
       "      <th>2</th>\n",
       "      <td>SEAPMDR</td>\n",
       "      <td>2</td>\n",
       "      <td>best</td>\n",
       "      <td>0.087816</td>\n",
       "    </tr>\n",
       "    <tr>\n",
       "      <th>3</th>\n",
       "      <td>SEAPMDR</td>\n",
       "      <td>2</td>\n",
       "      <td>worst</td>\n",
       "      <td>0.084536</td>\n",
       "    </tr>\n",
       "    <tr>\n",
       "      <th>4</th>\n",
       "      <td>SEAPMDR</td>\n",
       "      <td>3</td>\n",
       "      <td>best</td>\n",
       "      <td>0.193574</td>\n",
       "    </tr>\n",
       "    <tr>\n",
       "      <th>...</th>\n",
       "      <td>...</td>\n",
       "      <td>...</td>\n",
       "      <td>...</td>\n",
       "      <td>...</td>\n",
       "    </tr>\n",
       "    <tr>\n",
       "      <th>359</th>\n",
       "      <td>SEIR</td>\n",
       "      <td>89</td>\n",
       "      <td>worst</td>\n",
       "      <td>0.037086</td>\n",
       "    </tr>\n",
       "    <tr>\n",
       "      <th>360</th>\n",
       "      <td>SEIR</td>\n",
       "      <td>90</td>\n",
       "      <td>best</td>\n",
       "      <td>0.030361</td>\n",
       "    </tr>\n",
       "    <tr>\n",
       "      <th>361</th>\n",
       "      <td>SEIR</td>\n",
       "      <td>90</td>\n",
       "      <td>worst</td>\n",
       "      <td>0.036518</td>\n",
       "    </tr>\n",
       "    <tr>\n",
       "      <th>362</th>\n",
       "      <td>SEIR</td>\n",
       "      <td>91</td>\n",
       "      <td>best</td>\n",
       "      <td>0.030026</td>\n",
       "    </tr>\n",
       "    <tr>\n",
       "      <th>363</th>\n",
       "      <td>SEIR</td>\n",
       "      <td>91</td>\n",
       "      <td>worst</td>\n",
       "      <td>0.035956</td>\n",
       "    </tr>\n",
       "  </tbody>\n",
       "</table>\n",
       "<p>364 rows × 4 columns</p>\n",
       "</div>"
      ],
      "text/plain": [
       "       model  days scenario      rmse\n",
       "0    SEAPMDR     1     best  0.012188\n",
       "1    SEAPMDR     1    worst  0.012188\n",
       "2    SEAPMDR     2     best  0.087816\n",
       "3    SEAPMDR     2    worst  0.084536\n",
       "4    SEAPMDR     3     best  0.193574\n",
       "..       ...   ...      ...       ...\n",
       "359     SEIR    89    worst  0.037086\n",
       "360     SEIR    90     best  0.030361\n",
       "361     SEIR    90    worst  0.036518\n",
       "362     SEIR    91     best  0.030026\n",
       "363     SEIR    91    worst  0.035956\n",
       "\n",
       "[364 rows x 4 columns]"
      ]
     },
     "execution_count": 26,
     "metadata": {},
     "output_type": "execute_result"
    }
   ],
   "source": [
    "def rmse( g ):\n",
    "    \"\"\"Generates RMSE values for a pd.DataFrame.\"\"\"\n",
    "    # CREDIT: https://stackoverflow.com/a/47914634\n",
    "    # TODO: abstract column names\n",
    "    rmse = np.sqrt(mean_squared_error( g['infected_ppc'], g['predicted_ppc'] ) )\n",
    "    return pd.Series(rmse)\n",
    "\n",
    "performance = (\n",
    "    predicted_vs_seen\n",
    "    .groupby([\"model\", \"days\", \"scenario\"])\n",
    "    .apply(rmse)\n",
    "    .rename(columns={0:\"rmse\"})\n",
    "    .reset_index()\n",
    ")\n",
    "\n",
    "performance"
   ]
  },
  {
   "cell_type": "markdown",
   "id": "partial-enemy",
   "metadata": {},
   "source": [
    "### Visualização dos resultados \n",
    "\n",
    "O gráfico a seguir fornece uma visualização de como os resíduos de ambos os modelos se comportam com o aumento do número de dias da previsão. \n",
    "\n",
    "Conforme se pode pode observar na figura, ambos os modelos tem resultados bastante parecidos nos primeiros dias. Porém, o modelo original (SEIR) tende a manter resíduos significativamente menores do que o modelo modificado (SEAPMDR) a partir do 18º dia, quando o resíduo desse segundo modelo aumenta em mais de uma ordem de grandeza."
   ]
  },
  {
   "cell_type": "code",
   "execution_count": 30,
   "id": "brief-diploma",
   "metadata": {},
   "outputs": [
    {
     "data": {
      "application/vnd.plotly.v1+json": {
       "config": {
        "plotlyServerURL": "https://plot.ly"
       },
       "data": [
        {
         "hovertemplate": "Modelo=SEAPMDR<br>dias=%{x}<br>RMSE=%{y}<extra></extra>",
         "legendgroup": "SEAPMDR",
         "line": {
          "color": "#636efa",
          "dash": "solid"
         },
         "mode": "lines",
         "name": "SEAPMDR",
         "orientation": "v",
         "showlegend": true,
         "type": "scatter",
         "x": [
          1,
          2,
          3,
          4,
          5,
          6,
          7,
          8,
          9,
          10,
          11,
          12,
          13,
          14,
          15,
          16,
          17,
          18,
          19,
          20,
          21,
          22,
          23,
          24,
          25,
          26,
          27,
          28,
          29,
          30,
          31,
          32,
          33,
          34,
          35,
          36,
          37,
          38,
          39,
          40,
          41,
          42,
          43,
          44,
          45,
          46,
          47,
          48,
          49,
          50,
          51,
          52,
          53,
          54,
          55,
          56,
          57,
          58,
          59,
          60,
          61,
          62,
          63,
          64,
          65,
          66,
          67,
          68,
          69,
          70,
          71,
          72,
          73,
          74,
          75,
          76,
          77,
          78,
          79,
          80,
          81,
          82,
          83,
          84,
          85,
          86,
          87,
          88,
          89
         ],
         "xaxis": "x",
         "y": [
          0.012188003412673641,
          0.08453599256909546,
          0.1900264090018668,
          0.28653473144446295,
          0.35765009224286426,
          0.40065900875590127,
          0.4188819445460849,
          0.4176891636235376,
          0.40264329720588327,
          0.378380968652935,
          0.34870154729796465,
          0.31662276343303186,
          0.28410300220080936,
          0.25252249609439353,
          0.22274420122122182,
          0.1952566469875551,
          0.17028839438553411,
          0.14788767156991944,
          0.12798577989695184,
          0.11044091466887783,
          0.095072445635367,
          0.08167515969115184,
          0.07004219911136851,
          0.05997563913479521,
          0.051287740357756524,
          0.043806760631143714,
          0.037376964458232645,
          0.03186029938312444,
          0.027133006055470175,
          0.023085354247305935,
          0.019622593393806387,
          0.01666223097074365,
          0.014132833487242695,
          0.01197259934537149,
          0.01012881637814125,
          0.008555763673155161,
          0.0072141462818700736,
          0.006070416929430652,
          0.005095732001358807,
          0.004265766168345931,
          0.003559716346978019,
          0.0029601004411837703,
          0.00245191657516013,
          0.0020226667488004984,
          0.001662187644085389,
          0.001362218162326543,
          0.0011164327609474287,
          0.0009202170287215316,
          0.0007701825242971742,
          0.0006636463821487251,
          0.000597196219333813,
          0.0005649918039976298,
          0.000558078969961416,
          0.0005669161484659932,
          0.0005851457979355155,
          0.0006080590322877446,
          0.0006322317333630239,
          0.0006557879414916471,
          0.0006774953369202194,
          0.0006968077598608709,
          0.0007137987481069223,
          0.000729040947123309,
          0.000742013333981438,
          0.0007531676167414476,
          0.000762560942519216,
          0.0007702227652195457,
          0.0007763496798729059,
          0.0007817507654689168,
          0.0007867509337052095,
          0.000790826166849352,
          0.0007940247316315646,
          0.0007964375757159969,
          0.0007982239276793177,
          0.0007993415028510744,
          0.0007999854949317855,
          0.0008002600102945578,
          0.000799926640571254,
          0.000799260236258544,
          0.0007984588258712761,
          0.0007973485837671224,
          0.000795729697206932,
          0.0007938410365137808,
          0.0007919546527108918,
          0.0007899532184478665,
          0.0007879194929577679,
          0.0007859152612375172,
          0.0007835406257557836,
          0.0007810626894403933,
          0.0007787661731888916
         ],
         "yaxis": "y"
        },
        {
         "hovertemplate": "Modelo=SEIR<br>dias=%{x}<br>RMSE=%{y}<extra></extra>",
         "legendgroup": "SEIR",
         "line": {
          "color": "#EF553B",
          "dash": "solid"
         },
         "mode": "lines",
         "name": "SEIR",
         "orientation": "v",
         "showlegend": true,
         "type": "scatter",
         "x": [
          1,
          2,
          3,
          4,
          5,
          6,
          7,
          8,
          9,
          10,
          11,
          12,
          13,
          14,
          15,
          16,
          17,
          18,
          19,
          20,
          21,
          22,
          23,
          24,
          25,
          26,
          27,
          28,
          29,
          30,
          31,
          32,
          33,
          34,
          35,
          36,
          37,
          38,
          39,
          40,
          41,
          42,
          43,
          44,
          45,
          46,
          47,
          48,
          49,
          50,
          51,
          52,
          53,
          54,
          55,
          56,
          57,
          58,
          59,
          60,
          61,
          62,
          63,
          64,
          65,
          66,
          67,
          68,
          69,
          70,
          71,
          72,
          73,
          74,
          75,
          76,
          77,
          78,
          79,
          80,
          81,
          82,
          83,
          84,
          85,
          86,
          87,
          88,
          89
         ],
         "xaxis": "x",
         "y": [
          0.008249651695406892,
          0.008550096133771695,
          0.008886389894023771,
          0.009254423034763207,
          0.009653639299609315,
          0.010084838775303424,
          0.01054980490676583,
          0.011050966617763896,
          0.01159049361196946,
          0.012171565868054098,
          0.012798684144659057,
          0.01347682999420558,
          0.014209988306967923,
          0.015003956025724078,
          0.015864917697046454,
          0.01679835238389739,
          0.017810398114106618,
          0.0189074427846191,
          0.020095736897959456,
          0.02138047265193483,
          0.022765334040417185,
          0.024254125472403142,
          0.02584770144122593,
          0.027544359931956232,
          0.029338962184908148,
          0.031223792897486658,
          0.03318747866799776,
          0.035213387029388414,
          0.03728210419491778,
          0.039370794425506346,
          0.04145438522417967,
          0.04350696384262466,
          0.04550127839552547,
          0.04741145202286838,
          0.049212105045544616,
          0.05088049357668159,
          0.05239634387955516,
          0.05374271500914257,
          0.054906726883597844,
          0.055880469113737403,
          0.05666111505325819,
          0.05725055565597902,
          0.05765646843129786,
          0.057891019055831945,
          0.05797047848791526,
          0.05791343643990452,
          0.057741177038455674,
          0.05747521847131783,
          0.05713603170177091,
          0.05674310087444371,
          0.05631294415672185,
          0.0558602030000907,
          0.055396825280157116,
          0.05493155476412849,
          0.0544700003591594,
          0.05401550853176623,
          0.053569438238011295,
          0.05313190003846848,
          0.052701800716535366,
          0.05227697783534566,
          0.05185501865819962,
          0.05143308352861785,
          0.0510087658785068,
          0.05057951712768051,
          0.050143058918107206,
          0.049697730043526095,
          0.0492419503234166,
          0.04877467546212307,
          0.0482952698027298,
          0.04780342921560404,
          0.04729927040397984,
          0.04678318102135369,
          0.0462557105452342,
          0.04571763817020326,
          0.04516993391586778,
          0.044613585205349714,
          0.044049771113728355,
          0.043479575038872294,
          0.04290417774711641,
          0.04232467677143398,
          0.0417421037383499,
          0.04115735559463615,
          0.04057155040878869,
          0.03998580692910312,
          0.03940020304277533,
          0.03881662706200123,
          0.03823606334478744,
          0.03765909786086533,
          0.03708625540639638
         ],
         "yaxis": "y"
        }
       ],
       "layout": {
        "legend": {
         "title": {
          "text": "Modelo"
         },
         "tracegroupgap": 0
        },
        "template": {
         "data": {
          "bar": [
           {
            "error_x": {
             "color": "#2a3f5f"
            },
            "error_y": {
             "color": "#2a3f5f"
            },
            "marker": {
             "line": {
              "color": "#E5ECF6",
              "width": 0.5
             }
            },
            "type": "bar"
           }
          ],
          "barpolar": [
           {
            "marker": {
             "line": {
              "color": "#E5ECF6",
              "width": 0.5
             }
            },
            "type": "barpolar"
           }
          ],
          "carpet": [
           {
            "aaxis": {
             "endlinecolor": "#2a3f5f",
             "gridcolor": "white",
             "linecolor": "white",
             "minorgridcolor": "white",
             "startlinecolor": "#2a3f5f"
            },
            "baxis": {
             "endlinecolor": "#2a3f5f",
             "gridcolor": "white",
             "linecolor": "white",
             "minorgridcolor": "white",
             "startlinecolor": "#2a3f5f"
            },
            "type": "carpet"
           }
          ],
          "choropleth": [
           {
            "colorbar": {
             "outlinewidth": 0,
             "ticks": ""
            },
            "type": "choropleth"
           }
          ],
          "contour": [
           {
            "colorbar": {
             "outlinewidth": 0,
             "ticks": ""
            },
            "colorscale": [
             [
              0,
              "#0d0887"
             ],
             [
              0.1111111111111111,
              "#46039f"
             ],
             [
              0.2222222222222222,
              "#7201a8"
             ],
             [
              0.3333333333333333,
              "#9c179e"
             ],
             [
              0.4444444444444444,
              "#bd3786"
             ],
             [
              0.5555555555555556,
              "#d8576b"
             ],
             [
              0.6666666666666666,
              "#ed7953"
             ],
             [
              0.7777777777777778,
              "#fb9f3a"
             ],
             [
              0.8888888888888888,
              "#fdca26"
             ],
             [
              1,
              "#f0f921"
             ]
            ],
            "type": "contour"
           }
          ],
          "contourcarpet": [
           {
            "colorbar": {
             "outlinewidth": 0,
             "ticks": ""
            },
            "type": "contourcarpet"
           }
          ],
          "heatmap": [
           {
            "colorbar": {
             "outlinewidth": 0,
             "ticks": ""
            },
            "colorscale": [
             [
              0,
              "#0d0887"
             ],
             [
              0.1111111111111111,
              "#46039f"
             ],
             [
              0.2222222222222222,
              "#7201a8"
             ],
             [
              0.3333333333333333,
              "#9c179e"
             ],
             [
              0.4444444444444444,
              "#bd3786"
             ],
             [
              0.5555555555555556,
              "#d8576b"
             ],
             [
              0.6666666666666666,
              "#ed7953"
             ],
             [
              0.7777777777777778,
              "#fb9f3a"
             ],
             [
              0.8888888888888888,
              "#fdca26"
             ],
             [
              1,
              "#f0f921"
             ]
            ],
            "type": "heatmap"
           }
          ],
          "heatmapgl": [
           {
            "colorbar": {
             "outlinewidth": 0,
             "ticks": ""
            },
            "colorscale": [
             [
              0,
              "#0d0887"
             ],
             [
              0.1111111111111111,
              "#46039f"
             ],
             [
              0.2222222222222222,
              "#7201a8"
             ],
             [
              0.3333333333333333,
              "#9c179e"
             ],
             [
              0.4444444444444444,
              "#bd3786"
             ],
             [
              0.5555555555555556,
              "#d8576b"
             ],
             [
              0.6666666666666666,
              "#ed7953"
             ],
             [
              0.7777777777777778,
              "#fb9f3a"
             ],
             [
              0.8888888888888888,
              "#fdca26"
             ],
             [
              1,
              "#f0f921"
             ]
            ],
            "type": "heatmapgl"
           }
          ],
          "histogram": [
           {
            "marker": {
             "colorbar": {
              "outlinewidth": 0,
              "ticks": ""
             }
            },
            "type": "histogram"
           }
          ],
          "histogram2d": [
           {
            "colorbar": {
             "outlinewidth": 0,
             "ticks": ""
            },
            "colorscale": [
             [
              0,
              "#0d0887"
             ],
             [
              0.1111111111111111,
              "#46039f"
             ],
             [
              0.2222222222222222,
              "#7201a8"
             ],
             [
              0.3333333333333333,
              "#9c179e"
             ],
             [
              0.4444444444444444,
              "#bd3786"
             ],
             [
              0.5555555555555556,
              "#d8576b"
             ],
             [
              0.6666666666666666,
              "#ed7953"
             ],
             [
              0.7777777777777778,
              "#fb9f3a"
             ],
             [
              0.8888888888888888,
              "#fdca26"
             ],
             [
              1,
              "#f0f921"
             ]
            ],
            "type": "histogram2d"
           }
          ],
          "histogram2dcontour": [
           {
            "colorbar": {
             "outlinewidth": 0,
             "ticks": ""
            },
            "colorscale": [
             [
              0,
              "#0d0887"
             ],
             [
              0.1111111111111111,
              "#46039f"
             ],
             [
              0.2222222222222222,
              "#7201a8"
             ],
             [
              0.3333333333333333,
              "#9c179e"
             ],
             [
              0.4444444444444444,
              "#bd3786"
             ],
             [
              0.5555555555555556,
              "#d8576b"
             ],
             [
              0.6666666666666666,
              "#ed7953"
             ],
             [
              0.7777777777777778,
              "#fb9f3a"
             ],
             [
              0.8888888888888888,
              "#fdca26"
             ],
             [
              1,
              "#f0f921"
             ]
            ],
            "type": "histogram2dcontour"
           }
          ],
          "mesh3d": [
           {
            "colorbar": {
             "outlinewidth": 0,
             "ticks": ""
            },
            "type": "mesh3d"
           }
          ],
          "parcoords": [
           {
            "line": {
             "colorbar": {
              "outlinewidth": 0,
              "ticks": ""
             }
            },
            "type": "parcoords"
           }
          ],
          "pie": [
           {
            "automargin": true,
            "type": "pie"
           }
          ],
          "scatter": [
           {
            "marker": {
             "colorbar": {
              "outlinewidth": 0,
              "ticks": ""
             }
            },
            "type": "scatter"
           }
          ],
          "scatter3d": [
           {
            "line": {
             "colorbar": {
              "outlinewidth": 0,
              "ticks": ""
             }
            },
            "marker": {
             "colorbar": {
              "outlinewidth": 0,
              "ticks": ""
             }
            },
            "type": "scatter3d"
           }
          ],
          "scattercarpet": [
           {
            "marker": {
             "colorbar": {
              "outlinewidth": 0,
              "ticks": ""
             }
            },
            "type": "scattercarpet"
           }
          ],
          "scattergeo": [
           {
            "marker": {
             "colorbar": {
              "outlinewidth": 0,
              "ticks": ""
             }
            },
            "type": "scattergeo"
           }
          ],
          "scattergl": [
           {
            "marker": {
             "colorbar": {
              "outlinewidth": 0,
              "ticks": ""
             }
            },
            "type": "scattergl"
           }
          ],
          "scattermapbox": [
           {
            "marker": {
             "colorbar": {
              "outlinewidth": 0,
              "ticks": ""
             }
            },
            "type": "scattermapbox"
           }
          ],
          "scatterpolar": [
           {
            "marker": {
             "colorbar": {
              "outlinewidth": 0,
              "ticks": ""
             }
            },
            "type": "scatterpolar"
           }
          ],
          "scatterpolargl": [
           {
            "marker": {
             "colorbar": {
              "outlinewidth": 0,
              "ticks": ""
             }
            },
            "type": "scatterpolargl"
           }
          ],
          "scatterternary": [
           {
            "marker": {
             "colorbar": {
              "outlinewidth": 0,
              "ticks": ""
             }
            },
            "type": "scatterternary"
           }
          ],
          "surface": [
           {
            "colorbar": {
             "outlinewidth": 0,
             "ticks": ""
            },
            "colorscale": [
             [
              0,
              "#0d0887"
             ],
             [
              0.1111111111111111,
              "#46039f"
             ],
             [
              0.2222222222222222,
              "#7201a8"
             ],
             [
              0.3333333333333333,
              "#9c179e"
             ],
             [
              0.4444444444444444,
              "#bd3786"
             ],
             [
              0.5555555555555556,
              "#d8576b"
             ],
             [
              0.6666666666666666,
              "#ed7953"
             ],
             [
              0.7777777777777778,
              "#fb9f3a"
             ],
             [
              0.8888888888888888,
              "#fdca26"
             ],
             [
              1,
              "#f0f921"
             ]
            ],
            "type": "surface"
           }
          ],
          "table": [
           {
            "cells": {
             "fill": {
              "color": "#EBF0F8"
             },
             "line": {
              "color": "white"
             }
            },
            "header": {
             "fill": {
              "color": "#C8D4E3"
             },
             "line": {
              "color": "white"
             }
            },
            "type": "table"
           }
          ]
         },
         "layout": {
          "annotationdefaults": {
           "arrowcolor": "#2a3f5f",
           "arrowhead": 0,
           "arrowwidth": 1
          },
          "autotypenumbers": "strict",
          "coloraxis": {
           "colorbar": {
            "outlinewidth": 0,
            "ticks": ""
           }
          },
          "colorscale": {
           "diverging": [
            [
             0,
             "#8e0152"
            ],
            [
             0.1,
             "#c51b7d"
            ],
            [
             0.2,
             "#de77ae"
            ],
            [
             0.3,
             "#f1b6da"
            ],
            [
             0.4,
             "#fde0ef"
            ],
            [
             0.5,
             "#f7f7f7"
            ],
            [
             0.6,
             "#e6f5d0"
            ],
            [
             0.7,
             "#b8e186"
            ],
            [
             0.8,
             "#7fbc41"
            ],
            [
             0.9,
             "#4d9221"
            ],
            [
             1,
             "#276419"
            ]
           ],
           "sequential": [
            [
             0,
             "#0d0887"
            ],
            [
             0.1111111111111111,
             "#46039f"
            ],
            [
             0.2222222222222222,
             "#7201a8"
            ],
            [
             0.3333333333333333,
             "#9c179e"
            ],
            [
             0.4444444444444444,
             "#bd3786"
            ],
            [
             0.5555555555555556,
             "#d8576b"
            ],
            [
             0.6666666666666666,
             "#ed7953"
            ],
            [
             0.7777777777777778,
             "#fb9f3a"
            ],
            [
             0.8888888888888888,
             "#fdca26"
            ],
            [
             1,
             "#f0f921"
            ]
           ],
           "sequentialminus": [
            [
             0,
             "#0d0887"
            ],
            [
             0.1111111111111111,
             "#46039f"
            ],
            [
             0.2222222222222222,
             "#7201a8"
            ],
            [
             0.3333333333333333,
             "#9c179e"
            ],
            [
             0.4444444444444444,
             "#bd3786"
            ],
            [
             0.5555555555555556,
             "#d8576b"
            ],
            [
             0.6666666666666666,
             "#ed7953"
            ],
            [
             0.7777777777777778,
             "#fb9f3a"
            ],
            [
             0.8888888888888888,
             "#fdca26"
            ],
            [
             1,
             "#f0f921"
            ]
           ]
          },
          "colorway": [
           "#636efa",
           "#EF553B",
           "#00cc96",
           "#ab63fa",
           "#FFA15A",
           "#19d3f3",
           "#FF6692",
           "#B6E880",
           "#FF97FF",
           "#FECB52"
          ],
          "font": {
           "color": "#2a3f5f"
          },
          "geo": {
           "bgcolor": "white",
           "lakecolor": "white",
           "landcolor": "#E5ECF6",
           "showlakes": true,
           "showland": true,
           "subunitcolor": "white"
          },
          "hoverlabel": {
           "align": "left"
          },
          "hovermode": "closest",
          "mapbox": {
           "style": "light"
          },
          "paper_bgcolor": "white",
          "plot_bgcolor": "#E5ECF6",
          "polar": {
           "angularaxis": {
            "gridcolor": "white",
            "linecolor": "white",
            "ticks": ""
           },
           "bgcolor": "#E5ECF6",
           "radialaxis": {
            "gridcolor": "white",
            "linecolor": "white",
            "ticks": ""
           }
          },
          "scene": {
           "xaxis": {
            "backgroundcolor": "#E5ECF6",
            "gridcolor": "white",
            "gridwidth": 2,
            "linecolor": "white",
            "showbackground": true,
            "ticks": "",
            "zerolinecolor": "white"
           },
           "yaxis": {
            "backgroundcolor": "#E5ECF6",
            "gridcolor": "white",
            "gridwidth": 2,
            "linecolor": "white",
            "showbackground": true,
            "ticks": "",
            "zerolinecolor": "white"
           },
           "zaxis": {
            "backgroundcolor": "#E5ECF6",
            "gridcolor": "white",
            "gridwidth": 2,
            "linecolor": "white",
            "showbackground": true,
            "ticks": "",
            "zerolinecolor": "white"
           }
          },
          "shapedefaults": {
           "line": {
            "color": "#2a3f5f"
           }
          },
          "ternary": {
           "aaxis": {
            "gridcolor": "white",
            "linecolor": "white",
            "ticks": ""
           },
           "baxis": {
            "gridcolor": "white",
            "linecolor": "white",
            "ticks": ""
           },
           "bgcolor": "#E5ECF6",
           "caxis": {
            "gridcolor": "white",
            "linecolor": "white",
            "ticks": ""
           }
          },
          "title": {
           "x": 0.05
          },
          "xaxis": {
           "automargin": true,
           "gridcolor": "white",
           "linecolor": "white",
           "ticks": "",
           "title": {
            "standoff": 15
           },
           "zerolinecolor": "white",
           "zerolinewidth": 2
          },
          "yaxis": {
           "automargin": true,
           "gridcolor": "white",
           "linecolor": "white",
           "ticks": "",
           "title": {
            "standoff": 15
           },
           "zerolinecolor": "white",
           "zerolinewidth": 2
          }
         }
        },
        "title": {
         "text": "Raíz do Erro Quadrático Médio para modelos SEIR e SEAPMDR"
        },
        "xaxis": {
         "anchor": "y",
         "domain": [
          0,
          1
         ],
         "title": {
          "text": "dias"
         }
        },
        "yaxis": {
         "anchor": "x",
         "domain": [
          0,
          1
         ],
         "title": {
          "text": "RMSE"
         }
        }
       }
      },
      "text/html": [
       "<div>                            <div id=\"373ae288-f016-44e4-97de-41a868cd8269\" class=\"plotly-graph-div\" style=\"height:525px; width:100%;\"></div>            <script type=\"text/javascript\">                require([\"plotly\"], function(Plotly) {                    window.PLOTLYENV=window.PLOTLYENV || {};                                    if (document.getElementById(\"373ae288-f016-44e4-97de-41a868cd8269\")) {                    Plotly.newPlot(                        \"373ae288-f016-44e4-97de-41a868cd8269\",                        [{\"hovertemplate\": \"Modelo=SEAPMDR<br>dias=%{x}<br>RMSE=%{y}<extra></extra>\", \"legendgroup\": \"SEAPMDR\", \"line\": {\"color\": \"#636efa\", \"dash\": \"solid\"}, \"mode\": \"lines\", \"name\": \"SEAPMDR\", \"orientation\": \"v\", \"showlegend\": true, \"type\": \"scatter\", \"x\": [1, 2, 3, 4, 5, 6, 7, 8, 9, 10, 11, 12, 13, 14, 15, 16, 17, 18, 19, 20, 21, 22, 23, 24, 25, 26, 27, 28, 29, 30, 31, 32, 33, 34, 35, 36, 37, 38, 39, 40, 41, 42, 43, 44, 45, 46, 47, 48, 49, 50, 51, 52, 53, 54, 55, 56, 57, 58, 59, 60, 61, 62, 63, 64, 65, 66, 67, 68, 69, 70, 71, 72, 73, 74, 75, 76, 77, 78, 79, 80, 81, 82, 83, 84, 85, 86, 87, 88, 89], \"xaxis\": \"x\", \"y\": [0.012188003412673641, 0.08453599256909546, 0.1900264090018668, 0.28653473144446295, 0.35765009224286426, 0.40065900875590127, 0.4188819445460849, 0.4176891636235376, 0.40264329720588327, 0.378380968652935, 0.34870154729796465, 0.31662276343303186, 0.28410300220080936, 0.25252249609439353, 0.22274420122122182, 0.1952566469875551, 0.17028839438553411, 0.14788767156991944, 0.12798577989695184, 0.11044091466887783, 0.095072445635367, 0.08167515969115184, 0.07004219911136851, 0.05997563913479521, 0.051287740357756524, 0.043806760631143714, 0.037376964458232645, 0.03186029938312444, 0.027133006055470175, 0.023085354247305935, 0.019622593393806387, 0.01666223097074365, 0.014132833487242695, 0.01197259934537149, 0.01012881637814125, 0.008555763673155161, 0.0072141462818700736, 0.006070416929430652, 0.005095732001358807, 0.004265766168345931, 0.003559716346978019, 0.0029601004411837703, 0.00245191657516013, 0.0020226667488004984, 0.001662187644085389, 0.001362218162326543, 0.0011164327609474287, 0.0009202170287215316, 0.0007701825242971742, 0.0006636463821487251, 0.000597196219333813, 0.0005649918039976298, 0.000558078969961416, 0.0005669161484659932, 0.0005851457979355155, 0.0006080590322877446, 0.0006322317333630239, 0.0006557879414916471, 0.0006774953369202194, 0.0006968077598608709, 0.0007137987481069223, 0.000729040947123309, 0.000742013333981438, 0.0007531676167414476, 0.000762560942519216, 0.0007702227652195457, 0.0007763496798729059, 0.0007817507654689168, 0.0007867509337052095, 0.000790826166849352, 0.0007940247316315646, 0.0007964375757159969, 0.0007982239276793177, 0.0007993415028510744, 0.0007999854949317855, 0.0008002600102945578, 0.000799926640571254, 0.000799260236258544, 0.0007984588258712761, 0.0007973485837671224, 0.000795729697206932, 0.0007938410365137808, 0.0007919546527108918, 0.0007899532184478665, 0.0007879194929577679, 0.0007859152612375172, 0.0007835406257557836, 0.0007810626894403933, 0.0007787661731888916], \"yaxis\": \"y\"}, {\"hovertemplate\": \"Modelo=SEIR<br>dias=%{x}<br>RMSE=%{y}<extra></extra>\", \"legendgroup\": \"SEIR\", \"line\": {\"color\": \"#EF553B\", \"dash\": \"solid\"}, \"mode\": \"lines\", \"name\": \"SEIR\", \"orientation\": \"v\", \"showlegend\": true, \"type\": \"scatter\", \"x\": [1, 2, 3, 4, 5, 6, 7, 8, 9, 10, 11, 12, 13, 14, 15, 16, 17, 18, 19, 20, 21, 22, 23, 24, 25, 26, 27, 28, 29, 30, 31, 32, 33, 34, 35, 36, 37, 38, 39, 40, 41, 42, 43, 44, 45, 46, 47, 48, 49, 50, 51, 52, 53, 54, 55, 56, 57, 58, 59, 60, 61, 62, 63, 64, 65, 66, 67, 68, 69, 70, 71, 72, 73, 74, 75, 76, 77, 78, 79, 80, 81, 82, 83, 84, 85, 86, 87, 88, 89], \"xaxis\": \"x\", \"y\": [0.008249651695406892, 0.008550096133771695, 0.008886389894023771, 0.009254423034763207, 0.009653639299609315, 0.010084838775303424, 0.01054980490676583, 0.011050966617763896, 0.01159049361196946, 0.012171565868054098, 0.012798684144659057, 0.01347682999420558, 0.014209988306967923, 0.015003956025724078, 0.015864917697046454, 0.01679835238389739, 0.017810398114106618, 0.0189074427846191, 0.020095736897959456, 0.02138047265193483, 0.022765334040417185, 0.024254125472403142, 0.02584770144122593, 0.027544359931956232, 0.029338962184908148, 0.031223792897486658, 0.03318747866799776, 0.035213387029388414, 0.03728210419491778, 0.039370794425506346, 0.04145438522417967, 0.04350696384262466, 0.04550127839552547, 0.04741145202286838, 0.049212105045544616, 0.05088049357668159, 0.05239634387955516, 0.05374271500914257, 0.054906726883597844, 0.055880469113737403, 0.05666111505325819, 0.05725055565597902, 0.05765646843129786, 0.057891019055831945, 0.05797047848791526, 0.05791343643990452, 0.057741177038455674, 0.05747521847131783, 0.05713603170177091, 0.05674310087444371, 0.05631294415672185, 0.0558602030000907, 0.055396825280157116, 0.05493155476412849, 0.0544700003591594, 0.05401550853176623, 0.053569438238011295, 0.05313190003846848, 0.052701800716535366, 0.05227697783534566, 0.05185501865819962, 0.05143308352861785, 0.0510087658785068, 0.05057951712768051, 0.050143058918107206, 0.049697730043526095, 0.0492419503234166, 0.04877467546212307, 0.0482952698027298, 0.04780342921560404, 0.04729927040397984, 0.04678318102135369, 0.0462557105452342, 0.04571763817020326, 0.04516993391586778, 0.044613585205349714, 0.044049771113728355, 0.043479575038872294, 0.04290417774711641, 0.04232467677143398, 0.0417421037383499, 0.04115735559463615, 0.04057155040878869, 0.03998580692910312, 0.03940020304277533, 0.03881662706200123, 0.03823606334478744, 0.03765909786086533, 0.03708625540639638], \"yaxis\": \"y\"}],                        {\"legend\": {\"title\": {\"text\": \"Modelo\"}, \"tracegroupgap\": 0}, \"template\": {\"data\": {\"bar\": [{\"error_x\": {\"color\": \"#2a3f5f\"}, \"error_y\": {\"color\": \"#2a3f5f\"}, \"marker\": {\"line\": {\"color\": \"#E5ECF6\", \"width\": 0.5}}, \"type\": \"bar\"}], \"barpolar\": [{\"marker\": {\"line\": {\"color\": \"#E5ECF6\", \"width\": 0.5}}, \"type\": \"barpolar\"}], \"carpet\": [{\"aaxis\": {\"endlinecolor\": \"#2a3f5f\", \"gridcolor\": \"white\", \"linecolor\": \"white\", \"minorgridcolor\": \"white\", \"startlinecolor\": \"#2a3f5f\"}, \"baxis\": {\"endlinecolor\": \"#2a3f5f\", \"gridcolor\": \"white\", \"linecolor\": \"white\", \"minorgridcolor\": \"white\", \"startlinecolor\": \"#2a3f5f\"}, \"type\": \"carpet\"}], \"choropleth\": [{\"colorbar\": {\"outlinewidth\": 0, \"ticks\": \"\"}, \"type\": \"choropleth\"}], \"contour\": [{\"colorbar\": {\"outlinewidth\": 0, \"ticks\": \"\"}, \"colorscale\": [[0.0, \"#0d0887\"], [0.1111111111111111, \"#46039f\"], [0.2222222222222222, \"#7201a8\"], [0.3333333333333333, \"#9c179e\"], [0.4444444444444444, \"#bd3786\"], [0.5555555555555556, \"#d8576b\"], [0.6666666666666666, \"#ed7953\"], [0.7777777777777778, \"#fb9f3a\"], [0.8888888888888888, \"#fdca26\"], [1.0, \"#f0f921\"]], \"type\": \"contour\"}], \"contourcarpet\": [{\"colorbar\": {\"outlinewidth\": 0, \"ticks\": \"\"}, \"type\": \"contourcarpet\"}], \"heatmap\": [{\"colorbar\": {\"outlinewidth\": 0, \"ticks\": \"\"}, \"colorscale\": [[0.0, \"#0d0887\"], [0.1111111111111111, \"#46039f\"], [0.2222222222222222, \"#7201a8\"], [0.3333333333333333, \"#9c179e\"], [0.4444444444444444, \"#bd3786\"], [0.5555555555555556, \"#d8576b\"], [0.6666666666666666, \"#ed7953\"], [0.7777777777777778, \"#fb9f3a\"], [0.8888888888888888, \"#fdca26\"], [1.0, \"#f0f921\"]], \"type\": \"heatmap\"}], \"heatmapgl\": [{\"colorbar\": {\"outlinewidth\": 0, \"ticks\": \"\"}, \"colorscale\": [[0.0, \"#0d0887\"], [0.1111111111111111, \"#46039f\"], [0.2222222222222222, \"#7201a8\"], [0.3333333333333333, \"#9c179e\"], [0.4444444444444444, \"#bd3786\"], [0.5555555555555556, \"#d8576b\"], [0.6666666666666666, \"#ed7953\"], [0.7777777777777778, \"#fb9f3a\"], [0.8888888888888888, \"#fdca26\"], [1.0, \"#f0f921\"]], \"type\": \"heatmapgl\"}], \"histogram\": [{\"marker\": {\"colorbar\": {\"outlinewidth\": 0, \"ticks\": \"\"}}, \"type\": \"histogram\"}], \"histogram2d\": [{\"colorbar\": {\"outlinewidth\": 0, \"ticks\": \"\"}, \"colorscale\": [[0.0, \"#0d0887\"], [0.1111111111111111, \"#46039f\"], [0.2222222222222222, \"#7201a8\"], [0.3333333333333333, \"#9c179e\"], [0.4444444444444444, \"#bd3786\"], [0.5555555555555556, \"#d8576b\"], [0.6666666666666666, \"#ed7953\"], [0.7777777777777778, \"#fb9f3a\"], [0.8888888888888888, \"#fdca26\"], [1.0, \"#f0f921\"]], \"type\": \"histogram2d\"}], \"histogram2dcontour\": [{\"colorbar\": {\"outlinewidth\": 0, \"ticks\": \"\"}, \"colorscale\": [[0.0, \"#0d0887\"], [0.1111111111111111, \"#46039f\"], [0.2222222222222222, \"#7201a8\"], [0.3333333333333333, \"#9c179e\"], [0.4444444444444444, \"#bd3786\"], [0.5555555555555556, \"#d8576b\"], [0.6666666666666666, \"#ed7953\"], [0.7777777777777778, \"#fb9f3a\"], [0.8888888888888888, \"#fdca26\"], [1.0, \"#f0f921\"]], \"type\": \"histogram2dcontour\"}], \"mesh3d\": [{\"colorbar\": {\"outlinewidth\": 0, \"ticks\": \"\"}, \"type\": \"mesh3d\"}], \"parcoords\": [{\"line\": {\"colorbar\": {\"outlinewidth\": 0, \"ticks\": \"\"}}, \"type\": \"parcoords\"}], \"pie\": [{\"automargin\": true, \"type\": \"pie\"}], \"scatter\": [{\"marker\": {\"colorbar\": {\"outlinewidth\": 0, \"ticks\": \"\"}}, \"type\": \"scatter\"}], \"scatter3d\": [{\"line\": {\"colorbar\": {\"outlinewidth\": 0, \"ticks\": \"\"}}, \"marker\": {\"colorbar\": {\"outlinewidth\": 0, \"ticks\": \"\"}}, \"type\": \"scatter3d\"}], \"scattercarpet\": [{\"marker\": {\"colorbar\": {\"outlinewidth\": 0, \"ticks\": \"\"}}, \"type\": \"scattercarpet\"}], \"scattergeo\": [{\"marker\": {\"colorbar\": {\"outlinewidth\": 0, \"ticks\": \"\"}}, \"type\": \"scattergeo\"}], \"scattergl\": [{\"marker\": {\"colorbar\": {\"outlinewidth\": 0, \"ticks\": \"\"}}, \"type\": \"scattergl\"}], \"scattermapbox\": [{\"marker\": {\"colorbar\": {\"outlinewidth\": 0, \"ticks\": \"\"}}, \"type\": \"scattermapbox\"}], \"scatterpolar\": [{\"marker\": {\"colorbar\": {\"outlinewidth\": 0, \"ticks\": \"\"}}, \"type\": \"scatterpolar\"}], \"scatterpolargl\": [{\"marker\": {\"colorbar\": {\"outlinewidth\": 0, \"ticks\": \"\"}}, \"type\": \"scatterpolargl\"}], \"scatterternary\": [{\"marker\": {\"colorbar\": {\"outlinewidth\": 0, \"ticks\": \"\"}}, \"type\": \"scatterternary\"}], \"surface\": [{\"colorbar\": {\"outlinewidth\": 0, \"ticks\": \"\"}, \"colorscale\": [[0.0, \"#0d0887\"], [0.1111111111111111, \"#46039f\"], [0.2222222222222222, \"#7201a8\"], [0.3333333333333333, \"#9c179e\"], [0.4444444444444444, \"#bd3786\"], [0.5555555555555556, \"#d8576b\"], [0.6666666666666666, \"#ed7953\"], [0.7777777777777778, \"#fb9f3a\"], [0.8888888888888888, \"#fdca26\"], [1.0, \"#f0f921\"]], \"type\": \"surface\"}], \"table\": [{\"cells\": {\"fill\": {\"color\": \"#EBF0F8\"}, \"line\": {\"color\": \"white\"}}, \"header\": {\"fill\": {\"color\": \"#C8D4E3\"}, \"line\": {\"color\": \"white\"}}, \"type\": \"table\"}]}, \"layout\": {\"annotationdefaults\": {\"arrowcolor\": \"#2a3f5f\", \"arrowhead\": 0, \"arrowwidth\": 1}, \"autotypenumbers\": \"strict\", \"coloraxis\": {\"colorbar\": {\"outlinewidth\": 0, \"ticks\": \"\"}}, \"colorscale\": {\"diverging\": [[0, \"#8e0152\"], [0.1, \"#c51b7d\"], [0.2, \"#de77ae\"], [0.3, \"#f1b6da\"], [0.4, \"#fde0ef\"], [0.5, \"#f7f7f7\"], [0.6, \"#e6f5d0\"], [0.7, \"#b8e186\"], [0.8, \"#7fbc41\"], [0.9, \"#4d9221\"], [1, \"#276419\"]], \"sequential\": [[0.0, \"#0d0887\"], [0.1111111111111111, \"#46039f\"], [0.2222222222222222, \"#7201a8\"], [0.3333333333333333, \"#9c179e\"], [0.4444444444444444, \"#bd3786\"], [0.5555555555555556, \"#d8576b\"], [0.6666666666666666, \"#ed7953\"], [0.7777777777777778, \"#fb9f3a\"], [0.8888888888888888, \"#fdca26\"], [1.0, \"#f0f921\"]], \"sequentialminus\": [[0.0, \"#0d0887\"], [0.1111111111111111, \"#46039f\"], [0.2222222222222222, \"#7201a8\"], [0.3333333333333333, \"#9c179e\"], [0.4444444444444444, \"#bd3786\"], [0.5555555555555556, \"#d8576b\"], [0.6666666666666666, \"#ed7953\"], [0.7777777777777778, \"#fb9f3a\"], [0.8888888888888888, \"#fdca26\"], [1.0, \"#f0f921\"]]}, \"colorway\": [\"#636efa\", \"#EF553B\", \"#00cc96\", \"#ab63fa\", \"#FFA15A\", \"#19d3f3\", \"#FF6692\", \"#B6E880\", \"#FF97FF\", \"#FECB52\"], \"font\": {\"color\": \"#2a3f5f\"}, \"geo\": {\"bgcolor\": \"white\", \"lakecolor\": \"white\", \"landcolor\": \"#E5ECF6\", \"showlakes\": true, \"showland\": true, \"subunitcolor\": \"white\"}, \"hoverlabel\": {\"align\": \"left\"}, \"hovermode\": \"closest\", \"mapbox\": {\"style\": \"light\"}, \"paper_bgcolor\": \"white\", \"plot_bgcolor\": \"#E5ECF6\", \"polar\": {\"angularaxis\": {\"gridcolor\": \"white\", \"linecolor\": \"white\", \"ticks\": \"\"}, \"bgcolor\": \"#E5ECF6\", \"radialaxis\": {\"gridcolor\": \"white\", \"linecolor\": \"white\", \"ticks\": \"\"}}, \"scene\": {\"xaxis\": {\"backgroundcolor\": \"#E5ECF6\", \"gridcolor\": \"white\", \"gridwidth\": 2, \"linecolor\": \"white\", \"showbackground\": true, \"ticks\": \"\", \"zerolinecolor\": \"white\"}, \"yaxis\": {\"backgroundcolor\": \"#E5ECF6\", \"gridcolor\": \"white\", \"gridwidth\": 2, \"linecolor\": \"white\", \"showbackground\": true, \"ticks\": \"\", \"zerolinecolor\": \"white\"}, \"zaxis\": {\"backgroundcolor\": \"#E5ECF6\", \"gridcolor\": \"white\", \"gridwidth\": 2, \"linecolor\": \"white\", \"showbackground\": true, \"ticks\": \"\", \"zerolinecolor\": \"white\"}}, \"shapedefaults\": {\"line\": {\"color\": \"#2a3f5f\"}}, \"ternary\": {\"aaxis\": {\"gridcolor\": \"white\", \"linecolor\": \"white\", \"ticks\": \"\"}, \"baxis\": {\"gridcolor\": \"white\", \"linecolor\": \"white\", \"ticks\": \"\"}, \"bgcolor\": \"#E5ECF6\", \"caxis\": {\"gridcolor\": \"white\", \"linecolor\": \"white\", \"ticks\": \"\"}}, \"title\": {\"x\": 0.05}, \"xaxis\": {\"automargin\": true, \"gridcolor\": \"white\", \"linecolor\": \"white\", \"ticks\": \"\", \"title\": {\"standoff\": 15}, \"zerolinecolor\": \"white\", \"zerolinewidth\": 2}, \"yaxis\": {\"automargin\": true, \"gridcolor\": \"white\", \"linecolor\": \"white\", \"ticks\": \"\", \"title\": {\"standoff\": 15}, \"zerolinecolor\": \"white\", \"zerolinewidth\": 2}}}, \"title\": {\"text\": \"Ra\\u00edz do Erro Quadr\\u00e1tico M\\u00e9dio para modelos SEIR e SEAPMDR\"}, \"xaxis\": {\"anchor\": \"y\", \"domain\": [0.0, 1.0], \"title\": {\"text\": \"dias\"}}, \"yaxis\": {\"anchor\": \"x\", \"domain\": [0.0, 1.0], \"title\": {\"text\": \"RMSE\"}}},                        {\"responsive\": true}                    ).then(function(){\n",
       "                            \n",
       "var gd = document.getElementById('373ae288-f016-44e4-97de-41a868cd8269');\n",
       "var x = new MutationObserver(function (mutations, observer) {{\n",
       "        var display = window.getComputedStyle(gd).display;\n",
       "        if (!display || display === 'none') {{\n",
       "            console.log([gd, 'removed!']);\n",
       "            Plotly.purge(gd);\n",
       "            observer.disconnect();\n",
       "        }}\n",
       "}});\n",
       "\n",
       "// Listen for the removal of the full notebook cells\n",
       "var notebookContainer = gd.closest('#notebook-container');\n",
       "if (notebookContainer) {{\n",
       "    x.observe(notebookContainer, {childList: true});\n",
       "}}\n",
       "\n",
       "// Listen for the clearing of the current output cell\n",
       "var outputEl = gd.closest('.output');\n",
       "if (outputEl) {{\n",
       "    x.observe(outputEl, {childList: true});\n",
       "}}\n",
       "\n",
       "                        })                };                });            </script>        </div>"
      ]
     },
     "metadata": {},
     "output_type": "display_data"
    }
   ],
   "source": [
    "performance_best = performance.loc[performance.scenario==\"worst\",:]\n",
    "performance_best = performance_best.loc[performance.days<np.int64(90),:]\n",
    "\n",
    "fig = px.line(\n",
    "    performance_best,\n",
    "    x=\"days\",\n",
    "    y=\"rmse\",\n",
    "    color=\"model\",\n",
    "    title=\"Raíz do Erro Quadrático Médio para modelos SEIR e SEAPMDR\",\n",
    "    labels={\n",
    "        \"model\": \"Modelo\",\n",
    "        \"days\": \"dias\",\n",
    "        \"rmse\": \"RMSE\",\n",
    "    }\n",
    ")\n",
    "\n",
    "fig.show()"
   ]
  }
 ],
 "metadata": {
  "kernelspec": {
   "display_name": "Python 3",
   "language": "python",
   "name": "python3"
  },
  "language_info": {
   "codemirror_mode": {
    "name": "ipython",
    "version": 3
   },
   "file_extension": ".py",
   "mimetype": "text/x-python",
   "name": "python",
   "nbconvert_exporter": "python",
   "pygments_lexer": "ipython3",
   "version": "3.8.5"
  }
 },
 "nbformat": 4,
 "nbformat_minor": 5
}
