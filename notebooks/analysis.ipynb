{
 "cells": [
  {
   "cell_type": "markdown",
   "id": "impressed-sheriff",
   "metadata": {},
   "source": [
    "# Comparação entre modelos"
   ]
  },
  {
   "cell_type": "markdown",
   "id": "israeli-marine",
   "metadata": {},
   "source": [
    "## Preparar o ambiente"
   ]
  },
  {
   "cell_type": "code",
   "execution_count": 110,
   "id": "silver-retreat",
   "metadata": {},
   "outputs": [],
   "source": [
    "import numpy as np\n",
    "import pandas as pd\n",
    "import plotly.express as px\n",
    "from sklearn.metrics import mean_squared_error"
   ]
  },
  {
   "cell_type": "markdown",
   "id": "complimentary-county",
   "metadata": {},
   "source": [
    "## Carregar os dados da retroprevisão"
   ]
  },
  {
   "cell_type": "markdown",
   "id": "amino-avenue",
   "metadata": {},
   "source": [
    "Para esta análise, utilizaremos os dados da simulação gerados com o notebook `simulation.ipynb`, bem como dados de casos retirados do [Brasil.IO](https://brasil.io/dataset/covid19/caso_full/) e tratados pelo [CoronaCidades](https://github.com/ImpulsoGov/coronacidades-datasource/)."
   ]
  },
  {
   "cell_type": "code",
   "execution_count": 77,
   "id": "destroyed-dutch",
   "metadata": {},
   "outputs": [
    {
     "data": {
      "text/html": [
       "<div>\n",
       "<style scoped>\n",
       "    .dataframe tbody tr th:only-of-type {\n",
       "        vertical-align: middle;\n",
       "    }\n",
       "\n",
       "    .dataframe tbody tr th {\n",
       "        vertical-align: top;\n",
       "    }\n",
       "\n",
       "    .dataframe thead th {\n",
       "        text-align: right;\n",
       "    }\n",
       "</style>\n",
       "<table border=\"1\" class=\"dataframe\">\n",
       "  <thead>\n",
       "    <tr style=\"text-align: right;\">\n",
       "      <th></th>\n",
       "      <th>days</th>\n",
       "      <th>S</th>\n",
       "      <th>E0</th>\n",
       "      <th>E1</th>\n",
       "      <th>I0</th>\n",
       "      <th>I1</th>\n",
       "      <th>I2</th>\n",
       "      <th>I3</th>\n",
       "      <th>R</th>\n",
       "      <th>D</th>\n",
       "      <th>N</th>\n",
       "      <th>E</th>\n",
       "      <th>scenario</th>\n",
       "      <th>model</th>\n",
       "      <th>date_prediction</th>\n",
       "      <th>state_num_id</th>\n",
       "    </tr>\n",
       "  </thead>\n",
       "  <tbody>\n",
       "    <tr>\n",
       "      <th>0</th>\n",
       "      <td>1</td>\n",
       "      <td>4.645945e+07</td>\n",
       "      <td>-382022.686501</td>\n",
       "      <td>-254681.791001</td>\n",
       "      <td>27554.700000</td>\n",
       "      <td>125319.820244</td>\n",
       "      <td>4876.996054</td>\n",
       "      <td>1016.040845</td>\n",
       "      <td>4367.000000</td>\n",
       "      <td>84.000000</td>\n",
       "      <td>4.598597e+07</td>\n",
       "      <td>-636704.477502</td>\n",
       "      <td>worst</td>\n",
       "      <td>SEAPMDR</td>\n",
       "      <td>2020-03-28</td>\n",
       "      <td>35</td>\n",
       "    </tr>\n",
       "    <tr>\n",
       "      <th>1</th>\n",
       "      <td>2</td>\n",
       "      <td>4.656272e+07</td>\n",
       "      <td>-362716.788717</td>\n",
       "      <td>-250731.435238</td>\n",
       "      <td>-11630.314559</td>\n",
       "      <td>24519.586999</td>\n",
       "      <td>100.522754</td>\n",
       "      <td>946.995765</td>\n",
       "      <td>22589.897472</td>\n",
       "      <td>166.509350</td>\n",
       "      <td>4.598597e+07</td>\n",
       "      <td>-613448.223955</td>\n",
       "      <td>worst</td>\n",
       "      <td>SEAPMDR</td>\n",
       "      <td>2020-03-28</td>\n",
       "      <td>35</td>\n",
       "    </tr>\n",
       "    <tr>\n",
       "      <th>2</th>\n",
       "      <td>3</td>\n",
       "      <td>4.671211e+07</td>\n",
       "      <td>-387975.225819</td>\n",
       "      <td>-250040.202112</td>\n",
       "      <td>-44335.782829</td>\n",
       "      <td>-59723.463938</td>\n",
       "      <td>1201.845839</td>\n",
       "      <td>842.550316</td>\n",
       "      <td>13645.365421</td>\n",
       "      <td>240.606290</td>\n",
       "      <td>4.598597e+07</td>\n",
       "      <td>-638015.427931</td>\n",
       "      <td>worst</td>\n",
       "      <td>SEAPMDR</td>\n",
       "      <td>2020-03-28</td>\n",
       "      <td>35</td>\n",
       "    </tr>\n",
       "    <tr>\n",
       "      <th>3</th>\n",
       "      <td>4</td>\n",
       "      <td>4.690574e+07</td>\n",
       "      <td>-443727.437406</td>\n",
       "      <td>-260767.904762</td>\n",
       "      <td>-72685.526178</td>\n",
       "      <td>-132585.712030</td>\n",
       "      <td>6492.176962</td>\n",
       "      <td>841.003690</td>\n",
       "      <td>-17649.622955</td>\n",
       "      <td>309.553412</td>\n",
       "      <td>4.598597e+07</td>\n",
       "      <td>-704495.342168</td>\n",
       "      <td>worst</td>\n",
       "      <td>SEAPMDR</td>\n",
       "      <td>2020-03-28</td>\n",
       "      <td>35</td>\n",
       "    </tr>\n",
       "    <tr>\n",
       "      <th>4</th>\n",
       "      <td>5</td>\n",
       "      <td>4.714730e+07</td>\n",
       "      <td>-524572.904158</td>\n",
       "      <td>-285516.434544</td>\n",
       "      <td>-99145.679195</td>\n",
       "      <td>-200008.371331</td>\n",
       "      <td>14863.038514</td>\n",
       "      <td>1026.907170</td>\n",
       "      <td>-68363.234751</td>\n",
       "      <td>385.717610</td>\n",
       "      <td>4.598597e+07</td>\n",
       "      <td>-810089.338703</td>\n",
       "      <td>worst</td>\n",
       "      <td>SEAPMDR</td>\n",
       "      <td>2020-03-28</td>\n",
       "      <td>35</td>\n",
       "    </tr>\n",
       "    <tr>\n",
       "      <th>...</th>\n",
       "      <td>...</td>\n",
       "      <td>...</td>\n",
       "      <td>...</td>\n",
       "      <td>...</td>\n",
       "      <td>...</td>\n",
       "      <td>...</td>\n",
       "      <td>...</td>\n",
       "      <td>...</td>\n",
       "      <td>...</td>\n",
       "      <td>...</td>\n",
       "      <td>...</td>\n",
       "      <td>...</td>\n",
       "      <td>...</td>\n",
       "      <td>...</td>\n",
       "      <td>...</td>\n",
       "      <td>...</td>\n",
       "    </tr>\n",
       "    <tr>\n",
       "      <th>2774039</th>\n",
       "      <td>87</td>\n",
       "      <td>2.128117e+06</td>\n",
       "      <td>NaN</td>\n",
       "      <td>NaN</td>\n",
       "      <td>NaN</td>\n",
       "      <td>3869.528170</td>\n",
       "      <td>-1713.816479</td>\n",
       "      <td>-497.028746</td>\n",
       "      <td>895728.748764</td>\n",
       "      <td>-2154.829658</td>\n",
       "      <td>3.026064e+06</td>\n",
       "      <td>2714.390975</td>\n",
       "      <td>best</td>\n",
       "      <td>SEIR</td>\n",
       "      <td>2021-01-19</td>\n",
       "      <td>53</td>\n",
       "    </tr>\n",
       "    <tr>\n",
       "      <th>2774040</th>\n",
       "      <td>88</td>\n",
       "      <td>2.127652e+06</td>\n",
       "      <td>NaN</td>\n",
       "      <td>NaN</td>\n",
       "      <td>NaN</td>\n",
       "      <td>3768.787879</td>\n",
       "      <td>-1669.434780</td>\n",
       "      <td>-484.305840</td>\n",
       "      <td>896342.348092</td>\n",
       "      <td>-2189.043296</td>\n",
       "      <td>3.026064e+06</td>\n",
       "      <td>2643.416523</td>\n",
       "      <td>best</td>\n",
       "      <td>SEIR</td>\n",
       "      <td>2021-01-19</td>\n",
       "      <td>53</td>\n",
       "    </tr>\n",
       "    <tr>\n",
       "      <th>2774041</th>\n",
       "      <td>89</td>\n",
       "      <td>2.127200e+06</td>\n",
       "      <td>NaN</td>\n",
       "      <td>NaN</td>\n",
       "      <td>NaN</td>\n",
       "      <td>3670.611200</td>\n",
       "      <td>-1626.170497</td>\n",
       "      <td>-471.894533</td>\n",
       "      <td>896939.924598</td>\n",
       "      <td>-2222.380639</td>\n",
       "      <td>3.026064e+06</td>\n",
       "      <td>2574.264106</td>\n",
       "      <td>best</td>\n",
       "      <td>SEIR</td>\n",
       "      <td>2021-01-19</td>\n",
       "      <td>53</td>\n",
       "    </tr>\n",
       "    <tr>\n",
       "      <th>2774042</th>\n",
       "      <td>90</td>\n",
       "      <td>2.126759e+06</td>\n",
       "      <td>NaN</td>\n",
       "      <td>NaN</td>\n",
       "      <td>NaN</td>\n",
       "      <td>3574.935954</td>\n",
       "      <td>-1583.997127</td>\n",
       "      <td>-459.788030</td>\n",
       "      <td>897521.888542</td>\n",
       "      <td>-2254.863176</td>\n",
       "      <td>3.026064e+06</td>\n",
       "      <td>2506.888712</td>\n",
       "      <td>best</td>\n",
       "      <td>SEIR</td>\n",
       "      <td>2021-01-19</td>\n",
       "      <td>53</td>\n",
       "    </tr>\n",
       "    <tr>\n",
       "      <th>2774043</th>\n",
       "      <td>91</td>\n",
       "      <td>2.126330e+06</td>\n",
       "      <td>NaN</td>\n",
       "      <td>NaN</td>\n",
       "      <td>NaN</td>\n",
       "      <td>3481.701312</td>\n",
       "      <td>-1542.888713</td>\n",
       "      <td>-447.979624</td>\n",
       "      <td>898088.640099</td>\n",
       "      <td>-2286.511929</td>\n",
       "      <td>3.026064e+06</td>\n",
       "      <td>2441.246347</td>\n",
       "      <td>best</td>\n",
       "      <td>SEIR</td>\n",
       "      <td>2021-01-19</td>\n",
       "      <td>53</td>\n",
       "    </tr>\n",
       "  </tbody>\n",
       "</table>\n",
       "<p>2774044 rows × 16 columns</p>\n",
       "</div>"
      ],
      "text/plain": [
       "         days             S             E0             E1            I0  \\\n",
       "0           1  4.645945e+07 -382022.686501 -254681.791001  27554.700000   \n",
       "1           2  4.656272e+07 -362716.788717 -250731.435238 -11630.314559   \n",
       "2           3  4.671211e+07 -387975.225819 -250040.202112 -44335.782829   \n",
       "3           4  4.690574e+07 -443727.437406 -260767.904762 -72685.526178   \n",
       "4           5  4.714730e+07 -524572.904158 -285516.434544 -99145.679195   \n",
       "...       ...           ...            ...            ...           ...   \n",
       "2774039    87  2.128117e+06            NaN            NaN           NaN   \n",
       "2774040    88  2.127652e+06            NaN            NaN           NaN   \n",
       "2774041    89  2.127200e+06            NaN            NaN           NaN   \n",
       "2774042    90  2.126759e+06            NaN            NaN           NaN   \n",
       "2774043    91  2.126330e+06            NaN            NaN           NaN   \n",
       "\n",
       "                    I1            I2           I3              R            D  \\\n",
       "0        125319.820244   4876.996054  1016.040845    4367.000000    84.000000   \n",
       "1         24519.586999    100.522754   946.995765   22589.897472   166.509350   \n",
       "2        -59723.463938   1201.845839   842.550316   13645.365421   240.606290   \n",
       "3       -132585.712030   6492.176962   841.003690  -17649.622955   309.553412   \n",
       "4       -200008.371331  14863.038514  1026.907170  -68363.234751   385.717610   \n",
       "...                ...           ...          ...            ...          ...   \n",
       "2774039    3869.528170  -1713.816479  -497.028746  895728.748764 -2154.829658   \n",
       "2774040    3768.787879  -1669.434780  -484.305840  896342.348092 -2189.043296   \n",
       "2774041    3670.611200  -1626.170497  -471.894533  896939.924598 -2222.380639   \n",
       "2774042    3574.935954  -1583.997127  -459.788030  897521.888542 -2254.863176   \n",
       "2774043    3481.701312  -1542.888713  -447.979624  898088.640099 -2286.511929   \n",
       "\n",
       "                    N              E scenario    model date_prediction  \\\n",
       "0        4.598597e+07 -636704.477502    worst  SEAPMDR      2020-03-28   \n",
       "1        4.598597e+07 -613448.223955    worst  SEAPMDR      2020-03-28   \n",
       "2        4.598597e+07 -638015.427931    worst  SEAPMDR      2020-03-28   \n",
       "3        4.598597e+07 -704495.342168    worst  SEAPMDR      2020-03-28   \n",
       "4        4.598597e+07 -810089.338703    worst  SEAPMDR      2020-03-28   \n",
       "...               ...            ...      ...      ...             ...   \n",
       "2774039  3.026064e+06    2714.390975     best     SEIR      2021-01-19   \n",
       "2774040  3.026064e+06    2643.416523     best     SEIR      2021-01-19   \n",
       "2774041  3.026064e+06    2574.264106     best     SEIR      2021-01-19   \n",
       "2774042  3.026064e+06    2506.888712     best     SEIR      2021-01-19   \n",
       "2774043  3.026064e+06    2441.246347     best     SEIR      2021-01-19   \n",
       "\n",
       "         state_num_id  \n",
       "0                  35  \n",
       "1                  35  \n",
       "2                  35  \n",
       "3                  35  \n",
       "4                  35  \n",
       "...               ...  \n",
       "2774039            53  \n",
       "2774040            53  \n",
       "2774041            53  \n",
       "2774042            53  \n",
       "2774043            53  \n",
       "\n",
       "[2774044 rows x 16 columns]"
      ]
     },
     "execution_count": 77,
     "metadata": {},
     "output_type": "execute_result"
    }
   ],
   "source": [
    "# load historical predictions\n",
    "df_predictions = pd.read_csv(\"../data/br-states-simulacovid-predictions.csv\")\n",
    "df_predictions[\"date_prediction\"] = pd.to_datetime(df_predictions[\"date_prediction\"])\n",
    "\n",
    "df_predictions"
   ]
  },
  {
   "cell_type": "code",
   "execution_count": 79,
   "id": "afraid-testimony",
   "metadata": {
    "scrolled": true
   },
   "outputs": [
    {
     "data": {
      "text/html": [
       "<div>\n",
       "<style scoped>\n",
       "    .dataframe tbody tr th:only-of-type {\n",
       "        vertical-align: middle;\n",
       "    }\n",
       "\n",
       "    .dataframe tbody tr th {\n",
       "        vertical-align: top;\n",
       "    }\n",
       "\n",
       "    .dataframe thead th {\n",
       "        text-align: right;\n",
       "    }\n",
       "</style>\n",
       "<table border=\"1\" class=\"dataframe\">\n",
       "  <thead>\n",
       "    <tr style=\"text-align: right;\">\n",
       "      <th></th>\n",
       "      <th>active_cases</th>\n",
       "      <th>confirmed_cases</th>\n",
       "      <th>daily_cases</th>\n",
       "      <th>daily_cases_diff_14_days</th>\n",
       "      <th>daily_cases_growth</th>\n",
       "      <th>daily_cases_mavg</th>\n",
       "      <th>daily_cases_mavg_100k</th>\n",
       "      <th>deaths</th>\n",
       "      <th>epidemiological_week</th>\n",
       "      <th>estimated_cases</th>\n",
       "      <th>...</th>\n",
       "      <th>new_deaths_growth</th>\n",
       "      <th>new_deaths_mavg</th>\n",
       "      <th>new_deaths_mavg_100k</th>\n",
       "      <th>notification_rate</th>\n",
       "      <th>population</th>\n",
       "      <th>state_id</th>\n",
       "      <th>state_name</th>\n",
       "      <th>state_num_id</th>\n",
       "      <th>total_estimated_cases</th>\n",
       "      <th>data_last_refreshed</th>\n",
       "    </tr>\n",
       "  </thead>\n",
       "  <tbody>\n",
       "    <tr>\n",
       "      <th>0</th>\n",
       "      <td>NaN</td>\n",
       "      <td>1</td>\n",
       "      <td>1</td>\n",
       "      <td>NaN</td>\n",
       "      <td>estabilizando</td>\n",
       "      <td>NaN</td>\n",
       "      <td>NaN</td>\n",
       "      <td>0</td>\n",
       "      <td>12</td>\n",
       "      <td>NaN</td>\n",
       "      <td>...</td>\n",
       "      <td>estabilizando</td>\n",
       "      <td>NaN</td>\n",
       "      <td>NaN</td>\n",
       "      <td>NaN</td>\n",
       "      <td>1777225</td>\n",
       "      <td>RO</td>\n",
       "      <td>Rondônia</td>\n",
       "      <td>11</td>\n",
       "      <td>NaN</td>\n",
       "      <td>2021-01-21 00:25:54</td>\n",
       "    </tr>\n",
       "    <tr>\n",
       "      <th>1</th>\n",
       "      <td>NaN</td>\n",
       "      <td>3</td>\n",
       "      <td>2</td>\n",
       "      <td>NaN</td>\n",
       "      <td>estabilizando</td>\n",
       "      <td>NaN</td>\n",
       "      <td>NaN</td>\n",
       "      <td>0</td>\n",
       "      <td>12</td>\n",
       "      <td>NaN</td>\n",
       "      <td>...</td>\n",
       "      <td>estabilizando</td>\n",
       "      <td>NaN</td>\n",
       "      <td>NaN</td>\n",
       "      <td>NaN</td>\n",
       "      <td>1777225</td>\n",
       "      <td>RO</td>\n",
       "      <td>Rondônia</td>\n",
       "      <td>11</td>\n",
       "      <td>NaN</td>\n",
       "      <td>2021-01-21 00:25:54</td>\n",
       "    </tr>\n",
       "    <tr>\n",
       "      <th>2</th>\n",
       "      <td>NaN</td>\n",
       "      <td>3</td>\n",
       "      <td>0</td>\n",
       "      <td>NaN</td>\n",
       "      <td>estabilizando</td>\n",
       "      <td>NaN</td>\n",
       "      <td>NaN</td>\n",
       "      <td>0</td>\n",
       "      <td>13</td>\n",
       "      <td>NaN</td>\n",
       "      <td>...</td>\n",
       "      <td>estabilizando</td>\n",
       "      <td>NaN</td>\n",
       "      <td>NaN</td>\n",
       "      <td>NaN</td>\n",
       "      <td>1777225</td>\n",
       "      <td>RO</td>\n",
       "      <td>Rondônia</td>\n",
       "      <td>11</td>\n",
       "      <td>NaN</td>\n",
       "      <td>2021-01-21 00:25:54</td>\n",
       "    </tr>\n",
       "    <tr>\n",
       "      <th>3</th>\n",
       "      <td>NaN</td>\n",
       "      <td>3</td>\n",
       "      <td>0</td>\n",
       "      <td>NaN</td>\n",
       "      <td>estabilizando</td>\n",
       "      <td>NaN</td>\n",
       "      <td>NaN</td>\n",
       "      <td>0</td>\n",
       "      <td>13</td>\n",
       "      <td>NaN</td>\n",
       "      <td>...</td>\n",
       "      <td>estabilizando</td>\n",
       "      <td>NaN</td>\n",
       "      <td>NaN</td>\n",
       "      <td>NaN</td>\n",
       "      <td>1777225</td>\n",
       "      <td>RO</td>\n",
       "      <td>Rondônia</td>\n",
       "      <td>11</td>\n",
       "      <td>NaN</td>\n",
       "      <td>2021-01-21 00:25:54</td>\n",
       "    </tr>\n",
       "    <tr>\n",
       "      <th>4</th>\n",
       "      <td>NaN</td>\n",
       "      <td>5</td>\n",
       "      <td>2</td>\n",
       "      <td>NaN</td>\n",
       "      <td>estabilizando</td>\n",
       "      <td>NaN</td>\n",
       "      <td>NaN</td>\n",
       "      <td>0</td>\n",
       "      <td>13</td>\n",
       "      <td>NaN</td>\n",
       "      <td>...</td>\n",
       "      <td>estabilizando</td>\n",
       "      <td>NaN</td>\n",
       "      <td>NaN</td>\n",
       "      <td>NaN</td>\n",
       "      <td>1777225</td>\n",
       "      <td>RO</td>\n",
       "      <td>Rondônia</td>\n",
       "      <td>11</td>\n",
       "      <td>NaN</td>\n",
       "      <td>2021-01-21 00:25:54</td>\n",
       "    </tr>\n",
       "    <tr>\n",
       "      <th>...</th>\n",
       "      <td>...</td>\n",
       "      <td>...</td>\n",
       "      <td>...</td>\n",
       "      <td>...</td>\n",
       "      <td>...</td>\n",
       "      <td>...</td>\n",
       "      <td>...</td>\n",
       "      <td>...</td>\n",
       "      <td>...</td>\n",
       "      <td>...</td>\n",
       "      <td>...</td>\n",
       "      <td>...</td>\n",
       "      <td>...</td>\n",
       "      <td>...</td>\n",
       "      <td>...</td>\n",
       "      <td>...</td>\n",
       "      <td>...</td>\n",
       "      <td>...</td>\n",
       "      <td>...</td>\n",
       "      <td>...</td>\n",
       "      <td>...</td>\n",
       "    </tr>\n",
       "    <tr>\n",
       "      <th>8474</th>\n",
       "      <td>NaN</td>\n",
       "      <td>263756</td>\n",
       "      <td>828</td>\n",
       "      <td>4.0</td>\n",
       "      <td>estabilizando</td>\n",
       "      <td>800.4</td>\n",
       "      <td>26.544904</td>\n",
       "      <td>4412</td>\n",
       "      <td>2</td>\n",
       "      <td>NaN</td>\n",
       "      <td>...</td>\n",
       "      <td>estabilizando</td>\n",
       "      <td>8.7</td>\n",
       "      <td>0.288532</td>\n",
       "      <td>NaN</td>\n",
       "      <td>3015268</td>\n",
       "      <td>DF</td>\n",
       "      <td>Distrito Federal</td>\n",
       "      <td>53</td>\n",
       "      <td>NaN</td>\n",
       "      <td>2021-01-21 00:25:54</td>\n",
       "    </tr>\n",
       "    <tr>\n",
       "      <th>8475</th>\n",
       "      <td>NaN</td>\n",
       "      <td>264227</td>\n",
       "      <td>471</td>\n",
       "      <td>4.0</td>\n",
       "      <td>estabilizando</td>\n",
       "      <td>773.7</td>\n",
       "      <td>25.659411</td>\n",
       "      <td>4421</td>\n",
       "      <td>3</td>\n",
       "      <td>NaN</td>\n",
       "      <td>...</td>\n",
       "      <td>estabilizando</td>\n",
       "      <td>9.3</td>\n",
       "      <td>0.308430</td>\n",
       "      <td>NaN</td>\n",
       "      <td>3015268</td>\n",
       "      <td>DF</td>\n",
       "      <td>Distrito Federal</td>\n",
       "      <td>53</td>\n",
       "      <td>NaN</td>\n",
       "      <td>2021-01-21 00:25:54</td>\n",
       "    </tr>\n",
       "    <tr>\n",
       "      <th>8476</th>\n",
       "      <td>NaN</td>\n",
       "      <td>265274</td>\n",
       "      <td>1047</td>\n",
       "      <td>6.0</td>\n",
       "      <td>crescendo</td>\n",
       "      <td>782.4</td>\n",
       "      <td>25.947942</td>\n",
       "      <td>4427</td>\n",
       "      <td>3</td>\n",
       "      <td>NaN</td>\n",
       "      <td>...</td>\n",
       "      <td>estabilizando</td>\n",
       "      <td>8.4</td>\n",
       "      <td>0.278582</td>\n",
       "      <td>NaN</td>\n",
       "      <td>3015268</td>\n",
       "      <td>DF</td>\n",
       "      <td>Distrito Federal</td>\n",
       "      <td>53</td>\n",
       "      <td>NaN</td>\n",
       "      <td>2021-01-21 00:25:54</td>\n",
       "    </tr>\n",
       "    <tr>\n",
       "      <th>8477</th>\n",
       "      <td>NaN</td>\n",
       "      <td>265886</td>\n",
       "      <td>612</td>\n",
       "      <td>4.0</td>\n",
       "      <td>estabilizando</td>\n",
       "      <td>727.0</td>\n",
       "      <td>24.110626</td>\n",
       "      <td>4436</td>\n",
       "      <td>3</td>\n",
       "      <td>NaN</td>\n",
       "      <td>...</td>\n",
       "      <td>estabilizando</td>\n",
       "      <td>8.7</td>\n",
       "      <td>0.288532</td>\n",
       "      <td>NaN</td>\n",
       "      <td>3015268</td>\n",
       "      <td>DF</td>\n",
       "      <td>Distrito Federal</td>\n",
       "      <td>53</td>\n",
       "      <td>NaN</td>\n",
       "      <td>2021-01-21 00:25:54</td>\n",
       "    </tr>\n",
       "    <tr>\n",
       "      <th>8478</th>\n",
       "      <td>NaN</td>\n",
       "      <td>266506</td>\n",
       "      <td>620</td>\n",
       "      <td>4.0</td>\n",
       "      <td>estabilizando</td>\n",
       "      <td>721.4</td>\n",
       "      <td>23.924905</td>\n",
       "      <td>4442</td>\n",
       "      <td>3</td>\n",
       "      <td>NaN</td>\n",
       "      <td>...</td>\n",
       "      <td>estabilizando</td>\n",
       "      <td>7.7</td>\n",
       "      <td>0.255367</td>\n",
       "      <td>NaN</td>\n",
       "      <td>3015268</td>\n",
       "      <td>DF</td>\n",
       "      <td>Distrito Federal</td>\n",
       "      <td>53</td>\n",
       "      <td>NaN</td>\n",
       "      <td>2021-01-21 00:25:54</td>\n",
       "    </tr>\n",
       "  </tbody>\n",
       "</table>\n",
       "<p>8479 rows × 27 columns</p>\n",
       "</div>"
      ],
      "text/plain": [
       "      active_cases  confirmed_cases  daily_cases  daily_cases_diff_14_days  \\\n",
       "0              NaN                1            1                       NaN   \n",
       "1              NaN                3            2                       NaN   \n",
       "2              NaN                3            0                       NaN   \n",
       "3              NaN                3            0                       NaN   \n",
       "4              NaN                5            2                       NaN   \n",
       "...            ...              ...          ...                       ...   \n",
       "8474           NaN           263756          828                       4.0   \n",
       "8475           NaN           264227          471                       4.0   \n",
       "8476           NaN           265274         1047                       6.0   \n",
       "8477           NaN           265886          612                       4.0   \n",
       "8478           NaN           266506          620                       4.0   \n",
       "\n",
       "     daily_cases_growth  daily_cases_mavg  daily_cases_mavg_100k  deaths  \\\n",
       "0         estabilizando               NaN                    NaN       0   \n",
       "1         estabilizando               NaN                    NaN       0   \n",
       "2         estabilizando               NaN                    NaN       0   \n",
       "3         estabilizando               NaN                    NaN       0   \n",
       "4         estabilizando               NaN                    NaN       0   \n",
       "...                 ...               ...                    ...     ...   \n",
       "8474      estabilizando             800.4              26.544904    4412   \n",
       "8475      estabilizando             773.7              25.659411    4421   \n",
       "8476          crescendo             782.4              25.947942    4427   \n",
       "8477      estabilizando             727.0              24.110626    4436   \n",
       "8478      estabilizando             721.4              23.924905    4442   \n",
       "\n",
       "      epidemiological_week  estimated_cases  ...  new_deaths_growth  \\\n",
       "0                       12              NaN  ...      estabilizando   \n",
       "1                       12              NaN  ...      estabilizando   \n",
       "2                       13              NaN  ...      estabilizando   \n",
       "3                       13              NaN  ...      estabilizando   \n",
       "4                       13              NaN  ...      estabilizando   \n",
       "...                    ...              ...  ...                ...   \n",
       "8474                     2              NaN  ...      estabilizando   \n",
       "8475                     3              NaN  ...      estabilizando   \n",
       "8476                     3              NaN  ...      estabilizando   \n",
       "8477                     3              NaN  ...      estabilizando   \n",
       "8478                     3              NaN  ...      estabilizando   \n",
       "\n",
       "      new_deaths_mavg  new_deaths_mavg_100k  notification_rate population  \\\n",
       "0                 NaN                   NaN                NaN    1777225   \n",
       "1                 NaN                   NaN                NaN    1777225   \n",
       "2                 NaN                   NaN                NaN    1777225   \n",
       "3                 NaN                   NaN                NaN    1777225   \n",
       "4                 NaN                   NaN                NaN    1777225   \n",
       "...               ...                   ...                ...        ...   \n",
       "8474              8.7              0.288532                NaN    3015268   \n",
       "8475              9.3              0.308430                NaN    3015268   \n",
       "8476              8.4              0.278582                NaN    3015268   \n",
       "8477              8.7              0.288532                NaN    3015268   \n",
       "8478              7.7              0.255367                NaN    3015268   \n",
       "\n",
       "      state_id        state_name state_num_id  total_estimated_cases  \\\n",
       "0           RO          Rondônia           11                    NaN   \n",
       "1           RO          Rondônia           11                    NaN   \n",
       "2           RO          Rondônia           11                    NaN   \n",
       "3           RO          Rondônia           11                    NaN   \n",
       "4           RO          Rondônia           11                    NaN   \n",
       "...        ...               ...          ...                    ...   \n",
       "8474        DF  Distrito Federal           53                    NaN   \n",
       "8475        DF  Distrito Federal           53                    NaN   \n",
       "8476        DF  Distrito Federal           53                    NaN   \n",
       "8477        DF  Distrito Federal           53                    NaN   \n",
       "8478        DF  Distrito Federal           53                    NaN   \n",
       "\n",
       "      data_last_refreshed  \n",
       "0     2021-01-21 00:25:54  \n",
       "1     2021-01-21 00:25:54  \n",
       "2     2021-01-21 00:25:54  \n",
       "3     2021-01-21 00:25:54  \n",
       "4     2021-01-21 00:25:54  \n",
       "...                   ...  \n",
       "8474  2021-01-21 00:25:54  \n",
       "8475  2021-01-21 00:25:54  \n",
       "8476  2021-01-21 00:25:54  \n",
       "8477  2021-01-21 00:25:54  \n",
       "8478  2021-01-21 00:25:54  \n",
       "\n",
       "[8479 rows x 27 columns]"
      ]
     },
     "execution_count": 79,
     "metadata": {},
     "output_type": "execute_result"
    }
   ],
   "source": [
    "# load cases\n",
    "cases_url = \"http://datasource.coronacidades.org/br/states/cases/full\"\n",
    "df_cases = pd.read_csv(cases_url)\n",
    "df_cases[\"last_updated\"] = pd.to_datetime(df_cases[\"last_updated\"])\n",
    "\n",
    "df_cases"
   ]
  },
  {
   "cell_type": "code",
   "execution_count": 80,
   "id": "natural-conviction",
   "metadata": {},
   "outputs": [
    {
     "data": {
      "text/plain": [
       "active_cases                       float64\n",
       "confirmed_cases                      int64\n",
       "daily_cases                          int64\n",
       "daily_cases_diff_14_days           float64\n",
       "daily_cases_growth                  object\n",
       "daily_cases_mavg                   float64\n",
       "daily_cases_mavg_100k              float64\n",
       "deaths                               int64\n",
       "epidemiological_week                 int64\n",
       "estimated_cases                    float64\n",
       "expected_mortality                 float64\n",
       "infectious_period_cases            float64\n",
       "is_last                               bool\n",
       "is_repeated                           bool\n",
       "last_updated                datetime64[ns]\n",
       "new_deaths                           int64\n",
       "new_deaths_diff_14_days            float64\n",
       "new_deaths_growth                   object\n",
       "new_deaths_mavg                    float64\n",
       "new_deaths_mavg_100k               float64\n",
       "notification_rate                  float64\n",
       "population                           int64\n",
       "state_id                            object\n",
       "state_name                          object\n",
       "state_num_id                         int64\n",
       "total_estimated_cases              float64\n",
       "data_last_refreshed                 object\n",
       "dtype: object"
      ]
     },
     "execution_count": 80,
     "metadata": {},
     "output_type": "execute_result"
    }
   ],
   "source": [
    "df_cases.dtypes"
   ]
  },
  {
   "cell_type": "code",
   "execution_count": 81,
   "id": "immune-sigma",
   "metadata": {},
   "outputs": [
    {
     "data": {
      "text/html": [
       "<div>\n",
       "<style scoped>\n",
       "    .dataframe tbody tr th:only-of-type {\n",
       "        vertical-align: middle;\n",
       "    }\n",
       "\n",
       "    .dataframe tbody tr th {\n",
       "        vertical-align: top;\n",
       "    }\n",
       "\n",
       "    .dataframe thead th {\n",
       "        text-align: right;\n",
       "    }\n",
       "</style>\n",
       "<table border=\"1\" class=\"dataframe\">\n",
       "  <thead>\n",
       "    <tr style=\"text-align: right;\">\n",
       "      <th></th>\n",
       "      <th>days</th>\n",
       "      <th>S</th>\n",
       "      <th>E0</th>\n",
       "      <th>E1</th>\n",
       "      <th>I0</th>\n",
       "      <th>I1</th>\n",
       "      <th>I2</th>\n",
       "      <th>I3</th>\n",
       "      <th>R</th>\n",
       "      <th>D</th>\n",
       "      <th>...</th>\n",
       "      <th>new_deaths_diff_14_days</th>\n",
       "      <th>new_deaths_growth</th>\n",
       "      <th>new_deaths_mavg</th>\n",
       "      <th>new_deaths_mavg_100k</th>\n",
       "      <th>notification_rate</th>\n",
       "      <th>population</th>\n",
       "      <th>state_id</th>\n",
       "      <th>state_name</th>\n",
       "      <th>total_estimated_cases</th>\n",
       "      <th>data_last_refreshed</th>\n",
       "    </tr>\n",
       "  </thead>\n",
       "  <tbody>\n",
       "    <tr>\n",
       "      <th>0</th>\n",
       "      <td>1</td>\n",
       "      <td>4.645945e+07</td>\n",
       "      <td>-382022.686501</td>\n",
       "      <td>-254681.791001</td>\n",
       "      <td>27554.700000</td>\n",
       "      <td>125319.820244</td>\n",
       "      <td>4876.996054</td>\n",
       "      <td>1016.040845</td>\n",
       "      <td>4367.000000</td>\n",
       "      <td>84.000000</td>\n",
       "      <td>...</td>\n",
       "      <td>13.0</td>\n",
       "      <td>crescendo</td>\n",
       "      <td>10.9</td>\n",
       "      <td>0.023737</td>\n",
       "      <td>0.013845</td>\n",
       "      <td>45919049.0</td>\n",
       "      <td>SP</td>\n",
       "      <td>São Paulo</td>\n",
       "      <td>67892.0</td>\n",
       "      <td>2021-01-21 00:25:54</td>\n",
       "    </tr>\n",
       "    <tr>\n",
       "      <th>1</th>\n",
       "      <td>2</td>\n",
       "      <td>4.656272e+07</td>\n",
       "      <td>-362716.788717</td>\n",
       "      <td>-250731.435238</td>\n",
       "      <td>-11630.314559</td>\n",
       "      <td>24519.586999</td>\n",
       "      <td>100.522754</td>\n",
       "      <td>946.995765</td>\n",
       "      <td>22589.897472</td>\n",
       "      <td>166.509350</td>\n",
       "      <td>...</td>\n",
       "      <td>14.0</td>\n",
       "      <td>crescendo</td>\n",
       "      <td>11.9</td>\n",
       "      <td>0.025915</td>\n",
       "      <td>0.013858</td>\n",
       "      <td>45919049.0</td>\n",
       "      <td>SP</td>\n",
       "      <td>São Paulo</td>\n",
       "      <td>74877.0</td>\n",
       "      <td>2021-01-21 00:25:54</td>\n",
       "    </tr>\n",
       "    <tr>\n",
       "      <th>2</th>\n",
       "      <td>3</td>\n",
       "      <td>4.671211e+07</td>\n",
       "      <td>-387975.225819</td>\n",
       "      <td>-250040.202112</td>\n",
       "      <td>-44335.782829</td>\n",
       "      <td>-59723.463938</td>\n",
       "      <td>1201.845839</td>\n",
       "      <td>842.550316</td>\n",
       "      <td>13645.365421</td>\n",
       "      <td>240.606290</td>\n",
       "      <td>...</td>\n",
       "      <td>14.0</td>\n",
       "      <td>crescendo</td>\n",
       "      <td>13.7</td>\n",
       "      <td>0.029835</td>\n",
       "      <td>0.021378</td>\n",
       "      <td>45919049.0</td>\n",
       "      <td>SP</td>\n",
       "      <td>São Paulo</td>\n",
       "      <td>81697.0</td>\n",
       "      <td>2021-01-21 00:25:54</td>\n",
       "    </tr>\n",
       "    <tr>\n",
       "      <th>3</th>\n",
       "      <td>4</td>\n",
       "      <td>4.690574e+07</td>\n",
       "      <td>-443727.437406</td>\n",
       "      <td>-260767.904762</td>\n",
       "      <td>-72685.526178</td>\n",
       "      <td>-132585.712030</td>\n",
       "      <td>6492.176962</td>\n",
       "      <td>841.003690</td>\n",
       "      <td>-17649.622955</td>\n",
       "      <td>309.553412</td>\n",
       "      <td>...</td>\n",
       "      <td>14.0</td>\n",
       "      <td>crescendo</td>\n",
       "      <td>16.6</td>\n",
       "      <td>0.036151</td>\n",
       "      <td>0.027293</td>\n",
       "      <td>45919049.0</td>\n",
       "      <td>SP</td>\n",
       "      <td>São Paulo</td>\n",
       "      <td>88578.0</td>\n",
       "      <td>2021-01-21 00:25:54</td>\n",
       "    </tr>\n",
       "    <tr>\n",
       "      <th>4</th>\n",
       "      <td>5</td>\n",
       "      <td>4.714730e+07</td>\n",
       "      <td>-524572.904158</td>\n",
       "      <td>-285516.434544</td>\n",
       "      <td>-99145.679195</td>\n",
       "      <td>-200008.371331</td>\n",
       "      <td>14863.038514</td>\n",
       "      <td>1026.907170</td>\n",
       "      <td>-68363.234751</td>\n",
       "      <td>385.717610</td>\n",
       "      <td>...</td>\n",
       "      <td>14.0</td>\n",
       "      <td>crescendo</td>\n",
       "      <td>18.6</td>\n",
       "      <td>0.040506</td>\n",
       "      <td>0.030636</td>\n",
       "      <td>45919049.0</td>\n",
       "      <td>SP</td>\n",
       "      <td>São Paulo</td>\n",
       "      <td>95685.0</td>\n",
       "      <td>2021-01-21 00:25:54</td>\n",
       "    </tr>\n",
       "    <tr>\n",
       "      <th>...</th>\n",
       "      <td>...</td>\n",
       "      <td>...</td>\n",
       "      <td>...</td>\n",
       "      <td>...</td>\n",
       "      <td>...</td>\n",
       "      <td>...</td>\n",
       "      <td>...</td>\n",
       "      <td>...</td>\n",
       "      <td>...</td>\n",
       "      <td>...</td>\n",
       "      <td>...</td>\n",
       "      <td>...</td>\n",
       "      <td>...</td>\n",
       "      <td>...</td>\n",
       "      <td>...</td>\n",
       "      <td>...</td>\n",
       "      <td>...</td>\n",
       "      <td>...</td>\n",
       "      <td>...</td>\n",
       "      <td>...</td>\n",
       "      <td>...</td>\n",
       "    </tr>\n",
       "    <tr>\n",
       "      <th>2774039</th>\n",
       "      <td>87</td>\n",
       "      <td>2.128117e+06</td>\n",
       "      <td>NaN</td>\n",
       "      <td>NaN</td>\n",
       "      <td>NaN</td>\n",
       "      <td>3869.528170</td>\n",
       "      <td>-1713.816479</td>\n",
       "      <td>-497.028746</td>\n",
       "      <td>895728.748764</td>\n",
       "      <td>-2154.829658</td>\n",
       "      <td>...</td>\n",
       "      <td>NaN</td>\n",
       "      <td>NaN</td>\n",
       "      <td>NaN</td>\n",
       "      <td>NaN</td>\n",
       "      <td>NaN</td>\n",
       "      <td>NaN</td>\n",
       "      <td>NaN</td>\n",
       "      <td>NaN</td>\n",
       "      <td>NaN</td>\n",
       "      <td>NaN</td>\n",
       "    </tr>\n",
       "    <tr>\n",
       "      <th>2774040</th>\n",
       "      <td>88</td>\n",
       "      <td>2.127652e+06</td>\n",
       "      <td>NaN</td>\n",
       "      <td>NaN</td>\n",
       "      <td>NaN</td>\n",
       "      <td>3768.787879</td>\n",
       "      <td>-1669.434780</td>\n",
       "      <td>-484.305840</td>\n",
       "      <td>896342.348092</td>\n",
       "      <td>-2189.043296</td>\n",
       "      <td>...</td>\n",
       "      <td>NaN</td>\n",
       "      <td>NaN</td>\n",
       "      <td>NaN</td>\n",
       "      <td>NaN</td>\n",
       "      <td>NaN</td>\n",
       "      <td>NaN</td>\n",
       "      <td>NaN</td>\n",
       "      <td>NaN</td>\n",
       "      <td>NaN</td>\n",
       "      <td>NaN</td>\n",
       "    </tr>\n",
       "    <tr>\n",
       "      <th>2774041</th>\n",
       "      <td>89</td>\n",
       "      <td>2.127200e+06</td>\n",
       "      <td>NaN</td>\n",
       "      <td>NaN</td>\n",
       "      <td>NaN</td>\n",
       "      <td>3670.611200</td>\n",
       "      <td>-1626.170497</td>\n",
       "      <td>-471.894533</td>\n",
       "      <td>896939.924598</td>\n",
       "      <td>-2222.380639</td>\n",
       "      <td>...</td>\n",
       "      <td>NaN</td>\n",
       "      <td>NaN</td>\n",
       "      <td>NaN</td>\n",
       "      <td>NaN</td>\n",
       "      <td>NaN</td>\n",
       "      <td>NaN</td>\n",
       "      <td>NaN</td>\n",
       "      <td>NaN</td>\n",
       "      <td>NaN</td>\n",
       "      <td>NaN</td>\n",
       "    </tr>\n",
       "    <tr>\n",
       "      <th>2774042</th>\n",
       "      <td>90</td>\n",
       "      <td>2.126759e+06</td>\n",
       "      <td>NaN</td>\n",
       "      <td>NaN</td>\n",
       "      <td>NaN</td>\n",
       "      <td>3574.935954</td>\n",
       "      <td>-1583.997127</td>\n",
       "      <td>-459.788030</td>\n",
       "      <td>897521.888542</td>\n",
       "      <td>-2254.863176</td>\n",
       "      <td>...</td>\n",
       "      <td>NaN</td>\n",
       "      <td>NaN</td>\n",
       "      <td>NaN</td>\n",
       "      <td>NaN</td>\n",
       "      <td>NaN</td>\n",
       "      <td>NaN</td>\n",
       "      <td>NaN</td>\n",
       "      <td>NaN</td>\n",
       "      <td>NaN</td>\n",
       "      <td>NaN</td>\n",
       "    </tr>\n",
       "    <tr>\n",
       "      <th>2774043</th>\n",
       "      <td>91</td>\n",
       "      <td>2.126330e+06</td>\n",
       "      <td>NaN</td>\n",
       "      <td>NaN</td>\n",
       "      <td>NaN</td>\n",
       "      <td>3481.701312</td>\n",
       "      <td>-1542.888713</td>\n",
       "      <td>-447.979624</td>\n",
       "      <td>898088.640099</td>\n",
       "      <td>-2286.511929</td>\n",
       "      <td>...</td>\n",
       "      <td>NaN</td>\n",
       "      <td>NaN</td>\n",
       "      <td>NaN</td>\n",
       "      <td>NaN</td>\n",
       "      <td>NaN</td>\n",
       "      <td>NaN</td>\n",
       "      <td>NaN</td>\n",
       "      <td>NaN</td>\n",
       "      <td>NaN</td>\n",
       "      <td>NaN</td>\n",
       "    </tr>\n",
       "  </tbody>\n",
       "</table>\n",
       "<p>2774044 rows × 43 columns</p>\n",
       "</div>"
      ],
      "text/plain": [
       "         days             S             E0             E1            I0  \\\n",
       "0           1  4.645945e+07 -382022.686501 -254681.791001  27554.700000   \n",
       "1           2  4.656272e+07 -362716.788717 -250731.435238 -11630.314559   \n",
       "2           3  4.671211e+07 -387975.225819 -250040.202112 -44335.782829   \n",
       "3           4  4.690574e+07 -443727.437406 -260767.904762 -72685.526178   \n",
       "4           5  4.714730e+07 -524572.904158 -285516.434544 -99145.679195   \n",
       "...       ...           ...            ...            ...           ...   \n",
       "2774039    87  2.128117e+06            NaN            NaN           NaN   \n",
       "2774040    88  2.127652e+06            NaN            NaN           NaN   \n",
       "2774041    89  2.127200e+06            NaN            NaN           NaN   \n",
       "2774042    90  2.126759e+06            NaN            NaN           NaN   \n",
       "2774043    91  2.126330e+06            NaN            NaN           NaN   \n",
       "\n",
       "                    I1            I2           I3              R            D  \\\n",
       "0        125319.820244   4876.996054  1016.040845    4367.000000    84.000000   \n",
       "1         24519.586999    100.522754   946.995765   22589.897472   166.509350   \n",
       "2        -59723.463938   1201.845839   842.550316   13645.365421   240.606290   \n",
       "3       -132585.712030   6492.176962   841.003690  -17649.622955   309.553412   \n",
       "4       -200008.371331  14863.038514  1026.907170  -68363.234751   385.717610   \n",
       "...                ...           ...          ...            ...          ...   \n",
       "2774039    3869.528170  -1713.816479  -497.028746  895728.748764 -2154.829658   \n",
       "2774040    3768.787879  -1669.434780  -484.305840  896342.348092 -2189.043296   \n",
       "2774041    3670.611200  -1626.170497  -471.894533  896939.924598 -2222.380639   \n",
       "2774042    3574.935954  -1583.997127  -459.788030  897521.888542 -2254.863176   \n",
       "2774043    3481.701312  -1542.888713  -447.979624  898088.640099 -2286.511929   \n",
       "\n",
       "         ...  new_deaths_diff_14_days  new_deaths_growth new_deaths_mavg  \\\n",
       "0        ...                     13.0          crescendo            10.9   \n",
       "1        ...                     14.0          crescendo            11.9   \n",
       "2        ...                     14.0          crescendo            13.7   \n",
       "3        ...                     14.0          crescendo            16.6   \n",
       "4        ...                     14.0          crescendo            18.6   \n",
       "...      ...                      ...                ...             ...   \n",
       "2774039  ...                      NaN                NaN             NaN   \n",
       "2774040  ...                      NaN                NaN             NaN   \n",
       "2774041  ...                      NaN                NaN             NaN   \n",
       "2774042  ...                      NaN                NaN             NaN   \n",
       "2774043  ...                      NaN                NaN             NaN   \n",
       "\n",
       "        new_deaths_mavg_100k notification_rate  population state_id  \\\n",
       "0                   0.023737          0.013845  45919049.0       SP   \n",
       "1                   0.025915          0.013858  45919049.0       SP   \n",
       "2                   0.029835          0.021378  45919049.0       SP   \n",
       "3                   0.036151          0.027293  45919049.0       SP   \n",
       "4                   0.040506          0.030636  45919049.0       SP   \n",
       "...                      ...               ...         ...      ...   \n",
       "2774039                  NaN               NaN         NaN      NaN   \n",
       "2774040                  NaN               NaN         NaN      NaN   \n",
       "2774041                  NaN               NaN         NaN      NaN   \n",
       "2774042                  NaN               NaN         NaN      NaN   \n",
       "2774043                  NaN               NaN         NaN      NaN   \n",
       "\n",
       "         state_name  total_estimated_cases  data_last_refreshed  \n",
       "0         São Paulo                67892.0  2021-01-21 00:25:54  \n",
       "1         São Paulo                74877.0  2021-01-21 00:25:54  \n",
       "2         São Paulo                81697.0  2021-01-21 00:25:54  \n",
       "3         São Paulo                88578.0  2021-01-21 00:25:54  \n",
       "4         São Paulo                95685.0  2021-01-21 00:25:54  \n",
       "...             ...                    ...                  ...  \n",
       "2774039         NaN                    NaN                  NaN  \n",
       "2774040         NaN                    NaN                  NaN  \n",
       "2774041         NaN                    NaN                  NaN  \n",
       "2774042         NaN                    NaN                  NaN  \n",
       "2774043         NaN                    NaN                  NaN  \n",
       "\n",
       "[2774044 rows x 43 columns]"
      ]
     },
     "execution_count": 81,
     "metadata": {},
     "output_type": "execute_result"
    }
   ],
   "source": [
    "# merge DataFrame with predictions with DataFrame with cases in the correspondent date\n",
    "\n",
    "df_predictions[\"reference_date\"]=(\n",
    "    df_predictions.apply(lambda row: row[\"date_prediction\"] + pd.Timedelta(days=row[\"days\"]), axis=1)\n",
    ")\n",
    "\n",
    "df_predictions = df_predictions.merge(\n",
    "    df_cases, how=\"left\", left_on=[\"state_num_id\", \"reference_date\"], right_on=[\"state_num_id\", \"last_updated\"]\n",
    ")\n",
    "\n",
    "df_predictions"
   ]
  },
  {
   "cell_type": "markdown",
   "id": "expressed-injury",
   "metadata": {},
   "source": [
    "## Comparar previsto com efetivo"
   ]
  },
  {
   "cell_type": "markdown",
   "id": "democratic-camping",
   "metadata": {},
   "source": [
    "Utilizaremos as retroprojeções para estimar a qualidade de ambos os modelos em análise."
   ]
  },
  {
   "cell_type": "code",
   "execution_count": 95,
   "id": "essential-tonight",
   "metadata": {},
   "outputs": [
    {
     "data": {
      "text/html": [
       "<div>\n",
       "<style scoped>\n",
       "    .dataframe tbody tr th:only-of-type {\n",
       "        vertical-align: middle;\n",
       "    }\n",
       "\n",
       "    .dataframe tbody tr th {\n",
       "        vertical-align: top;\n",
       "    }\n",
       "\n",
       "    .dataframe thead th {\n",
       "        text-align: right;\n",
       "    }\n",
       "</style>\n",
       "<table border=\"1\" class=\"dataframe\">\n",
       "  <thead>\n",
       "    <tr style=\"text-align: right;\">\n",
       "      <th></th>\n",
       "      <th>model</th>\n",
       "      <th>days</th>\n",
       "      <th>scenario</th>\n",
       "      <th>reference_date</th>\n",
       "      <th>state_num_id</th>\n",
       "      <th>I</th>\n",
       "      <th>estimated_cases</th>\n",
       "      <th>population</th>\n",
       "      <th>predicted_ppc</th>\n",
       "      <th>infected_ppc</th>\n",
       "    </tr>\n",
       "  </thead>\n",
       "  <tbody>\n",
       "    <tr>\n",
       "      <th>0</th>\n",
       "      <td>SEAPMDR</td>\n",
       "      <td>1</td>\n",
       "      <td>worst</td>\n",
       "      <td>2020-03-29</td>\n",
       "      <td>35</td>\n",
       "      <td>158767.557143</td>\n",
       "      <td>6674.0</td>\n",
       "      <td>45919049.0</td>\n",
       "      <td>0.003458</td>\n",
       "      <td>0.000145</td>\n",
       "    </tr>\n",
       "    <tr>\n",
       "      <th>1</th>\n",
       "      <td>SEAPMDR</td>\n",
       "      <td>2</td>\n",
       "      <td>worst</td>\n",
       "      <td>2020-03-30</td>\n",
       "      <td>35</td>\n",
       "      <td>13936.790959</td>\n",
       "      <td>6985.0</td>\n",
       "      <td>45919049.0</td>\n",
       "      <td>0.000304</td>\n",
       "      <td>0.000152</td>\n",
       "    </tr>\n",
       "    <tr>\n",
       "      <th>2</th>\n",
       "      <td>SEAPMDR</td>\n",
       "      <td>3</td>\n",
       "      <td>worst</td>\n",
       "      <td>2020-03-31</td>\n",
       "      <td>35</td>\n",
       "      <td>-102014.850612</td>\n",
       "      <td>6820.0</td>\n",
       "      <td>45919049.0</td>\n",
       "      <td>-0.002222</td>\n",
       "      <td>0.000149</td>\n",
       "    </tr>\n",
       "    <tr>\n",
       "      <th>3</th>\n",
       "      <td>SEAPMDR</td>\n",
       "      <td>4</td>\n",
       "      <td>worst</td>\n",
       "      <td>2020-04-01</td>\n",
       "      <td>35</td>\n",
       "      <td>-197938.057556</td>\n",
       "      <td>6881.0</td>\n",
       "      <td>45919049.0</td>\n",
       "      <td>-0.004311</td>\n",
       "      <td>0.000150</td>\n",
       "    </tr>\n",
       "    <tr>\n",
       "      <th>4</th>\n",
       "      <td>SEAPMDR</td>\n",
       "      <td>5</td>\n",
       "      <td>worst</td>\n",
       "      <td>2020-04-02</td>\n",
       "      <td>35</td>\n",
       "      <td>-283264.104841</td>\n",
       "      <td>7107.0</td>\n",
       "      <td>45919049.0</td>\n",
       "      <td>-0.006169</td>\n",
       "      <td>0.000155</td>\n",
       "    </tr>\n",
       "    <tr>\n",
       "      <th>...</th>\n",
       "      <td>...</td>\n",
       "      <td>...</td>\n",
       "      <td>...</td>\n",
       "      <td>...</td>\n",
       "      <td>...</td>\n",
       "      <td>...</td>\n",
       "      <td>...</td>\n",
       "      <td>...</td>\n",
       "      <td>...</td>\n",
       "      <td>...</td>\n",
       "    </tr>\n",
       "    <tr>\n",
       "      <th>2586857</th>\n",
       "      <td>SEIR</td>\n",
       "      <td>1</td>\n",
       "      <td>best</td>\n",
       "      <td>2021-01-01</td>\n",
       "      <td>52</td>\n",
       "      <td>54810.000000</td>\n",
       "      <td>3405.0</td>\n",
       "      <td>7018354.0</td>\n",
       "      <td>0.007810</td>\n",
       "      <td>0.000485</td>\n",
       "    </tr>\n",
       "    <tr>\n",
       "      <th>2586948</th>\n",
       "      <td>SEAPMDR</td>\n",
       "      <td>1</td>\n",
       "      <td>worst</td>\n",
       "      <td>2021-01-01</td>\n",
       "      <td>53</td>\n",
       "      <td>43544.442857</td>\n",
       "      <td>1423.0</td>\n",
       "      <td>3015268.0</td>\n",
       "      <td>0.014441</td>\n",
       "      <td>0.000472</td>\n",
       "    </tr>\n",
       "    <tr>\n",
       "      <th>2587039</th>\n",
       "      <td>SEAPMDR</td>\n",
       "      <td>1</td>\n",
       "      <td>best</td>\n",
       "      <td>2021-01-01</td>\n",
       "      <td>53</td>\n",
       "      <td>43544.442857</td>\n",
       "      <td>1423.0</td>\n",
       "      <td>3015268.0</td>\n",
       "      <td>0.014441</td>\n",
       "      <td>0.000472</td>\n",
       "    </tr>\n",
       "    <tr>\n",
       "      <th>2587130</th>\n",
       "      <td>SEIR</td>\n",
       "      <td>1</td>\n",
       "      <td>worst</td>\n",
       "      <td>2021-01-01</td>\n",
       "      <td>53</td>\n",
       "      <td>35987.142857</td>\n",
       "      <td>1423.0</td>\n",
       "      <td>3015268.0</td>\n",
       "      <td>0.011935</td>\n",
       "      <td>0.000472</td>\n",
       "    </tr>\n",
       "    <tr>\n",
       "      <th>2587221</th>\n",
       "      <td>SEIR</td>\n",
       "      <td>1</td>\n",
       "      <td>best</td>\n",
       "      <td>2021-01-01</td>\n",
       "      <td>53</td>\n",
       "      <td>35987.142857</td>\n",
       "      <td>1423.0</td>\n",
       "      <td>3015268.0</td>\n",
       "      <td>0.011935</td>\n",
       "      <td>0.000472</td>\n",
       "    </tr>\n",
       "  </tbody>\n",
       "</table>\n",
       "<p>2143785 rows × 10 columns</p>\n",
       "</div>"
      ],
      "text/plain": [
       "           model  days scenario reference_date  state_num_id              I  \\\n",
       "0        SEAPMDR     1    worst     2020-03-29            35  158767.557143   \n",
       "1        SEAPMDR     2    worst     2020-03-30            35   13936.790959   \n",
       "2        SEAPMDR     3    worst     2020-03-31            35 -102014.850612   \n",
       "3        SEAPMDR     4    worst     2020-04-01            35 -197938.057556   \n",
       "4        SEAPMDR     5    worst     2020-04-02            35 -283264.104841   \n",
       "...          ...   ...      ...            ...           ...            ...   \n",
       "2586857     SEIR     1     best     2021-01-01            52   54810.000000   \n",
       "2586948  SEAPMDR     1    worst     2021-01-01            53   43544.442857   \n",
       "2587039  SEAPMDR     1     best     2021-01-01            53   43544.442857   \n",
       "2587130     SEIR     1    worst     2021-01-01            53   35987.142857   \n",
       "2587221     SEIR     1     best     2021-01-01            53   35987.142857   \n",
       "\n",
       "         estimated_cases  population  predicted_ppc  infected_ppc  \n",
       "0                 6674.0  45919049.0       0.003458      0.000145  \n",
       "1                 6985.0  45919049.0       0.000304      0.000152  \n",
       "2                 6820.0  45919049.0      -0.002222      0.000149  \n",
       "3                 6881.0  45919049.0      -0.004311      0.000150  \n",
       "4                 7107.0  45919049.0      -0.006169      0.000155  \n",
       "...                  ...         ...            ...           ...  \n",
       "2586857           3405.0   7018354.0       0.007810      0.000485  \n",
       "2586948           1423.0   3015268.0       0.014441      0.000472  \n",
       "2587039           1423.0   3015268.0       0.014441      0.000472  \n",
       "2587130           1423.0   3015268.0       0.011935      0.000472  \n",
       "2587221           1423.0   3015268.0       0.011935      0.000472  \n",
       "\n",
       "[2143785 rows x 10 columns]"
      ]
     },
     "execution_count": 95,
     "metadata": {},
     "output_type": "execute_result"
    }
   ],
   "source": [
    "# filter dataset\n",
    "df_predictions[\"I\"] = df_predictions[\"I0\"].fillna(0) + df_predictions[\"I1\"] + df_predictions[\"I2\"] + df_predictions[\"I3\"]\n",
    "predicted_vs_seen = df_predictions[[\"model\", \"days\", \"scenario\", \"reference_date\", \"state_num_id\", \"I\", \"estimated_cases\", \"population\"]].dropna()\n",
    "predicted_vs_seen[\"predicted_ppc\"] = predicted_vs_seen[\"I\"] / predicted_vs_seen[\"population\"]\n",
    "predicted_vs_seen[\"infected_ppc\"] = predicted_vs_seen[\"estimated_cases\"] / predicted_vs_seen[\"population\"]\n",
    "predicted_vs_seen.drop(columns=[\"I\", \"estimated_cases\", \"population\"])\n",
    "\n",
    "predicted_vs_seen"
   ]
  },
  {
   "cell_type": "markdown",
   "id": "rental-vessel",
   "metadata": {},
   "source": [
    "Para avaliar a qualidade dos modelos, utilizamos a [raíz do erro quadrático médio (RMSE)](https://en.wikipedia.org/wiki/Root-mean-square_deviation), que expressa os resíduos não explicados pelo modelo, na mesma escala original (número de infectados per capita) - ou seja, quanto menor, melhor."
   ]
  },
  {
   "cell_type": "code",
   "execution_count": 122,
   "id": "plastic-macro",
   "metadata": {},
   "outputs": [
    {
     "name": "stderr",
     "output_type": "stream",
     "text": [
      "/mnt/c/Users/bernardo.baron/Projetos/impulsogov-desafio-simulacovid/.venv/lib/python3.8/site-packages/sklearn/metrics/_regression.py:338: RuntimeWarning:\n",
      "\n",
      "overflow encountered in square\n",
      "\n",
      "/mnt/c/Users/bernardo.baron/Projetos/impulsogov-desafio-simulacovid/.venv/lib/python3.8/site-packages/sklearn/metrics/_regression.py:338: RuntimeWarning:\n",
      "\n",
      "overflow encountered in square\n",
      "\n",
      "/mnt/c/Users/bernardo.baron/Projetos/impulsogov-desafio-simulacovid/.venv/lib/python3.8/site-packages/sklearn/metrics/_regression.py:338: RuntimeWarning:\n",
      "\n",
      "overflow encountered in square\n",
      "\n",
      "/mnt/c/Users/bernardo.baron/Projetos/impulsogov-desafio-simulacovid/.venv/lib/python3.8/site-packages/sklearn/metrics/_regression.py:338: RuntimeWarning:\n",
      "\n",
      "overflow encountered in square\n",
      "\n",
      "/mnt/c/Users/bernardo.baron/Projetos/impulsogov-desafio-simulacovid/.venv/lib/python3.8/site-packages/sklearn/metrics/_regression.py:338: RuntimeWarning:\n",
      "\n",
      "overflow encountered in square\n",
      "\n",
      "/mnt/c/Users/bernardo.baron/Projetos/impulsogov-desafio-simulacovid/.venv/lib/python3.8/site-packages/sklearn/metrics/_regression.py:338: RuntimeWarning:\n",
      "\n",
      "overflow encountered in square\n",
      "\n",
      "/mnt/c/Users/bernardo.baron/Projetos/impulsogov-desafio-simulacovid/.venv/lib/python3.8/site-packages/sklearn/metrics/_regression.py:338: RuntimeWarning:\n",
      "\n",
      "overflow encountered in square\n",
      "\n",
      "/mnt/c/Users/bernardo.baron/Projetos/impulsogov-desafio-simulacovid/.venv/lib/python3.8/site-packages/sklearn/metrics/_regression.py:338: RuntimeWarning:\n",
      "\n",
      "overflow encountered in square\n",
      "\n",
      "/mnt/c/Users/bernardo.baron/Projetos/impulsogov-desafio-simulacovid/.venv/lib/python3.8/site-packages/sklearn/metrics/_regression.py:338: RuntimeWarning:\n",
      "\n",
      "overflow encountered in square\n",
      "\n",
      "/mnt/c/Users/bernardo.baron/Projetos/impulsogov-desafio-simulacovid/.venv/lib/python3.8/site-packages/sklearn/metrics/_regression.py:338: RuntimeWarning:\n",
      "\n",
      "overflow encountered in square\n",
      "\n",
      "/mnt/c/Users/bernardo.baron/Projetos/impulsogov-desafio-simulacovid/.venv/lib/python3.8/site-packages/sklearn/metrics/_regression.py:338: RuntimeWarning:\n",
      "\n",
      "overflow encountered in square\n",
      "\n"
     ]
    },
    {
     "data": {
      "text/html": [
       "<div>\n",
       "<style scoped>\n",
       "    .dataframe tbody tr th:only-of-type {\n",
       "        vertical-align: middle;\n",
       "    }\n",
       "\n",
       "    .dataframe tbody tr th {\n",
       "        vertical-align: top;\n",
       "    }\n",
       "\n",
       "    .dataframe thead th {\n",
       "        text-align: right;\n",
       "    }\n",
       "</style>\n",
       "<table border=\"1\" class=\"dataframe\">\n",
       "  <thead>\n",
       "    <tr style=\"text-align: right;\">\n",
       "      <th></th>\n",
       "      <th>model</th>\n",
       "      <th>days</th>\n",
       "      <th>scenario</th>\n",
       "      <th>rmse</th>\n",
       "    </tr>\n",
       "  </thead>\n",
       "  <tbody>\n",
       "    <tr>\n",
       "      <th>0</th>\n",
       "      <td>SEAPMDR</td>\n",
       "      <td>1</td>\n",
       "      <td>best</td>\n",
       "      <td>0.021540</td>\n",
       "    </tr>\n",
       "    <tr>\n",
       "      <th>1</th>\n",
       "      <td>SEAPMDR</td>\n",
       "      <td>1</td>\n",
       "      <td>worst</td>\n",
       "      <td>0.021540</td>\n",
       "    </tr>\n",
       "    <tr>\n",
       "      <th>2</th>\n",
       "      <td>SEAPMDR</td>\n",
       "      <td>2</td>\n",
       "      <td>best</td>\n",
       "      <td>0.008567</td>\n",
       "    </tr>\n",
       "    <tr>\n",
       "      <th>3</th>\n",
       "      <td>SEAPMDR</td>\n",
       "      <td>2</td>\n",
       "      <td>worst</td>\n",
       "      <td>0.007488</td>\n",
       "    </tr>\n",
       "    <tr>\n",
       "      <th>4</th>\n",
       "      <td>SEAPMDR</td>\n",
       "      <td>3</td>\n",
       "      <td>best</td>\n",
       "      <td>0.004360</td>\n",
       "    </tr>\n",
       "    <tr>\n",
       "      <th>...</th>\n",
       "      <td>...</td>\n",
       "      <td>...</td>\n",
       "      <td>...</td>\n",
       "      <td>...</td>\n",
       "    </tr>\n",
       "    <tr>\n",
       "      <th>359</th>\n",
       "      <td>SEIR</td>\n",
       "      <td>89</td>\n",
       "      <td>worst</td>\n",
       "      <td>0.011029</td>\n",
       "    </tr>\n",
       "    <tr>\n",
       "      <th>360</th>\n",
       "      <td>SEIR</td>\n",
       "      <td>90</td>\n",
       "      <td>best</td>\n",
       "      <td>0.009571</td>\n",
       "    </tr>\n",
       "    <tr>\n",
       "      <th>361</th>\n",
       "      <td>SEIR</td>\n",
       "      <td>90</td>\n",
       "      <td>worst</td>\n",
       "      <td>0.010800</td>\n",
       "    </tr>\n",
       "    <tr>\n",
       "      <th>362</th>\n",
       "      <td>SEIR</td>\n",
       "      <td>91</td>\n",
       "      <td>best</td>\n",
       "      <td>0.009466</td>\n",
       "    </tr>\n",
       "    <tr>\n",
       "      <th>363</th>\n",
       "      <td>SEIR</td>\n",
       "      <td>91</td>\n",
       "      <td>worst</td>\n",
       "      <td>0.010576</td>\n",
       "    </tr>\n",
       "  </tbody>\n",
       "</table>\n",
       "<p>364 rows × 4 columns</p>\n",
       "</div>"
      ],
      "text/plain": [
       "       model  days scenario      rmse\n",
       "0    SEAPMDR     1     best  0.021540\n",
       "1    SEAPMDR     1    worst  0.021540\n",
       "2    SEAPMDR     2     best  0.008567\n",
       "3    SEAPMDR     2    worst  0.007488\n",
       "4    SEAPMDR     3     best  0.004360\n",
       "..       ...   ...      ...       ...\n",
       "359     SEIR    89    worst  0.011029\n",
       "360     SEIR    90     best  0.009571\n",
       "361     SEIR    90    worst  0.010800\n",
       "362     SEIR    91     best  0.009466\n",
       "363     SEIR    91    worst  0.010576\n",
       "\n",
       "[364 rows x 4 columns]"
      ]
     },
     "execution_count": 122,
     "metadata": {},
     "output_type": "execute_result"
    }
   ],
   "source": [
    "def rmse( g ):\n",
    "    \"\"\"Generates RMSE values for a pd.DataFrame.\"\"\"\n",
    "    # CREDIT: https://stackoverflow.com/a/47914634\n",
    "    # TODO: abstract column names\n",
    "    rmse = np.sqrt(mean_squared_error( g['infected_ppc'], g['predicted_ppc'] ) )\n",
    "    return pd.Series(rmse)\n",
    "\n",
    "performance = (\n",
    "    predicted_vs_seen\n",
    "    .groupby([\"model\", \"days\", \"scenario\"])\n",
    "    .apply(rmse)\n",
    "    .rename(columns={0:\"rmse\"})\n",
    "    .reset_index()\n",
    ")\n",
    "\n",
    "performance"
   ]
  },
  {
   "cell_type": "markdown",
   "id": "partial-enemy",
   "metadata": {},
   "source": [
    "### Visualização dos resultados \n",
    "\n",
    "O gráfico a seguir fornece uma visualização de como os resíduos de ambos os modelos se comportam com o aumento do número de dias da previsão. \n",
    "\n",
    "Conforme se pode pode observar na figura, ambos os modelos tem resultados bastante parecidos nos primeiros dias. Porém, o modelo original (SEIR) tende a manter resíduos significativamente menores do que o modelo modificado (SEAPMDR) a partir do 18º dia, quando o resíduo desse segundo modelo aumenta em mais de uma ordem de grandeza."
   ]
  },
  {
   "cell_type": "code",
   "execution_count": 127,
   "id": "brief-diploma",
   "metadata": {},
   "outputs": [
    {
     "data": {
      "application/vnd.plotly.v1+json": {
       "config": {
        "plotlyServerURL": "https://plot.ly"
       },
       "data": [
        {
         "hovertemplate": "Modelo=SEAPMDR<br>dias=%{x}<br>RMSE=%{y}<extra></extra>",
         "legendgroup": "SEAPMDR",
         "line": {
          "color": "#636efa",
          "dash": "solid"
         },
         "mode": "lines",
         "name": "SEAPMDR",
         "orientation": "v",
         "showlegend": true,
         "type": "scatter",
         "x": [
          1,
          2,
          3,
          4,
          5,
          6,
          7,
          8,
          9,
          10,
          11,
          12,
          13,
          14,
          15,
          16,
          17,
          18,
          19,
          20
         ],
         "xaxis": "x",
         "y": [
          0.021539997322803112,
          0.008567333638928774,
          0.004359729639394589,
          0.01038116769734544,
          0.015273767601046187,
          0.018725918593079864,
          0.021166426170098042,
          0.022977453627302302,
          0.02445702907789442,
          0.025835497782390075,
          0.02729558167975014,
          0.02899896239749152,
          0.031118096907984925,
          0.03387328928218364,
          0.037613342227006116,
          0.043010031394395326,
          0.05171273760491162,
          0.0699825504329625,
          0.6747172587471657,
          1.3728444355177305
         ],
         "yaxis": "y"
        },
        {
         "hovertemplate": "Modelo=SEIR<br>dias=%{x}<br>RMSE=%{y}<extra></extra>",
         "legendgroup": "SEIR",
         "line": {
          "color": "#EF553B",
          "dash": "solid"
         },
         "mode": "lines",
         "name": "SEIR",
         "orientation": "v",
         "showlegend": true,
         "type": "scatter",
         "x": [
          1,
          2,
          3,
          4,
          5,
          6,
          7,
          8,
          9,
          10,
          11,
          12,
          13,
          14,
          15,
          16,
          17,
          18,
          19,
          20
         ],
         "xaxis": "x",
         "y": [
          0.017642316462958756,
          0.016259075526109168,
          0.015154325563185357,
          0.014273474633892742,
          0.013574952895932468,
          0.013028847166193454,
          0.012609795864523883,
          0.012295811465113236,
          0.01206874182585262,
          0.011915242288965643,
          0.011823856751214149,
          0.011783893019985904,
          0.011787496733652703,
          0.011827625411850692,
          0.011898345219226553,
          0.011992969842637594,
          0.012107547869417607,
          0.012238679149517043,
          0.012382111840625881,
          0.012535237306890813
         ],
         "yaxis": "y"
        }
       ],
       "layout": {
        "legend": {
         "title": {
          "text": "Modelo"
         },
         "tracegroupgap": 0
        },
        "template": {
         "data": {
          "bar": [
           {
            "error_x": {
             "color": "#2a3f5f"
            },
            "error_y": {
             "color": "#2a3f5f"
            },
            "marker": {
             "line": {
              "color": "#E5ECF6",
              "width": 0.5
             }
            },
            "type": "bar"
           }
          ],
          "barpolar": [
           {
            "marker": {
             "line": {
              "color": "#E5ECF6",
              "width": 0.5
             }
            },
            "type": "barpolar"
           }
          ],
          "carpet": [
           {
            "aaxis": {
             "endlinecolor": "#2a3f5f",
             "gridcolor": "white",
             "linecolor": "white",
             "minorgridcolor": "white",
             "startlinecolor": "#2a3f5f"
            },
            "baxis": {
             "endlinecolor": "#2a3f5f",
             "gridcolor": "white",
             "linecolor": "white",
             "minorgridcolor": "white",
             "startlinecolor": "#2a3f5f"
            },
            "type": "carpet"
           }
          ],
          "choropleth": [
           {
            "colorbar": {
             "outlinewidth": 0,
             "ticks": ""
            },
            "type": "choropleth"
           }
          ],
          "contour": [
           {
            "colorbar": {
             "outlinewidth": 0,
             "ticks": ""
            },
            "colorscale": [
             [
              0,
              "#0d0887"
             ],
             [
              0.1111111111111111,
              "#46039f"
             ],
             [
              0.2222222222222222,
              "#7201a8"
             ],
             [
              0.3333333333333333,
              "#9c179e"
             ],
             [
              0.4444444444444444,
              "#bd3786"
             ],
             [
              0.5555555555555556,
              "#d8576b"
             ],
             [
              0.6666666666666666,
              "#ed7953"
             ],
             [
              0.7777777777777778,
              "#fb9f3a"
             ],
             [
              0.8888888888888888,
              "#fdca26"
             ],
             [
              1,
              "#f0f921"
             ]
            ],
            "type": "contour"
           }
          ],
          "contourcarpet": [
           {
            "colorbar": {
             "outlinewidth": 0,
             "ticks": ""
            },
            "type": "contourcarpet"
           }
          ],
          "heatmap": [
           {
            "colorbar": {
             "outlinewidth": 0,
             "ticks": ""
            },
            "colorscale": [
             [
              0,
              "#0d0887"
             ],
             [
              0.1111111111111111,
              "#46039f"
             ],
             [
              0.2222222222222222,
              "#7201a8"
             ],
             [
              0.3333333333333333,
              "#9c179e"
             ],
             [
              0.4444444444444444,
              "#bd3786"
             ],
             [
              0.5555555555555556,
              "#d8576b"
             ],
             [
              0.6666666666666666,
              "#ed7953"
             ],
             [
              0.7777777777777778,
              "#fb9f3a"
             ],
             [
              0.8888888888888888,
              "#fdca26"
             ],
             [
              1,
              "#f0f921"
             ]
            ],
            "type": "heatmap"
           }
          ],
          "heatmapgl": [
           {
            "colorbar": {
             "outlinewidth": 0,
             "ticks": ""
            },
            "colorscale": [
             [
              0,
              "#0d0887"
             ],
             [
              0.1111111111111111,
              "#46039f"
             ],
             [
              0.2222222222222222,
              "#7201a8"
             ],
             [
              0.3333333333333333,
              "#9c179e"
             ],
             [
              0.4444444444444444,
              "#bd3786"
             ],
             [
              0.5555555555555556,
              "#d8576b"
             ],
             [
              0.6666666666666666,
              "#ed7953"
             ],
             [
              0.7777777777777778,
              "#fb9f3a"
             ],
             [
              0.8888888888888888,
              "#fdca26"
             ],
             [
              1,
              "#f0f921"
             ]
            ],
            "type": "heatmapgl"
           }
          ],
          "histogram": [
           {
            "marker": {
             "colorbar": {
              "outlinewidth": 0,
              "ticks": ""
             }
            },
            "type": "histogram"
           }
          ],
          "histogram2d": [
           {
            "colorbar": {
             "outlinewidth": 0,
             "ticks": ""
            },
            "colorscale": [
             [
              0,
              "#0d0887"
             ],
             [
              0.1111111111111111,
              "#46039f"
             ],
             [
              0.2222222222222222,
              "#7201a8"
             ],
             [
              0.3333333333333333,
              "#9c179e"
             ],
             [
              0.4444444444444444,
              "#bd3786"
             ],
             [
              0.5555555555555556,
              "#d8576b"
             ],
             [
              0.6666666666666666,
              "#ed7953"
             ],
             [
              0.7777777777777778,
              "#fb9f3a"
             ],
             [
              0.8888888888888888,
              "#fdca26"
             ],
             [
              1,
              "#f0f921"
             ]
            ],
            "type": "histogram2d"
           }
          ],
          "histogram2dcontour": [
           {
            "colorbar": {
             "outlinewidth": 0,
             "ticks": ""
            },
            "colorscale": [
             [
              0,
              "#0d0887"
             ],
             [
              0.1111111111111111,
              "#46039f"
             ],
             [
              0.2222222222222222,
              "#7201a8"
             ],
             [
              0.3333333333333333,
              "#9c179e"
             ],
             [
              0.4444444444444444,
              "#bd3786"
             ],
             [
              0.5555555555555556,
              "#d8576b"
             ],
             [
              0.6666666666666666,
              "#ed7953"
             ],
             [
              0.7777777777777778,
              "#fb9f3a"
             ],
             [
              0.8888888888888888,
              "#fdca26"
             ],
             [
              1,
              "#f0f921"
             ]
            ],
            "type": "histogram2dcontour"
           }
          ],
          "mesh3d": [
           {
            "colorbar": {
             "outlinewidth": 0,
             "ticks": ""
            },
            "type": "mesh3d"
           }
          ],
          "parcoords": [
           {
            "line": {
             "colorbar": {
              "outlinewidth": 0,
              "ticks": ""
             }
            },
            "type": "parcoords"
           }
          ],
          "pie": [
           {
            "automargin": true,
            "type": "pie"
           }
          ],
          "scatter": [
           {
            "marker": {
             "colorbar": {
              "outlinewidth": 0,
              "ticks": ""
             }
            },
            "type": "scatter"
           }
          ],
          "scatter3d": [
           {
            "line": {
             "colorbar": {
              "outlinewidth": 0,
              "ticks": ""
             }
            },
            "marker": {
             "colorbar": {
              "outlinewidth": 0,
              "ticks": ""
             }
            },
            "type": "scatter3d"
           }
          ],
          "scattercarpet": [
           {
            "marker": {
             "colorbar": {
              "outlinewidth": 0,
              "ticks": ""
             }
            },
            "type": "scattercarpet"
           }
          ],
          "scattergeo": [
           {
            "marker": {
             "colorbar": {
              "outlinewidth": 0,
              "ticks": ""
             }
            },
            "type": "scattergeo"
           }
          ],
          "scattergl": [
           {
            "marker": {
             "colorbar": {
              "outlinewidth": 0,
              "ticks": ""
             }
            },
            "type": "scattergl"
           }
          ],
          "scattermapbox": [
           {
            "marker": {
             "colorbar": {
              "outlinewidth": 0,
              "ticks": ""
             }
            },
            "type": "scattermapbox"
           }
          ],
          "scatterpolar": [
           {
            "marker": {
             "colorbar": {
              "outlinewidth": 0,
              "ticks": ""
             }
            },
            "type": "scatterpolar"
           }
          ],
          "scatterpolargl": [
           {
            "marker": {
             "colorbar": {
              "outlinewidth": 0,
              "ticks": ""
             }
            },
            "type": "scatterpolargl"
           }
          ],
          "scatterternary": [
           {
            "marker": {
             "colorbar": {
              "outlinewidth": 0,
              "ticks": ""
             }
            },
            "type": "scatterternary"
           }
          ],
          "surface": [
           {
            "colorbar": {
             "outlinewidth": 0,
             "ticks": ""
            },
            "colorscale": [
             [
              0,
              "#0d0887"
             ],
             [
              0.1111111111111111,
              "#46039f"
             ],
             [
              0.2222222222222222,
              "#7201a8"
             ],
             [
              0.3333333333333333,
              "#9c179e"
             ],
             [
              0.4444444444444444,
              "#bd3786"
             ],
             [
              0.5555555555555556,
              "#d8576b"
             ],
             [
              0.6666666666666666,
              "#ed7953"
             ],
             [
              0.7777777777777778,
              "#fb9f3a"
             ],
             [
              0.8888888888888888,
              "#fdca26"
             ],
             [
              1,
              "#f0f921"
             ]
            ],
            "type": "surface"
           }
          ],
          "table": [
           {
            "cells": {
             "fill": {
              "color": "#EBF0F8"
             },
             "line": {
              "color": "white"
             }
            },
            "header": {
             "fill": {
              "color": "#C8D4E3"
             },
             "line": {
              "color": "white"
             }
            },
            "type": "table"
           }
          ]
         },
         "layout": {
          "annotationdefaults": {
           "arrowcolor": "#2a3f5f",
           "arrowhead": 0,
           "arrowwidth": 1
          },
          "autotypenumbers": "strict",
          "coloraxis": {
           "colorbar": {
            "outlinewidth": 0,
            "ticks": ""
           }
          },
          "colorscale": {
           "diverging": [
            [
             0,
             "#8e0152"
            ],
            [
             0.1,
             "#c51b7d"
            ],
            [
             0.2,
             "#de77ae"
            ],
            [
             0.3,
             "#f1b6da"
            ],
            [
             0.4,
             "#fde0ef"
            ],
            [
             0.5,
             "#f7f7f7"
            ],
            [
             0.6,
             "#e6f5d0"
            ],
            [
             0.7,
             "#b8e186"
            ],
            [
             0.8,
             "#7fbc41"
            ],
            [
             0.9,
             "#4d9221"
            ],
            [
             1,
             "#276419"
            ]
           ],
           "sequential": [
            [
             0,
             "#0d0887"
            ],
            [
             0.1111111111111111,
             "#46039f"
            ],
            [
             0.2222222222222222,
             "#7201a8"
            ],
            [
             0.3333333333333333,
             "#9c179e"
            ],
            [
             0.4444444444444444,
             "#bd3786"
            ],
            [
             0.5555555555555556,
             "#d8576b"
            ],
            [
             0.6666666666666666,
             "#ed7953"
            ],
            [
             0.7777777777777778,
             "#fb9f3a"
            ],
            [
             0.8888888888888888,
             "#fdca26"
            ],
            [
             1,
             "#f0f921"
            ]
           ],
           "sequentialminus": [
            [
             0,
             "#0d0887"
            ],
            [
             0.1111111111111111,
             "#46039f"
            ],
            [
             0.2222222222222222,
             "#7201a8"
            ],
            [
             0.3333333333333333,
             "#9c179e"
            ],
            [
             0.4444444444444444,
             "#bd3786"
            ],
            [
             0.5555555555555556,
             "#d8576b"
            ],
            [
             0.6666666666666666,
             "#ed7953"
            ],
            [
             0.7777777777777778,
             "#fb9f3a"
            ],
            [
             0.8888888888888888,
             "#fdca26"
            ],
            [
             1,
             "#f0f921"
            ]
           ]
          },
          "colorway": [
           "#636efa",
           "#EF553B",
           "#00cc96",
           "#ab63fa",
           "#FFA15A",
           "#19d3f3",
           "#FF6692",
           "#B6E880",
           "#FF97FF",
           "#FECB52"
          ],
          "font": {
           "color": "#2a3f5f"
          },
          "geo": {
           "bgcolor": "white",
           "lakecolor": "white",
           "landcolor": "#E5ECF6",
           "showlakes": true,
           "showland": true,
           "subunitcolor": "white"
          },
          "hoverlabel": {
           "align": "left"
          },
          "hovermode": "closest",
          "mapbox": {
           "style": "light"
          },
          "paper_bgcolor": "white",
          "plot_bgcolor": "#E5ECF6",
          "polar": {
           "angularaxis": {
            "gridcolor": "white",
            "linecolor": "white",
            "ticks": ""
           },
           "bgcolor": "#E5ECF6",
           "radialaxis": {
            "gridcolor": "white",
            "linecolor": "white",
            "ticks": ""
           }
          },
          "scene": {
           "xaxis": {
            "backgroundcolor": "#E5ECF6",
            "gridcolor": "white",
            "gridwidth": 2,
            "linecolor": "white",
            "showbackground": true,
            "ticks": "",
            "zerolinecolor": "white"
           },
           "yaxis": {
            "backgroundcolor": "#E5ECF6",
            "gridcolor": "white",
            "gridwidth": 2,
            "linecolor": "white",
            "showbackground": true,
            "ticks": "",
            "zerolinecolor": "white"
           },
           "zaxis": {
            "backgroundcolor": "#E5ECF6",
            "gridcolor": "white",
            "gridwidth": 2,
            "linecolor": "white",
            "showbackground": true,
            "ticks": "",
            "zerolinecolor": "white"
           }
          },
          "shapedefaults": {
           "line": {
            "color": "#2a3f5f"
           }
          },
          "ternary": {
           "aaxis": {
            "gridcolor": "white",
            "linecolor": "white",
            "ticks": ""
           },
           "baxis": {
            "gridcolor": "white",
            "linecolor": "white",
            "ticks": ""
           },
           "bgcolor": "#E5ECF6",
           "caxis": {
            "gridcolor": "white",
            "linecolor": "white",
            "ticks": ""
           }
          },
          "title": {
           "x": 0.05
          },
          "xaxis": {
           "automargin": true,
           "gridcolor": "white",
           "linecolor": "white",
           "ticks": "",
           "title": {
            "standoff": 15
           },
           "zerolinecolor": "white",
           "zerolinewidth": 2
          },
          "yaxis": {
           "automargin": true,
           "gridcolor": "white",
           "linecolor": "white",
           "ticks": "",
           "title": {
            "standoff": 15
           },
           "zerolinecolor": "white",
           "zerolinewidth": 2
          }
         }
        },
        "title": {
         "text": "Raíz do Erro Quadrático Médio para modelos SEIR e SEAPMDR"
        },
        "xaxis": {
         "anchor": "y",
         "domain": [
          0,
          1
         ],
         "title": {
          "text": "dias"
         }
        },
        "yaxis": {
         "anchor": "x",
         "domain": [
          0,
          1
         ],
         "title": {
          "text": "RMSE"
         }
        }
       }
      },
      "text/html": [
       "<div>                            <div id=\"c286ca54-affa-4e34-95c3-64a7a8a2d3d9\" class=\"plotly-graph-div\" style=\"height:525px; width:100%;\"></div>            <script type=\"text/javascript\">                require([\"plotly\"], function(Plotly) {                    window.PLOTLYENV=window.PLOTLYENV || {};                                    if (document.getElementById(\"c286ca54-affa-4e34-95c3-64a7a8a2d3d9\")) {                    Plotly.newPlot(                        \"c286ca54-affa-4e34-95c3-64a7a8a2d3d9\",                        [{\"hovertemplate\": \"Modelo=SEAPMDR<br>dias=%{x}<br>RMSE=%{y}<extra></extra>\", \"legendgroup\": \"SEAPMDR\", \"line\": {\"color\": \"#636efa\", \"dash\": \"solid\"}, \"mode\": \"lines\", \"name\": \"SEAPMDR\", \"orientation\": \"v\", \"showlegend\": true, \"type\": \"scatter\", \"x\": [1, 2, 3, 4, 5, 6, 7, 8, 9, 10, 11, 12, 13, 14, 15, 16, 17, 18, 19, 20], \"xaxis\": \"x\", \"y\": [0.021539997322803112, 0.008567333638928774, 0.004359729639394589, 0.01038116769734544, 0.015273767601046187, 0.018725918593079864, 0.021166426170098042, 0.022977453627302302, 0.02445702907789442, 0.025835497782390075, 0.02729558167975014, 0.02899896239749152, 0.031118096907984925, 0.03387328928218364, 0.037613342227006116, 0.043010031394395326, 0.05171273760491162, 0.0699825504329625, 0.6747172587471657, 1.3728444355177305], \"yaxis\": \"y\"}, {\"hovertemplate\": \"Modelo=SEIR<br>dias=%{x}<br>RMSE=%{y}<extra></extra>\", \"legendgroup\": \"SEIR\", \"line\": {\"color\": \"#EF553B\", \"dash\": \"solid\"}, \"mode\": \"lines\", \"name\": \"SEIR\", \"orientation\": \"v\", \"showlegend\": true, \"type\": \"scatter\", \"x\": [1, 2, 3, 4, 5, 6, 7, 8, 9, 10, 11, 12, 13, 14, 15, 16, 17, 18, 19, 20], \"xaxis\": \"x\", \"y\": [0.017642316462958756, 0.016259075526109168, 0.015154325563185357, 0.014273474633892742, 0.013574952895932468, 0.013028847166193454, 0.012609795864523883, 0.012295811465113236, 0.01206874182585262, 0.011915242288965643, 0.011823856751214149, 0.011783893019985904, 0.011787496733652703, 0.011827625411850692, 0.011898345219226553, 0.011992969842637594, 0.012107547869417607, 0.012238679149517043, 0.012382111840625881, 0.012535237306890813], \"yaxis\": \"y\"}],                        {\"legend\": {\"title\": {\"text\": \"Modelo\"}, \"tracegroupgap\": 0}, \"template\": {\"data\": {\"bar\": [{\"error_x\": {\"color\": \"#2a3f5f\"}, \"error_y\": {\"color\": \"#2a3f5f\"}, \"marker\": {\"line\": {\"color\": \"#E5ECF6\", \"width\": 0.5}}, \"type\": \"bar\"}], \"barpolar\": [{\"marker\": {\"line\": {\"color\": \"#E5ECF6\", \"width\": 0.5}}, \"type\": \"barpolar\"}], \"carpet\": [{\"aaxis\": {\"endlinecolor\": \"#2a3f5f\", \"gridcolor\": \"white\", \"linecolor\": \"white\", \"minorgridcolor\": \"white\", \"startlinecolor\": \"#2a3f5f\"}, \"baxis\": {\"endlinecolor\": \"#2a3f5f\", \"gridcolor\": \"white\", \"linecolor\": \"white\", \"minorgridcolor\": \"white\", \"startlinecolor\": \"#2a3f5f\"}, \"type\": \"carpet\"}], \"choropleth\": [{\"colorbar\": {\"outlinewidth\": 0, \"ticks\": \"\"}, \"type\": \"choropleth\"}], \"contour\": [{\"colorbar\": {\"outlinewidth\": 0, \"ticks\": \"\"}, \"colorscale\": [[0.0, \"#0d0887\"], [0.1111111111111111, \"#46039f\"], [0.2222222222222222, \"#7201a8\"], [0.3333333333333333, \"#9c179e\"], [0.4444444444444444, \"#bd3786\"], [0.5555555555555556, \"#d8576b\"], [0.6666666666666666, \"#ed7953\"], [0.7777777777777778, \"#fb9f3a\"], [0.8888888888888888, \"#fdca26\"], [1.0, \"#f0f921\"]], \"type\": \"contour\"}], \"contourcarpet\": [{\"colorbar\": {\"outlinewidth\": 0, \"ticks\": \"\"}, \"type\": \"contourcarpet\"}], \"heatmap\": [{\"colorbar\": {\"outlinewidth\": 0, \"ticks\": \"\"}, \"colorscale\": [[0.0, \"#0d0887\"], [0.1111111111111111, \"#46039f\"], [0.2222222222222222, \"#7201a8\"], [0.3333333333333333, \"#9c179e\"], [0.4444444444444444, \"#bd3786\"], [0.5555555555555556, \"#d8576b\"], [0.6666666666666666, \"#ed7953\"], [0.7777777777777778, \"#fb9f3a\"], [0.8888888888888888, \"#fdca26\"], [1.0, \"#f0f921\"]], \"type\": \"heatmap\"}], \"heatmapgl\": [{\"colorbar\": {\"outlinewidth\": 0, \"ticks\": \"\"}, \"colorscale\": [[0.0, \"#0d0887\"], [0.1111111111111111, \"#46039f\"], [0.2222222222222222, \"#7201a8\"], [0.3333333333333333, \"#9c179e\"], [0.4444444444444444, \"#bd3786\"], [0.5555555555555556, \"#d8576b\"], [0.6666666666666666, \"#ed7953\"], [0.7777777777777778, \"#fb9f3a\"], [0.8888888888888888, \"#fdca26\"], [1.0, \"#f0f921\"]], \"type\": \"heatmapgl\"}], \"histogram\": [{\"marker\": {\"colorbar\": {\"outlinewidth\": 0, \"ticks\": \"\"}}, \"type\": \"histogram\"}], \"histogram2d\": [{\"colorbar\": {\"outlinewidth\": 0, \"ticks\": \"\"}, \"colorscale\": [[0.0, \"#0d0887\"], [0.1111111111111111, \"#46039f\"], [0.2222222222222222, \"#7201a8\"], [0.3333333333333333, \"#9c179e\"], [0.4444444444444444, \"#bd3786\"], [0.5555555555555556, \"#d8576b\"], [0.6666666666666666, \"#ed7953\"], [0.7777777777777778, \"#fb9f3a\"], [0.8888888888888888, \"#fdca26\"], [1.0, \"#f0f921\"]], \"type\": \"histogram2d\"}], \"histogram2dcontour\": [{\"colorbar\": {\"outlinewidth\": 0, \"ticks\": \"\"}, \"colorscale\": [[0.0, \"#0d0887\"], [0.1111111111111111, \"#46039f\"], [0.2222222222222222, \"#7201a8\"], [0.3333333333333333, \"#9c179e\"], [0.4444444444444444, \"#bd3786\"], [0.5555555555555556, \"#d8576b\"], [0.6666666666666666, \"#ed7953\"], [0.7777777777777778, \"#fb9f3a\"], [0.8888888888888888, \"#fdca26\"], [1.0, \"#f0f921\"]], \"type\": \"histogram2dcontour\"}], \"mesh3d\": [{\"colorbar\": {\"outlinewidth\": 0, \"ticks\": \"\"}, \"type\": \"mesh3d\"}], \"parcoords\": [{\"line\": {\"colorbar\": {\"outlinewidth\": 0, \"ticks\": \"\"}}, \"type\": \"parcoords\"}], \"pie\": [{\"automargin\": true, \"type\": \"pie\"}], \"scatter\": [{\"marker\": {\"colorbar\": {\"outlinewidth\": 0, \"ticks\": \"\"}}, \"type\": \"scatter\"}], \"scatter3d\": [{\"line\": {\"colorbar\": {\"outlinewidth\": 0, \"ticks\": \"\"}}, \"marker\": {\"colorbar\": {\"outlinewidth\": 0, \"ticks\": \"\"}}, \"type\": \"scatter3d\"}], \"scattercarpet\": [{\"marker\": {\"colorbar\": {\"outlinewidth\": 0, \"ticks\": \"\"}}, \"type\": \"scattercarpet\"}], \"scattergeo\": [{\"marker\": {\"colorbar\": {\"outlinewidth\": 0, \"ticks\": \"\"}}, \"type\": \"scattergeo\"}], \"scattergl\": [{\"marker\": {\"colorbar\": {\"outlinewidth\": 0, \"ticks\": \"\"}}, \"type\": \"scattergl\"}], \"scattermapbox\": [{\"marker\": {\"colorbar\": {\"outlinewidth\": 0, \"ticks\": \"\"}}, \"type\": \"scattermapbox\"}], \"scatterpolar\": [{\"marker\": {\"colorbar\": {\"outlinewidth\": 0, \"ticks\": \"\"}}, \"type\": \"scatterpolar\"}], \"scatterpolargl\": [{\"marker\": {\"colorbar\": {\"outlinewidth\": 0, \"ticks\": \"\"}}, \"type\": \"scatterpolargl\"}], \"scatterternary\": [{\"marker\": {\"colorbar\": {\"outlinewidth\": 0, \"ticks\": \"\"}}, \"type\": \"scatterternary\"}], \"surface\": [{\"colorbar\": {\"outlinewidth\": 0, \"ticks\": \"\"}, \"colorscale\": [[0.0, \"#0d0887\"], [0.1111111111111111, \"#46039f\"], [0.2222222222222222, \"#7201a8\"], [0.3333333333333333, \"#9c179e\"], [0.4444444444444444, \"#bd3786\"], [0.5555555555555556, \"#d8576b\"], [0.6666666666666666, \"#ed7953\"], [0.7777777777777778, \"#fb9f3a\"], [0.8888888888888888, \"#fdca26\"], [1.0, \"#f0f921\"]], \"type\": \"surface\"}], \"table\": [{\"cells\": {\"fill\": {\"color\": \"#EBF0F8\"}, \"line\": {\"color\": \"white\"}}, \"header\": {\"fill\": {\"color\": \"#C8D4E3\"}, \"line\": {\"color\": \"white\"}}, \"type\": \"table\"}]}, \"layout\": {\"annotationdefaults\": {\"arrowcolor\": \"#2a3f5f\", \"arrowhead\": 0, \"arrowwidth\": 1}, \"autotypenumbers\": \"strict\", \"coloraxis\": {\"colorbar\": {\"outlinewidth\": 0, \"ticks\": \"\"}}, \"colorscale\": {\"diverging\": [[0, \"#8e0152\"], [0.1, \"#c51b7d\"], [0.2, \"#de77ae\"], [0.3, \"#f1b6da\"], [0.4, \"#fde0ef\"], [0.5, \"#f7f7f7\"], [0.6, \"#e6f5d0\"], [0.7, \"#b8e186\"], [0.8, \"#7fbc41\"], [0.9, \"#4d9221\"], [1, \"#276419\"]], \"sequential\": [[0.0, \"#0d0887\"], [0.1111111111111111, \"#46039f\"], [0.2222222222222222, \"#7201a8\"], [0.3333333333333333, \"#9c179e\"], [0.4444444444444444, \"#bd3786\"], [0.5555555555555556, \"#d8576b\"], [0.6666666666666666, \"#ed7953\"], [0.7777777777777778, \"#fb9f3a\"], [0.8888888888888888, \"#fdca26\"], [1.0, \"#f0f921\"]], \"sequentialminus\": [[0.0, \"#0d0887\"], [0.1111111111111111, \"#46039f\"], [0.2222222222222222, \"#7201a8\"], [0.3333333333333333, \"#9c179e\"], [0.4444444444444444, \"#bd3786\"], [0.5555555555555556, \"#d8576b\"], [0.6666666666666666, \"#ed7953\"], [0.7777777777777778, \"#fb9f3a\"], [0.8888888888888888, \"#fdca26\"], [1.0, \"#f0f921\"]]}, \"colorway\": [\"#636efa\", \"#EF553B\", \"#00cc96\", \"#ab63fa\", \"#FFA15A\", \"#19d3f3\", \"#FF6692\", \"#B6E880\", \"#FF97FF\", \"#FECB52\"], \"font\": {\"color\": \"#2a3f5f\"}, \"geo\": {\"bgcolor\": \"white\", \"lakecolor\": \"white\", \"landcolor\": \"#E5ECF6\", \"showlakes\": true, \"showland\": true, \"subunitcolor\": \"white\"}, \"hoverlabel\": {\"align\": \"left\"}, \"hovermode\": \"closest\", \"mapbox\": {\"style\": \"light\"}, \"paper_bgcolor\": \"white\", \"plot_bgcolor\": \"#E5ECF6\", \"polar\": {\"angularaxis\": {\"gridcolor\": \"white\", \"linecolor\": \"white\", \"ticks\": \"\"}, \"bgcolor\": \"#E5ECF6\", \"radialaxis\": {\"gridcolor\": \"white\", \"linecolor\": \"white\", \"ticks\": \"\"}}, \"scene\": {\"xaxis\": {\"backgroundcolor\": \"#E5ECF6\", \"gridcolor\": \"white\", \"gridwidth\": 2, \"linecolor\": \"white\", \"showbackground\": true, \"ticks\": \"\", \"zerolinecolor\": \"white\"}, \"yaxis\": {\"backgroundcolor\": \"#E5ECF6\", \"gridcolor\": \"white\", \"gridwidth\": 2, \"linecolor\": \"white\", \"showbackground\": true, \"ticks\": \"\", \"zerolinecolor\": \"white\"}, \"zaxis\": {\"backgroundcolor\": \"#E5ECF6\", \"gridcolor\": \"white\", \"gridwidth\": 2, \"linecolor\": \"white\", \"showbackground\": true, \"ticks\": \"\", \"zerolinecolor\": \"white\"}}, \"shapedefaults\": {\"line\": {\"color\": \"#2a3f5f\"}}, \"ternary\": {\"aaxis\": {\"gridcolor\": \"white\", \"linecolor\": \"white\", \"ticks\": \"\"}, \"baxis\": {\"gridcolor\": \"white\", \"linecolor\": \"white\", \"ticks\": \"\"}, \"bgcolor\": \"#E5ECF6\", \"caxis\": {\"gridcolor\": \"white\", \"linecolor\": \"white\", \"ticks\": \"\"}}, \"title\": {\"x\": 0.05}, \"xaxis\": {\"automargin\": true, \"gridcolor\": \"white\", \"linecolor\": \"white\", \"ticks\": \"\", \"title\": {\"standoff\": 15}, \"zerolinecolor\": \"white\", \"zerolinewidth\": 2}, \"yaxis\": {\"automargin\": true, \"gridcolor\": \"white\", \"linecolor\": \"white\", \"ticks\": \"\", \"title\": {\"standoff\": 15}, \"zerolinecolor\": \"white\", \"zerolinewidth\": 2}}}, \"title\": {\"text\": \"Ra\\u00edz do Erro Quadr\\u00e1tico M\\u00e9dio para modelos SEIR e SEAPMDR\"}, \"xaxis\": {\"anchor\": \"y\", \"domain\": [0.0, 1.0], \"title\": {\"text\": \"dias\"}}, \"yaxis\": {\"anchor\": \"x\", \"domain\": [0.0, 1.0], \"title\": {\"text\": \"RMSE\"}}},                        {\"responsive\": true}                    ).then(function(){\n",
       "                            \n",
       "var gd = document.getElementById('c286ca54-affa-4e34-95c3-64a7a8a2d3d9');\n",
       "var x = new MutationObserver(function (mutations, observer) {{\n",
       "        var display = window.getComputedStyle(gd).display;\n",
       "        if (!display || display === 'none') {{\n",
       "            console.log([gd, 'removed!']);\n",
       "            Plotly.purge(gd);\n",
       "            observer.disconnect();\n",
       "        }}\n",
       "}});\n",
       "\n",
       "// Listen for the removal of the full notebook cells\n",
       "var notebookContainer = gd.closest('#notebook-container');\n",
       "if (notebookContainer) {{\n",
       "    x.observe(notebookContainer, {childList: true});\n",
       "}}\n",
       "\n",
       "// Listen for the clearing of the current output cell\n",
       "var outputEl = gd.closest('.output');\n",
       "if (outputEl) {{\n",
       "    x.observe(outputEl, {childList: true});\n",
       "}}\n",
       "\n",
       "                        })                };                });            </script>        </div>"
      ]
     },
     "metadata": {},
     "output_type": "display_data"
    }
   ],
   "source": [
    "performance_best = performance.loc[performance.scenario==\"best\",:]\n",
    "performance_best = performance_best.loc[performance.days<np.int64(21),:]\n",
    "\n",
    "fig = px.line(\n",
    "    performance_best,\n",
    "    x=\"days\",\n",
    "    y=\"rmse\",\n",
    "    color=\"model\",\n",
    "    title=\"Raíz do Erro Quadrático Médio para modelos SEIR e SEAPMDR\",\n",
    "    labels={\n",
    "        \"model\": \"Modelo\",\n",
    "        \"days\": \"dias\",\n",
    "        \"rmse\": \"RMSE\",\n",
    "    }\n",
    ")\n",
    "\n",
    "fig.show()"
   ]
  }
 ],
 "metadata": {
  "kernelspec": {
   "display_name": "Python 3",
   "language": "python",
   "name": "python3"
  },
  "language_info": {
   "codemirror_mode": {
    "name": "ipython",
    "version": 3
   },
   "file_extension": ".py",
   "mimetype": "text/x-python",
   "name": "python",
   "nbconvert_exporter": "python",
   "pygments_lexer": "ipython3",
   "version": "3.8.5"
  }
 },
 "nbformat": 4,
 "nbformat_minor": 5
}
